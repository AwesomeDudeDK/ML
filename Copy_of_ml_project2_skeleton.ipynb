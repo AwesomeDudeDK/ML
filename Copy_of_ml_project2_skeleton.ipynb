{
  "metadata": {
    "kernelspec": {
      "language": "python",
      "display_name": "Python 3",
      "name": "python3"
    },
    "language_info": {
      "pygments_lexer": "ipython3",
      "nbconvert_exporter": "python",
      "version": "3.6.4",
      "file_extension": ".py",
      "codemirror_mode": {
        "name": "ipython",
        "version": 3
      },
      "name": "python",
      "mimetype": "text/x-python"
    },
    "colab": {
      "provenance": [],
      "gpuType": "T4"
    },
    "accelerator": "GPU",
    "gpuClass": "standard"
  },
  "nbformat_minor": 0,
  "nbformat": 4,
  "cells": [
    {
      "cell_type": "markdown",
      "source": [
        "## Project 2: Titanic Competition with deep learning"
      ],
      "metadata": {
        "id": "SIteabbx20Rk"
      }
    },
    {
      "cell_type": "markdown",
      "source": [
        "In this notebook we build and train a deep learning model without using a high-level API library to solve Kaggle's [Titanic](https://www.kaggle.com/competitions/titanic/) competition!"
      ],
      "metadata": {
        "id": "9oIA9ryi20Rm"
      }
    },
    {
      "cell_type": "code",
      "source": [
        "!pip install kaggle"
      ],
      "metadata": {
        "colab": {
          "base_uri": "https://localhost:8080/"
        },
        "id": "_0ktC7JP3sBt",
        "outputId": "77637874-c192-4c93-96b4-34ba1b2aaf33"
      },
      "execution_count": null,
      "outputs": [
        {
          "output_type": "stream",
          "name": "stdout",
          "text": [
            "Looking in indexes: https://pypi.org/simple, https://us-python.pkg.dev/colab-wheels/public/simple/\n",
            "Requirement already satisfied: kaggle in /usr/local/lib/python3.10/dist-packages (1.5.13)\n",
            "Requirement already satisfied: six>=1.10 in /usr/local/lib/python3.10/dist-packages (from kaggle) (1.16.0)\n",
            "Requirement already satisfied: certifi in /usr/local/lib/python3.10/dist-packages (from kaggle) (2022.12.7)\n",
            "Requirement already satisfied: python-dateutil in /usr/local/lib/python3.10/dist-packages (from kaggle) (2.8.2)\n",
            "Requirement already satisfied: requests in /usr/local/lib/python3.10/dist-packages (from kaggle) (2.27.1)\n",
            "Requirement already satisfied: tqdm in /usr/local/lib/python3.10/dist-packages (from kaggle) (4.65.0)\n",
            "Requirement already satisfied: python-slugify in /usr/local/lib/python3.10/dist-packages (from kaggle) (8.0.1)\n",
            "Requirement already satisfied: urllib3 in /usr/local/lib/python3.10/dist-packages (from kaggle) (1.26.15)\n",
            "Requirement already satisfied: text-unidecode>=1.3 in /usr/local/lib/python3.10/dist-packages (from python-slugify->kaggle) (1.3)\n",
            "Requirement already satisfied: charset-normalizer~=2.0.0 in /usr/local/lib/python3.10/dist-packages (from requests->kaggle) (2.0.12)\n",
            "Requirement already satisfied: idna<4,>=2.5 in /usr/local/lib/python3.10/dist-packages (from requests->kaggle) (3.4)\n"
          ]
        }
      ]
    },
    {
      "cell_type": "code",
      "source": [
        "creds = '{\"username\":\"zhukevin2020\",\"key\":\"dc4317bf07a05827b700557e31aca195\"}'"
      ],
      "metadata": {
        "id": "71DvzYZ83_Ws"
      },
      "execution_count": null,
      "outputs": []
    },
    {
      "cell_type": "code",
      "source": [
        "from pathlib import Path\n",
        "\n",
        "cred_path = Path('~/.kaggle/kaggle.json').expanduser()\n",
        "if not cred_path.exists():\n",
        "    cred_path.parent.mkdir(exist_ok=True)\n",
        "    cred_path.write_text(creds)\n",
        "    cred_path.chmod(0o600)"
      ],
      "metadata": {
        "id": "Ca3-0Mxc4Jmz"
      },
      "execution_count": null,
      "outputs": []
    },
    {
      "cell_type": "code",
      "source": [
        "path = Path('titanic')"
      ],
      "metadata": {
        "id": "fZAHXECc4S4B"
      },
      "execution_count": null,
      "outputs": []
    },
    {
      "cell_type": "code",
      "source": [
        "if not path.exists():\n",
        "    import zipfile,kaggle\n",
        "    kaggle.api.competition_download_cli(str(path))\n",
        "    zipfile.ZipFile(f'{path}.zip').extractall(path)"
      ],
      "metadata": {
        "colab": {
          "base_uri": "https://localhost:8080/"
        },
        "id": "WBqs-Zs64by9",
        "outputId": "e1ebb346-db28-4c05-84e8-0efb35aa47f2"
      },
      "execution_count": null,
      "outputs": [
        {
          "output_type": "stream",
          "name": "stdout",
          "text": [
            "Downloading titanic.zip to /content\n"
          ]
        },
        {
          "output_type": "stream",
          "name": "stderr",
          "text": [
            "100%|██████████| 34.1k/34.1k [00:00<00:00, 3.05MB/s]"
          ]
        },
        {
          "output_type": "stream",
          "name": "stdout",
          "text": [
            "\n"
          ]
        },
        {
          "output_type": "stream",
          "name": "stderr",
          "text": [
            "\n"
          ]
        }
      ]
    },
    {
      "cell_type": "code",
      "source": [
        "!ls {path}\n"
      ],
      "metadata": {
        "colab": {
          "base_uri": "https://localhost:8080/"
        },
        "id": "4g1n_UIH4k3Y",
        "outputId": "72f503b0-8b1b-4658-9991-7436b8139255"
      },
      "execution_count": null,
      "outputs": [
        {
          "output_type": "stream",
          "name": "stdout",
          "text": [
            "gender_submission.csv  test.csv  train.csv\n"
          ]
        }
      ]
    },
    {
      "cell_type": "code",
      "source": [
        "import torch, numpy as np, pandas as pd\n",
        "np.set_printoptions(linewidth=140)\n",
        "torch.set_printoptions(linewidth=140, sci_mode=False, edgeitems=7)\n",
        "pd.set_option('display.width', 140)"
      ],
      "metadata": {
        "execution": {
          "iopub.status.busy": "2022-05-30T22:34:17.810967Z",
          "iopub.execute_input": "2022-05-30T22:34:17.811857Z",
          "iopub.status.idle": "2022-05-30T22:34:17.817725Z",
          "shell.execute_reply.started": "2022-05-30T22:34:17.811797Z",
          "shell.execute_reply": "2022-05-30T22:34:17.816849Z"
        },
        "trusted": true,
        "id": "_Q__cTbR20Ro"
      },
      "execution_count": null,
      "outputs": []
    },
    {
      "cell_type": "markdown",
      "source": [
        "## Cleaning the data"
      ],
      "metadata": {
        "heading_collapsed": true,
        "id": "l65xXn5p20Rp"
      }
    },
    {
      "cell_type": "markdown",
      "source": [
        "We will use *pandas* to do our data operations. We store the data in a `DataFrame`."
      ],
      "metadata": {
        "hidden": true,
        "id": "5FIqept920Rp"
      }
    },
    {
      "cell_type": "code",
      "source": [
        "df = pd.read_csv(path/'train.csv')\n",
        "df"
      ],
      "metadata": {
        "hidden": true,
        "scrolled": true,
        "execution": {
          "iopub.status.busy": "2022-05-30T22:34:17.898249Z",
          "iopub.execute_input": "2022-05-30T22:34:17.899238Z",
          "iopub.status.idle": "2022-05-30T22:34:17.932714Z",
          "shell.execute_reply.started": "2022-05-30T22:34:17.899131Z",
          "shell.execute_reply": "2022-05-30T22:34:17.931738Z"
        },
        "trusted": true,
        "colab": {
          "base_uri": "https://localhost:8080/",
          "height": 502
        },
        "id": "uEdvlvde20Rp",
        "outputId": "069f30b8-c130-4552-f06f-8a97cad4c0bd"
      },
      "execution_count": null,
      "outputs": [
        {
          "output_type": "execute_result",
          "data": {
            "text/plain": [
              "     PassengerId  Survived  Pclass                                               Name     Sex   Age  SibSp  Parch            Ticket  \\\n",
              "0              1         0       3                            Braund, Mr. Owen Harris    male  22.0      1      0         A/5 21171   \n",
              "1              2         1       1  Cumings, Mrs. John Bradley (Florence Briggs Th...  female  38.0      1      0          PC 17599   \n",
              "2              3         1       3                             Heikkinen, Miss. Laina  female  26.0      0      0  STON/O2. 3101282   \n",
              "3              4         1       1       Futrelle, Mrs. Jacques Heath (Lily May Peel)  female  35.0      1      0            113803   \n",
              "4              5         0       3                           Allen, Mr. William Henry    male  35.0      0      0            373450   \n",
              "..           ...       ...     ...                                                ...     ...   ...    ...    ...               ...   \n",
              "886          887         0       2                              Montvila, Rev. Juozas    male  27.0      0      0            211536   \n",
              "887          888         1       1                       Graham, Miss. Margaret Edith  female  19.0      0      0            112053   \n",
              "888          889         0       3           Johnston, Miss. Catherine Helen \"Carrie\"  female   NaN      1      2        W./C. 6607   \n",
              "889          890         1       1                              Behr, Mr. Karl Howell    male  26.0      0      0            111369   \n",
              "890          891         0       3                                Dooley, Mr. Patrick    male  32.0      0      0            370376   \n",
              "\n",
              "        Fare Cabin Embarked  \n",
              "0     7.2500   NaN        S  \n",
              "1    71.2833   C85        C  \n",
              "2     7.9250   NaN        S  \n",
              "3    53.1000  C123        S  \n",
              "4     8.0500   NaN        S  \n",
              "..       ...   ...      ...  \n",
              "886  13.0000   NaN        S  \n",
              "887  30.0000   B42        S  \n",
              "888  23.4500   NaN        S  \n",
              "889  30.0000  C148        C  \n",
              "890   7.7500   NaN        Q  \n",
              "\n",
              "[891 rows x 12 columns]"
            ],
            "text/html": [
              "\n",
              "  <div id=\"df-88c0fd82-18ba-4f1d-9c29-b1400d0ccae2\">\n",
              "    <div class=\"colab-df-container\">\n",
              "      <div>\n",
              "<style scoped>\n",
              "    .dataframe tbody tr th:only-of-type {\n",
              "        vertical-align: middle;\n",
              "    }\n",
              "\n",
              "    .dataframe tbody tr th {\n",
              "        vertical-align: top;\n",
              "    }\n",
              "\n",
              "    .dataframe thead th {\n",
              "        text-align: right;\n",
              "    }\n",
              "</style>\n",
              "<table border=\"1\" class=\"dataframe\">\n",
              "  <thead>\n",
              "    <tr style=\"text-align: right;\">\n",
              "      <th></th>\n",
              "      <th>PassengerId</th>\n",
              "      <th>Survived</th>\n",
              "      <th>Pclass</th>\n",
              "      <th>Name</th>\n",
              "      <th>Sex</th>\n",
              "      <th>Age</th>\n",
              "      <th>SibSp</th>\n",
              "      <th>Parch</th>\n",
              "      <th>Ticket</th>\n",
              "      <th>Fare</th>\n",
              "      <th>Cabin</th>\n",
              "      <th>Embarked</th>\n",
              "    </tr>\n",
              "  </thead>\n",
              "  <tbody>\n",
              "    <tr>\n",
              "      <th>0</th>\n",
              "      <td>1</td>\n",
              "      <td>0</td>\n",
              "      <td>3</td>\n",
              "      <td>Braund, Mr. Owen Harris</td>\n",
              "      <td>male</td>\n",
              "      <td>22.0</td>\n",
              "      <td>1</td>\n",
              "      <td>0</td>\n",
              "      <td>A/5 21171</td>\n",
              "      <td>7.2500</td>\n",
              "      <td>NaN</td>\n",
              "      <td>S</td>\n",
              "    </tr>\n",
              "    <tr>\n",
              "      <th>1</th>\n",
              "      <td>2</td>\n",
              "      <td>1</td>\n",
              "      <td>1</td>\n",
              "      <td>Cumings, Mrs. John Bradley (Florence Briggs Th...</td>\n",
              "      <td>female</td>\n",
              "      <td>38.0</td>\n",
              "      <td>1</td>\n",
              "      <td>0</td>\n",
              "      <td>PC 17599</td>\n",
              "      <td>71.2833</td>\n",
              "      <td>C85</td>\n",
              "      <td>C</td>\n",
              "    </tr>\n",
              "    <tr>\n",
              "      <th>2</th>\n",
              "      <td>3</td>\n",
              "      <td>1</td>\n",
              "      <td>3</td>\n",
              "      <td>Heikkinen, Miss. Laina</td>\n",
              "      <td>female</td>\n",
              "      <td>26.0</td>\n",
              "      <td>0</td>\n",
              "      <td>0</td>\n",
              "      <td>STON/O2. 3101282</td>\n",
              "      <td>7.9250</td>\n",
              "      <td>NaN</td>\n",
              "      <td>S</td>\n",
              "    </tr>\n",
              "    <tr>\n",
              "      <th>3</th>\n",
              "      <td>4</td>\n",
              "      <td>1</td>\n",
              "      <td>1</td>\n",
              "      <td>Futrelle, Mrs. Jacques Heath (Lily May Peel)</td>\n",
              "      <td>female</td>\n",
              "      <td>35.0</td>\n",
              "      <td>1</td>\n",
              "      <td>0</td>\n",
              "      <td>113803</td>\n",
              "      <td>53.1000</td>\n",
              "      <td>C123</td>\n",
              "      <td>S</td>\n",
              "    </tr>\n",
              "    <tr>\n",
              "      <th>4</th>\n",
              "      <td>5</td>\n",
              "      <td>0</td>\n",
              "      <td>3</td>\n",
              "      <td>Allen, Mr. William Henry</td>\n",
              "      <td>male</td>\n",
              "      <td>35.0</td>\n",
              "      <td>0</td>\n",
              "      <td>0</td>\n",
              "      <td>373450</td>\n",
              "      <td>8.0500</td>\n",
              "      <td>NaN</td>\n",
              "      <td>S</td>\n",
              "    </tr>\n",
              "    <tr>\n",
              "      <th>...</th>\n",
              "      <td>...</td>\n",
              "      <td>...</td>\n",
              "      <td>...</td>\n",
              "      <td>...</td>\n",
              "      <td>...</td>\n",
              "      <td>...</td>\n",
              "      <td>...</td>\n",
              "      <td>...</td>\n",
              "      <td>...</td>\n",
              "      <td>...</td>\n",
              "      <td>...</td>\n",
              "      <td>...</td>\n",
              "    </tr>\n",
              "    <tr>\n",
              "      <th>886</th>\n",
              "      <td>887</td>\n",
              "      <td>0</td>\n",
              "      <td>2</td>\n",
              "      <td>Montvila, Rev. Juozas</td>\n",
              "      <td>male</td>\n",
              "      <td>27.0</td>\n",
              "      <td>0</td>\n",
              "      <td>0</td>\n",
              "      <td>211536</td>\n",
              "      <td>13.0000</td>\n",
              "      <td>NaN</td>\n",
              "      <td>S</td>\n",
              "    </tr>\n",
              "    <tr>\n",
              "      <th>887</th>\n",
              "      <td>888</td>\n",
              "      <td>1</td>\n",
              "      <td>1</td>\n",
              "      <td>Graham, Miss. Margaret Edith</td>\n",
              "      <td>female</td>\n",
              "      <td>19.0</td>\n",
              "      <td>0</td>\n",
              "      <td>0</td>\n",
              "      <td>112053</td>\n",
              "      <td>30.0000</td>\n",
              "      <td>B42</td>\n",
              "      <td>S</td>\n",
              "    </tr>\n",
              "    <tr>\n",
              "      <th>888</th>\n",
              "      <td>889</td>\n",
              "      <td>0</td>\n",
              "      <td>3</td>\n",
              "      <td>Johnston, Miss. Catherine Helen \"Carrie\"</td>\n",
              "      <td>female</td>\n",
              "      <td>NaN</td>\n",
              "      <td>1</td>\n",
              "      <td>2</td>\n",
              "      <td>W./C. 6607</td>\n",
              "      <td>23.4500</td>\n",
              "      <td>NaN</td>\n",
              "      <td>S</td>\n",
              "    </tr>\n",
              "    <tr>\n",
              "      <th>889</th>\n",
              "      <td>890</td>\n",
              "      <td>1</td>\n",
              "      <td>1</td>\n",
              "      <td>Behr, Mr. Karl Howell</td>\n",
              "      <td>male</td>\n",
              "      <td>26.0</td>\n",
              "      <td>0</td>\n",
              "      <td>0</td>\n",
              "      <td>111369</td>\n",
              "      <td>30.0000</td>\n",
              "      <td>C148</td>\n",
              "      <td>C</td>\n",
              "    </tr>\n",
              "    <tr>\n",
              "      <th>890</th>\n",
              "      <td>891</td>\n",
              "      <td>0</td>\n",
              "      <td>3</td>\n",
              "      <td>Dooley, Mr. Patrick</td>\n",
              "      <td>male</td>\n",
              "      <td>32.0</td>\n",
              "      <td>0</td>\n",
              "      <td>0</td>\n",
              "      <td>370376</td>\n",
              "      <td>7.7500</td>\n",
              "      <td>NaN</td>\n",
              "      <td>Q</td>\n",
              "    </tr>\n",
              "  </tbody>\n",
              "</table>\n",
              "<p>891 rows × 12 columns</p>\n",
              "</div>\n",
              "      <button class=\"colab-df-convert\" onclick=\"convertToInteractive('df-88c0fd82-18ba-4f1d-9c29-b1400d0ccae2')\"\n",
              "              title=\"Convert this dataframe to an interactive table.\"\n",
              "              style=\"display:none;\">\n",
              "        \n",
              "  <svg xmlns=\"http://www.w3.org/2000/svg\" height=\"24px\"viewBox=\"0 0 24 24\"\n",
              "       width=\"24px\">\n",
              "    <path d=\"M0 0h24v24H0V0z\" fill=\"none\"/>\n",
              "    <path d=\"M18.56 5.44l.94 2.06.94-2.06 2.06-.94-2.06-.94-.94-2.06-.94 2.06-2.06.94zm-11 1L8.5 8.5l.94-2.06 2.06-.94-2.06-.94L8.5 2.5l-.94 2.06-2.06.94zm10 10l.94 2.06.94-2.06 2.06-.94-2.06-.94-.94-2.06-.94 2.06-2.06.94z\"/><path d=\"M17.41 7.96l-1.37-1.37c-.4-.4-.92-.59-1.43-.59-.52 0-1.04.2-1.43.59L10.3 9.45l-7.72 7.72c-.78.78-.78 2.05 0 2.83L4 21.41c.39.39.9.59 1.41.59.51 0 1.02-.2 1.41-.59l7.78-7.78 2.81-2.81c.8-.78.8-2.07 0-2.86zM5.41 20L4 18.59l7.72-7.72 1.47 1.35L5.41 20z\"/>\n",
              "  </svg>\n",
              "      </button>\n",
              "      \n",
              "  <style>\n",
              "    .colab-df-container {\n",
              "      display:flex;\n",
              "      flex-wrap:wrap;\n",
              "      gap: 12px;\n",
              "    }\n",
              "\n",
              "    .colab-df-convert {\n",
              "      background-color: #E8F0FE;\n",
              "      border: none;\n",
              "      border-radius: 50%;\n",
              "      cursor: pointer;\n",
              "      display: none;\n",
              "      fill: #1967D2;\n",
              "      height: 32px;\n",
              "      padding: 0 0 0 0;\n",
              "      width: 32px;\n",
              "    }\n",
              "\n",
              "    .colab-df-convert:hover {\n",
              "      background-color: #E2EBFA;\n",
              "      box-shadow: 0px 1px 2px rgba(60, 64, 67, 0.3), 0px 1px 3px 1px rgba(60, 64, 67, 0.15);\n",
              "      fill: #174EA6;\n",
              "    }\n",
              "\n",
              "    [theme=dark] .colab-df-convert {\n",
              "      background-color: #3B4455;\n",
              "      fill: #D2E3FC;\n",
              "    }\n",
              "\n",
              "    [theme=dark] .colab-df-convert:hover {\n",
              "      background-color: #434B5C;\n",
              "      box-shadow: 0px 1px 3px 1px rgba(0, 0, 0, 0.15);\n",
              "      filter: drop-shadow(0px 1px 2px rgba(0, 0, 0, 0.3));\n",
              "      fill: #FFFFFF;\n",
              "    }\n",
              "  </style>\n",
              "\n",
              "      <script>\n",
              "        const buttonEl =\n",
              "          document.querySelector('#df-88c0fd82-18ba-4f1d-9c29-b1400d0ccae2 button.colab-df-convert');\n",
              "        buttonEl.style.display =\n",
              "          google.colab.kernel.accessAllowed ? 'block' : 'none';\n",
              "\n",
              "        async function convertToInteractive(key) {\n",
              "          const element = document.querySelector('#df-88c0fd82-18ba-4f1d-9c29-b1400d0ccae2');\n",
              "          const dataTable =\n",
              "            await google.colab.kernel.invokeFunction('convertToInteractive',\n",
              "                                                     [key], {});\n",
              "          if (!dataTable) return;\n",
              "\n",
              "          const docLinkHtml = 'Like what you see? Visit the ' +\n",
              "            '<a target=\"_blank\" href=https://colab.research.google.com/notebooks/data_table.ipynb>data table notebook</a>'\n",
              "            + ' to learn more about interactive tables.';\n",
              "          element.innerHTML = '';\n",
              "          dataTable['output_type'] = 'display_data';\n",
              "          await google.colab.output.renderOutput(dataTable, element);\n",
              "          const docLink = document.createElement('div');\n",
              "          docLink.innerHTML = docLinkHtml;\n",
              "          element.appendChild(docLink);\n",
              "        }\n",
              "      </script>\n",
              "    </div>\n",
              "  </div>\n",
              "  "
            ]
          },
          "metadata": {},
          "execution_count": 8
        }
      ]
    },
    {
      "cell_type": "markdown",
      "source": [
        "### Remove missing values"
      ],
      "metadata": {
        "id": "4b1IZSh11Ea2"
      }
    },
    {
      "cell_type": "markdown",
      "source": [
        "In order to use a neural net, each entry must be numerical. First, let's get rid of missing values, i.e `NaN` values."
      ],
      "metadata": {
        "hidden": true,
        "id": "1uu_HXO520Rq"
      }
    },
    {
      "cell_type": "code",
      "source": [
        "# Locate which columns contain `NaN` values. \n",
        "# Pandas' `isna()` function returns `True` (which is treated as `1` when used as a number) for `NaN` values,\n",
        "# so we can just add them up for each column (by default Pandas sums over columns)\n",
        "\n",
        "df.isna().sum()"
      ],
      "metadata": {
        "hidden": true,
        "execution": {
          "iopub.status.busy": "2022-05-30T22:34:17.95524Z",
          "iopub.execute_input": "2022-05-30T22:34:17.955557Z",
          "iopub.status.idle": "2022-05-30T22:34:17.966199Z",
          "shell.execute_reply.started": "2022-05-30T22:34:17.955525Z",
          "shell.execute_reply": "2022-05-30T22:34:17.96534Z"
        },
        "trusted": true,
        "id": "ytnymndW20Rq",
        "colab": {
          "base_uri": "https://localhost:8080/"
        },
        "outputId": "9d89f76a-b457-4d5e-a87a-62dc33db2594"
      },
      "execution_count": null,
      "outputs": [
        {
          "output_type": "execute_result",
          "data": {
            "text/plain": [
              "PassengerId      0\n",
              "Survived         0\n",
              "Pclass           0\n",
              "Name             0\n",
              "Sex              0\n",
              "Age            177\n",
              "SibSp            0\n",
              "Parch            0\n",
              "Ticket           0\n",
              "Fare             0\n",
              "Cabin          687\n",
              "Embarked         2\n",
              "dtype: int64"
            ]
          },
          "metadata": {},
          "execution_count": 9
        }
      ]
    },
    {
      "cell_type": "markdown",
      "source": [
        "Let's replace the NaNs with, say, (the \"*mode*\")."
      ],
      "metadata": {
        "hidden": true,
        "id": "WWfvi7Px20Rq"
      }
    },
    {
      "cell_type": "code",
      "source": [
        "# Use the `mode` function. One caveat is that in the case of ties, it returns more than one row. We can grab the first row with `iloc[0]`:\n",
        "modes = df.mode().iloc[0]\n",
        "modes"
      ],
      "metadata": {
        "hidden": true,
        "execution": {
          "iopub.status.busy": "2022-05-30T22:34:18.011876Z",
          "iopub.execute_input": "2022-05-30T22:34:18.012387Z",
          "iopub.status.idle": "2022-05-30T22:34:18.030165Z",
          "shell.execute_reply.started": "2022-05-30T22:34:18.012338Z",
          "shell.execute_reply": "2022-05-30T22:34:18.029316Z"
        },
        "trusted": true,
        "colab": {
          "base_uri": "https://localhost:8080/"
        },
        "id": "aqYRLDk020Rq",
        "outputId": "cc672dd5-2b9f-49ed-dda9-3609859680ab"
      },
      "execution_count": null,
      "outputs": [
        {
          "output_type": "execute_result",
          "data": {
            "text/plain": [
              "PassengerId                      1\n",
              "Survived                       0.0\n",
              "Pclass                         3.0\n",
              "Name           Abbing, Mr. Anthony\n",
              "Sex                           male\n",
              "Age                           24.0\n",
              "SibSp                          0.0\n",
              "Parch                          0.0\n",
              "Ticket                        1601\n",
              "Fare                          8.05\n",
              "Cabin                      B96 B98\n",
              "Embarked                         S\n",
              "Name: 0, dtype: object"
            ]
          },
          "metadata": {},
          "execution_count": 11
        }
      ]
    },
    {
      "cell_type": "code",
      "source": [
        "# Now that we've got the mode of each column, we can use `fillna` to replace the missing values with the mode of each column. \n",
        "# We'll do it \"in place\" -- meaning that we'll change the dataframe itself, rather than returning a new one.\n",
        "\n",
        "df.fillna(modes, inplace=True)"
      ],
      "metadata": {
        "hidden": true,
        "execution": {
          "iopub.status.busy": "2022-05-30T22:34:18.069123Z",
          "iopub.execute_input": "2022-05-30T22:34:18.069624Z",
          "iopub.status.idle": "2022-05-30T22:34:18.078805Z",
          "shell.execute_reply.started": "2022-05-30T22:34:18.069573Z",
          "shell.execute_reply": "2022-05-30T22:34:18.077978Z"
        },
        "trusted": true,
        "id": "pcU9HJSR20Rr"
      },
      "execution_count": null,
      "outputs": []
    },
    {
      "cell_type": "markdown",
      "source": [
        "We can now check there's no missing values left:"
      ],
      "metadata": {
        "hidden": true,
        "id": "Q4FkLKjM20Rr"
      }
    },
    {
      "cell_type": "code",
      "source": [
        "df.isna().sum()"
      ],
      "metadata": {
        "hidden": true,
        "execution": {
          "iopub.status.busy": "2022-05-30T22:34:18.13936Z",
          "iopub.execute_input": "2022-05-30T22:34:18.139844Z",
          "iopub.status.idle": "2022-05-30T22:34:18.149896Z",
          "shell.execute_reply.started": "2022-05-30T22:34:18.139793Z",
          "shell.execute_reply": "2022-05-30T22:34:18.148884Z"
        },
        "trusted": true,
        "colab": {
          "base_uri": "https://localhost:8080/"
        },
        "id": "gKwnC2Rb20Rr",
        "outputId": "77ca6350-3f16-4969-f4b4-103c42d729f7"
      },
      "execution_count": null,
      "outputs": [
        {
          "output_type": "execute_result",
          "data": {
            "text/plain": [
              "PassengerId    0\n",
              "Survived       0\n",
              "Pclass         0\n",
              "Name           0\n",
              "Sex            0\n",
              "Age            0\n",
              "SibSp          0\n",
              "Parch          0\n",
              "Ticket         0\n",
              "Fare           0\n",
              "Cabin          0\n",
              "Embarked       0\n",
              "dtype: int64"
            ]
          },
          "metadata": {},
          "execution_count": 13
        }
      ]
    },
    {
      "cell_type": "markdown",
      "source": [
        "### Feature Engineering"
      ],
      "metadata": {
        "id": "dYPXsyo61NGX"
      }
    },
    {
      "cell_type": "markdown",
      "source": [
        "We can get a quick summary of all the numeric columns in the dataset:"
      ],
      "metadata": {
        "hidden": true,
        "id": "Cl3KTa_x20Rr"
      }
    },
    {
      "cell_type": "code",
      "source": [
        "import numpy as np\n",
        "\n",
        "df.describe(include=(np.number))"
      ],
      "metadata": {
        "hidden": true,
        "execution": {
          "iopub.status.busy": "2022-05-30T22:34:18.205483Z",
          "iopub.execute_input": "2022-05-30T22:34:18.205953Z",
          "iopub.status.idle": "2022-05-30T22:34:18.240196Z",
          "shell.execute_reply.started": "2022-05-30T22:34:18.205897Z",
          "shell.execute_reply": "2022-05-30T22:34:18.239106Z"
        },
        "trusted": true,
        "colab": {
          "base_uri": "https://localhost:8080/",
          "height": 300
        },
        "id": "0src-PfL20Rs",
        "outputId": "25f7e765-85a0-41ef-dbf9-e66310d19cde"
      },
      "execution_count": null,
      "outputs": [
        {
          "output_type": "execute_result",
          "data": {
            "text/plain": [
              "       PassengerId    Survived      Pclass         Age       SibSp       Parch        Fare\n",
              "count   891.000000  891.000000  891.000000  891.000000  891.000000  891.000000  891.000000\n",
              "mean    446.000000    0.383838    2.308642   28.566970    0.523008    0.381594   32.204208\n",
              "std     257.353842    0.486592    0.836071   13.199572    1.102743    0.806057   49.693429\n",
              "min       1.000000    0.000000    1.000000    0.420000    0.000000    0.000000    0.000000\n",
              "25%     223.500000    0.000000    2.000000   22.000000    0.000000    0.000000    7.910400\n",
              "50%     446.000000    0.000000    3.000000   24.000000    0.000000    0.000000   14.454200\n",
              "75%     668.500000    1.000000    3.000000   35.000000    1.000000    0.000000   31.000000\n",
              "max     891.000000    1.000000    3.000000   80.000000    8.000000    6.000000  512.329200"
            ],
            "text/html": [
              "\n",
              "  <div id=\"df-654c0367-a07c-49ab-914f-fcfa3a79ab85\">\n",
              "    <div class=\"colab-df-container\">\n",
              "      <div>\n",
              "<style scoped>\n",
              "    .dataframe tbody tr th:only-of-type {\n",
              "        vertical-align: middle;\n",
              "    }\n",
              "\n",
              "    .dataframe tbody tr th {\n",
              "        vertical-align: top;\n",
              "    }\n",
              "\n",
              "    .dataframe thead th {\n",
              "        text-align: right;\n",
              "    }\n",
              "</style>\n",
              "<table border=\"1\" class=\"dataframe\">\n",
              "  <thead>\n",
              "    <tr style=\"text-align: right;\">\n",
              "      <th></th>\n",
              "      <th>PassengerId</th>\n",
              "      <th>Survived</th>\n",
              "      <th>Pclass</th>\n",
              "      <th>Age</th>\n",
              "      <th>SibSp</th>\n",
              "      <th>Parch</th>\n",
              "      <th>Fare</th>\n",
              "    </tr>\n",
              "  </thead>\n",
              "  <tbody>\n",
              "    <tr>\n",
              "      <th>count</th>\n",
              "      <td>891.000000</td>\n",
              "      <td>891.000000</td>\n",
              "      <td>891.000000</td>\n",
              "      <td>891.000000</td>\n",
              "      <td>891.000000</td>\n",
              "      <td>891.000000</td>\n",
              "      <td>891.000000</td>\n",
              "    </tr>\n",
              "    <tr>\n",
              "      <th>mean</th>\n",
              "      <td>446.000000</td>\n",
              "      <td>0.383838</td>\n",
              "      <td>2.308642</td>\n",
              "      <td>28.566970</td>\n",
              "      <td>0.523008</td>\n",
              "      <td>0.381594</td>\n",
              "      <td>32.204208</td>\n",
              "    </tr>\n",
              "    <tr>\n",
              "      <th>std</th>\n",
              "      <td>257.353842</td>\n",
              "      <td>0.486592</td>\n",
              "      <td>0.836071</td>\n",
              "      <td>13.199572</td>\n",
              "      <td>1.102743</td>\n",
              "      <td>0.806057</td>\n",
              "      <td>49.693429</td>\n",
              "    </tr>\n",
              "    <tr>\n",
              "      <th>min</th>\n",
              "      <td>1.000000</td>\n",
              "      <td>0.000000</td>\n",
              "      <td>1.000000</td>\n",
              "      <td>0.420000</td>\n",
              "      <td>0.000000</td>\n",
              "      <td>0.000000</td>\n",
              "      <td>0.000000</td>\n",
              "    </tr>\n",
              "    <tr>\n",
              "      <th>25%</th>\n",
              "      <td>223.500000</td>\n",
              "      <td>0.000000</td>\n",
              "      <td>2.000000</td>\n",
              "      <td>22.000000</td>\n",
              "      <td>0.000000</td>\n",
              "      <td>0.000000</td>\n",
              "      <td>7.910400</td>\n",
              "    </tr>\n",
              "    <tr>\n",
              "      <th>50%</th>\n",
              "      <td>446.000000</td>\n",
              "      <td>0.000000</td>\n",
              "      <td>3.000000</td>\n",
              "      <td>24.000000</td>\n",
              "      <td>0.000000</td>\n",
              "      <td>0.000000</td>\n",
              "      <td>14.454200</td>\n",
              "    </tr>\n",
              "    <tr>\n",
              "      <th>75%</th>\n",
              "      <td>668.500000</td>\n",
              "      <td>1.000000</td>\n",
              "      <td>3.000000</td>\n",
              "      <td>35.000000</td>\n",
              "      <td>1.000000</td>\n",
              "      <td>0.000000</td>\n",
              "      <td>31.000000</td>\n",
              "    </tr>\n",
              "    <tr>\n",
              "      <th>max</th>\n",
              "      <td>891.000000</td>\n",
              "      <td>1.000000</td>\n",
              "      <td>3.000000</td>\n",
              "      <td>80.000000</td>\n",
              "      <td>8.000000</td>\n",
              "      <td>6.000000</td>\n",
              "      <td>512.329200</td>\n",
              "    </tr>\n",
              "  </tbody>\n",
              "</table>\n",
              "</div>\n",
              "      <button class=\"colab-df-convert\" onclick=\"convertToInteractive('df-654c0367-a07c-49ab-914f-fcfa3a79ab85')\"\n",
              "              title=\"Convert this dataframe to an interactive table.\"\n",
              "              style=\"display:none;\">\n",
              "        \n",
              "  <svg xmlns=\"http://www.w3.org/2000/svg\" height=\"24px\"viewBox=\"0 0 24 24\"\n",
              "       width=\"24px\">\n",
              "    <path d=\"M0 0h24v24H0V0z\" fill=\"none\"/>\n",
              "    <path d=\"M18.56 5.44l.94 2.06.94-2.06 2.06-.94-2.06-.94-.94-2.06-.94 2.06-2.06.94zm-11 1L8.5 8.5l.94-2.06 2.06-.94-2.06-.94L8.5 2.5l-.94 2.06-2.06.94zm10 10l.94 2.06.94-2.06 2.06-.94-2.06-.94-.94-2.06-.94 2.06-2.06.94z\"/><path d=\"M17.41 7.96l-1.37-1.37c-.4-.4-.92-.59-1.43-.59-.52 0-1.04.2-1.43.59L10.3 9.45l-7.72 7.72c-.78.78-.78 2.05 0 2.83L4 21.41c.39.39.9.59 1.41.59.51 0 1.02-.2 1.41-.59l7.78-7.78 2.81-2.81c.8-.78.8-2.07 0-2.86zM5.41 20L4 18.59l7.72-7.72 1.47 1.35L5.41 20z\"/>\n",
              "  </svg>\n",
              "      </button>\n",
              "      \n",
              "  <style>\n",
              "    .colab-df-container {\n",
              "      display:flex;\n",
              "      flex-wrap:wrap;\n",
              "      gap: 12px;\n",
              "    }\n",
              "\n",
              "    .colab-df-convert {\n",
              "      background-color: #E8F0FE;\n",
              "      border: none;\n",
              "      border-radius: 50%;\n",
              "      cursor: pointer;\n",
              "      display: none;\n",
              "      fill: #1967D2;\n",
              "      height: 32px;\n",
              "      padding: 0 0 0 0;\n",
              "      width: 32px;\n",
              "    }\n",
              "\n",
              "    .colab-df-convert:hover {\n",
              "      background-color: #E2EBFA;\n",
              "      box-shadow: 0px 1px 2px rgba(60, 64, 67, 0.3), 0px 1px 3px 1px rgba(60, 64, 67, 0.15);\n",
              "      fill: #174EA6;\n",
              "    }\n",
              "\n",
              "    [theme=dark] .colab-df-convert {\n",
              "      background-color: #3B4455;\n",
              "      fill: #D2E3FC;\n",
              "    }\n",
              "\n",
              "    [theme=dark] .colab-df-convert:hover {\n",
              "      background-color: #434B5C;\n",
              "      box-shadow: 0px 1px 3px 1px rgba(0, 0, 0, 0.15);\n",
              "      filter: drop-shadow(0px 1px 2px rgba(0, 0, 0, 0.3));\n",
              "      fill: #FFFFFF;\n",
              "    }\n",
              "  </style>\n",
              "\n",
              "      <script>\n",
              "        const buttonEl =\n",
              "          document.querySelector('#df-654c0367-a07c-49ab-914f-fcfa3a79ab85 button.colab-df-convert');\n",
              "        buttonEl.style.display =\n",
              "          google.colab.kernel.accessAllowed ? 'block' : 'none';\n",
              "\n",
              "        async function convertToInteractive(key) {\n",
              "          const element = document.querySelector('#df-654c0367-a07c-49ab-914f-fcfa3a79ab85');\n",
              "          const dataTable =\n",
              "            await google.colab.kernel.invokeFunction('convertToInteractive',\n",
              "                                                     [key], {});\n",
              "          if (!dataTable) return;\n",
              "\n",
              "          const docLinkHtml = 'Like what you see? Visit the ' +\n",
              "            '<a target=\"_blank\" href=https://colab.research.google.com/notebooks/data_table.ipynb>data table notebook</a>'\n",
              "            + ' to learn more about interactive tables.';\n",
              "          element.innerHTML = '';\n",
              "          dataTable['output_type'] = 'display_data';\n",
              "          await google.colab.output.renderOutput(dataTable, element);\n",
              "          const docLink = document.createElement('div');\n",
              "          docLink.innerHTML = docLinkHtml;\n",
              "          element.appendChild(docLink);\n",
              "        }\n",
              "      </script>\n",
              "    </div>\n",
              "  </div>\n",
              "  "
            ]
          },
          "metadata": {},
          "execution_count": 14
        }
      ]
    },
    {
      "cell_type": "markdown",
      "source": [
        "What do you notice about values in the Fare column? We can see the issue more clearly visually by looking at a histogram."
      ],
      "metadata": {
        "execution": {
          "iopub.execute_input": "2022-05-13T11:02:34.328433Z",
          "iopub.status.busy": "2022-05-13T11:02:34.327999Z",
          "iopub.status.idle": "2022-05-13T11:02:34.336993Z",
          "shell.execute_reply": "2022-05-13T11:02:34.335466Z",
          "shell.execute_reply.started": "2022-05-13T11:02:34.32838Z"
        },
        "hidden": true,
        "id": "4LOm9U5o20Rs"
      }
    },
    {
      "cell_type": "code",
      "source": [
        "# We can create a histogram for a given column with .hist()\n",
        "\n",
        "df['Fare'].hist();"
      ],
      "metadata": {
        "hidden": true,
        "execution": {
          "iopub.status.busy": "2022-05-30T22:34:18.241874Z",
          "iopub.execute_input": "2022-05-30T22:34:18.242123Z",
          "iopub.status.idle": "2022-05-30T22:34:18.471439Z",
          "shell.execute_reply.started": "2022-05-30T22:34:18.242094Z",
          "shell.execute_reply": "2022-05-30T22:34:18.470441Z"
        },
        "trusted": true,
        "colab": {
          "base_uri": "https://localhost:8080/",
          "height": 430
        },
        "id": "l0ILYMXc20Rs",
        "outputId": "8e3ee8cf-8fbe-4d46-cc26-4c4f7d600ac0"
      },
      "execution_count": null,
      "outputs": [
        {
          "output_type": "display_data",
          "data": {
            "text/plain": [
              "<Figure size 640x480 with 1 Axes>"
            ],
            "image/png": "[encoded data removed]"
          },
          "metadata": {}
        }
      ]
    },
    {
      "cell_type": "markdown",
      "source": [
        "To fix this, we can take the logarithm. Note, however, that there are zeros in the `Fare` column, and `log(0)` is infinite -- to fix this, we'll simply add `1` to all values first:"
      ],
      "metadata": {
        "execution": {
          "iopub.execute_input": "2022-05-13T11:02:34.328433Z",
          "iopub.status.busy": "2022-05-13T11:02:34.327999Z",
          "iopub.status.idle": "2022-05-13T11:02:34.336993Z",
          "shell.execute_reply": "2022-05-13T11:02:34.335466Z",
          "shell.execute_reply.started": "2022-05-13T11:02:34.32838Z"
        },
        "hidden": true,
        "id": "EH6_qKRa20Rs"
      }
    },
    {
      "cell_type": "code",
      "source": [
        "df['LogFare'] = np.log(df['Fare']+1)"
      ],
      "metadata": {
        "hidden": true,
        "execution": {
          "iopub.status.busy": "2022-05-30T22:34:18.473109Z",
          "iopub.execute_input": "2022-05-30T22:34:18.47382Z",
          "iopub.status.idle": "2022-05-30T22:34:18.478776Z",
          "shell.execute_reply.started": "2022-05-30T22:34:18.473778Z",
          "shell.execute_reply": "2022-05-30T22:34:18.478149Z"
        },
        "trusted": true,
        "id": "MQmjuSVu20Rs"
      },
      "execution_count": null,
      "outputs": []
    },
    {
      "cell_type": "markdown",
      "source": [
        "The histogram now shows a more even distribution of values without the long tail:"
      ],
      "metadata": {
        "hidden": true,
        "id": "GOn8JYMc20Rs"
      }
    },
    {
      "cell_type": "code",
      "source": [
        "df['LogFare'].hist();"
      ],
      "metadata": {
        "hidden": true,
        "execution": {
          "iopub.status.busy": "2022-05-30T22:34:18.480088Z",
          "iopub.execute_input": "2022-05-30T22:34:18.480926Z",
          "iopub.status.idle": "2022-05-30T22:34:18.855605Z",
          "shell.execute_reply.started": "2022-05-30T22:34:18.480885Z",
          "shell.execute_reply": "2022-05-30T22:34:18.854915Z"
        },
        "trusted": true,
        "colab": {
          "base_uri": "https://localhost:8080/",
          "height": 430
        },
        "id": "m5PFXRZv20Rs",
        "outputId": "65e3d013-ab89-490b-ffef-b64f5190ca0f"
      },
      "execution_count": null,
      "outputs": [
        {
          "output_type": "display_data",
          "data": {
            "text/plain": [
              "<Figure size 640x480 with 1 Axes>"
            ],
            "image/png": "[encoded data removed]"
          },
          "metadata": {}
        }
      ]
    },
    {
      "cell_type": "markdown",
      "source": [
        "### Transforming Categorical Variables"
      ],
      "metadata": {
        "id": "S_r2kWWC073d"
      }
    },
    {
      "cell_type": "markdown",
      "source": [
        "It looks from the `describe()` output like `Pclass` contains just 3 values"
      ],
      "metadata": {
        "hidden": true,
        "id": "v6497CYC20Rt"
      }
    },
    {
      "cell_type": "code",
      "source": [
        "pclasses = sorted(df.Pclass.unique())\n",
        "pclasses"
      ],
      "metadata": {
        "hidden": true,
        "execution": {
          "iopub.status.busy": "2022-05-30T22:34:18.857312Z",
          "iopub.execute_input": "2022-05-30T22:34:18.857676Z",
          "iopub.status.idle": "2022-05-30T22:34:18.863672Z",
          "shell.execute_reply.started": "2022-05-30T22:34:18.857643Z",
          "shell.execute_reply": "2022-05-30T22:34:18.862791Z"
        },
        "trusted": true,
        "colab": {
          "base_uri": "https://localhost:8080/"
        },
        "id": "UKk8Wt2520Rt",
        "outputId": "03c4f22d-7769-409e-e862-57b06ee82813"
      },
      "execution_count": null,
      "outputs": [
        {
          "output_type": "execute_result",
          "data": {
            "text/plain": [
              "[1, 2, 3]"
            ]
          },
          "metadata": {},
          "execution_count": 19
        }
      ]
    },
    {
      "cell_type": "markdown",
      "source": [
        "Here's how we get a quick summary of all the non-numeric columns in the dataset:"
      ],
      "metadata": {
        "hidden": true,
        "id": "mgpHPwKi20Rt"
      }
    },
    {
      "cell_type": "code",
      "source": [
        "df.describe(include=[object])"
      ],
      "metadata": {
        "hidden": true,
        "execution": {
          "iopub.status.busy": "2022-05-30T22:34:18.864893Z",
          "iopub.execute_input": "2022-05-30T22:34:18.865154Z",
          "iopub.status.idle": "2022-05-30T22:34:18.89758Z",
          "shell.execute_reply.started": "2022-05-30T22:34:18.865115Z",
          "shell.execute_reply": "2022-05-30T22:34:18.896706Z"
        },
        "trusted": true,
        "colab": {
          "base_uri": "https://localhost:8080/",
          "height": 174
        },
        "id": "uSTVciPk20Rt",
        "outputId": "fe1b19ee-fe1b-41e6-fdb4-43b86fcc0c24"
      },
      "execution_count": null,
      "outputs": [
        {
          "output_type": "execute_result",
          "data": {
            "text/plain": [
              "                           Name   Sex  Ticket    Cabin Embarked\n",
              "count                       891   891     891      891      891\n",
              "unique                      891     2     681      147        3\n",
              "top     Braund, Mr. Owen Harris  male  347082  B96 B98        S\n",
              "freq                          1   577       7      691      646"
            ],
            "text/html": [
              "\n",
              "  <div id=\"df-5b718506-a4b4-494f-8b1e-7708072ad555\">\n",
              "    <div class=\"colab-df-container\">\n",
              "      <div>\n",
              "<style scoped>\n",
              "    .dataframe tbody tr th:only-of-type {\n",
              "        vertical-align: middle;\n",
              "    }\n",
              "\n",
              "    .dataframe tbody tr th {\n",
              "        vertical-align: top;\n",
              "    }\n",
              "\n",
              "    .dataframe thead th {\n",
              "        text-align: right;\n",
              "    }\n",
              "</style>\n",
              "<table border=\"1\" class=\"dataframe\">\n",
              "  <thead>\n",
              "    <tr style=\"text-align: right;\">\n",
              "      <th></th>\n",
              "      <th>Name</th>\n",
              "      <th>Sex</th>\n",
              "      <th>Ticket</th>\n",
              "      <th>Cabin</th>\n",
              "      <th>Embarked</th>\n",
              "    </tr>\n",
              "  </thead>\n",
              "  <tbody>\n",
              "    <tr>\n",
              "      <th>count</th>\n",
              "      <td>891</td>\n",
              "      <td>891</td>\n",
              "      <td>891</td>\n",
              "      <td>891</td>\n",
              "      <td>891</td>\n",
              "    </tr>\n",
              "    <tr>\n",
              "      <th>unique</th>\n",
              "      <td>891</td>\n",
              "      <td>2</td>\n",
              "      <td>681</td>\n",
              "      <td>147</td>\n",
              "      <td>3</td>\n",
              "    </tr>\n",
              "    <tr>\n",
              "      <th>top</th>\n",
              "      <td>Braund, Mr. Owen Harris</td>\n",
              "      <td>male</td>\n",
              "      <td>347082</td>\n",
              "      <td>B96 B98</td>\n",
              "      <td>S</td>\n",
              "    </tr>\n",
              "    <tr>\n",
              "      <th>freq</th>\n",
              "      <td>1</td>\n",
              "      <td>577</td>\n",
              "      <td>7</td>\n",
              "      <td>691</td>\n",
              "      <td>646</td>\n",
              "    </tr>\n",
              "  </tbody>\n",
              "</table>\n",
              "</div>\n",
              "      <button class=\"colab-df-convert\" onclick=\"convertToInteractive('df-5b718506-a4b4-494f-8b1e-7708072ad555')\"\n",
              "              title=\"Convert this dataframe to an interactive table.\"\n",
              "              style=\"display:none;\">\n",
              "        \n",
              "  <svg xmlns=\"http://www.w3.org/2000/svg\" height=\"24px\"viewBox=\"0 0 24 24\"\n",
              "       width=\"24px\">\n",
              "    <path d=\"M0 0h24v24H0V0z\" fill=\"none\"/>\n",
              "    <path d=\"M18.56 5.44l.94 2.06.94-2.06 2.06-.94-2.06-.94-.94-2.06-.94 2.06-2.06.94zm-11 1L8.5 8.5l.94-2.06 2.06-.94-2.06-.94L8.5 2.5l-.94 2.06-2.06.94zm10 10l.94 2.06.94-2.06 2.06-.94-2.06-.94-.94-2.06-.94 2.06-2.06.94z\"/><path d=\"M17.41 7.96l-1.37-1.37c-.4-.4-.92-.59-1.43-.59-.52 0-1.04.2-1.43.59L10.3 9.45l-7.72 7.72c-.78.78-.78 2.05 0 2.83L4 21.41c.39.39.9.59 1.41.59.51 0 1.02-.2 1.41-.59l7.78-7.78 2.81-2.81c.8-.78.8-2.07 0-2.86zM5.41 20L4 18.59l7.72-7.72 1.47 1.35L5.41 20z\"/>\n",
              "  </svg>\n",
              "      </button>\n",
              "      \n",
              "  <style>\n",
              "    .colab-df-container {\n",
              "      display:flex;\n",
              "      flex-wrap:wrap;\n",
              "      gap: 12px;\n",
              "    }\n",
              "\n",
              "    .colab-df-convert {\n",
              "      background-color: #E8F0FE;\n",
              "      border: none;\n",
              "      border-radius: 50%;\n",
              "      cursor: pointer;\n",
              "      display: none;\n",
              "      fill: #1967D2;\n",
              "      height: 32px;\n",
              "      padding: 0 0 0 0;\n",
              "      width: 32px;\n",
              "    }\n",
              "\n",
              "    .colab-df-convert:hover {\n",
              "      background-color: #E2EBFA;\n",
              "      box-shadow: 0px 1px 2px rgba(60, 64, 67, 0.3), 0px 1px 3px 1px rgba(60, 64, 67, 0.15);\n",
              "      fill: #174EA6;\n",
              "    }\n",
              "\n",
              "    [theme=dark] .colab-df-convert {\n",
              "      background-color: #3B4455;\n",
              "      fill: #D2E3FC;\n",
              "    }\n",
              "\n",
              "    [theme=dark] .colab-df-convert:hover {\n",
              "      background-color: #434B5C;\n",
              "      box-shadow: 0px 1px 3px 1px rgba(0, 0, 0, 0.15);\n",
              "      filter: drop-shadow(0px 1px 2px rgba(0, 0, 0, 0.3));\n",
              "      fill: #FFFFFF;\n",
              "    }\n",
              "  </style>\n",
              "\n",
              "      <script>\n",
              "        const buttonEl =\n",
              "          document.querySelector('#df-5b718506-a4b4-494f-8b1e-7708072ad555 button.colab-df-convert');\n",
              "        buttonEl.style.display =\n",
              "          google.colab.kernel.accessAllowed ? 'block' : 'none';\n",
              "\n",
              "        async function convertToInteractive(key) {\n",
              "          const element = document.querySelector('#df-5b718506-a4b4-494f-8b1e-7708072ad555');\n",
              "          const dataTable =\n",
              "            await google.colab.kernel.invokeFunction('convertToInteractive',\n",
              "                                                     [key], {});\n",
              "          if (!dataTable) return;\n",
              "\n",
              "          const docLinkHtml = 'Like what you see? Visit the ' +\n",
              "            '<a target=\"_blank\" href=https://colab.research.google.com/notebooks/data_table.ipynb>data table notebook</a>'\n",
              "            + ' to learn more about interactive tables.';\n",
              "          element.innerHTML = '';\n",
              "          dataTable['output_type'] = 'display_data';\n",
              "          await google.colab.output.renderOutput(dataTable, element);\n",
              "          const docLink = document.createElement('div');\n",
              "          docLink.innerHTML = docLinkHtml;\n",
              "          element.appendChild(docLink);\n",
              "        }\n",
              "      </script>\n",
              "    </div>\n",
              "  </div>\n",
              "  "
            ]
          },
          "metadata": {},
          "execution_count": 20
        }
      ]
    },
    {
      "cell_type": "markdown",
      "source": [
        "We can't multiply strings like `male` or `S` by coefficients, so we need to replace those with numbers.\n",
        "\n",
        "We do that by creating new columns containing *dummy variables*. A dummy variable is a column that contains a `1` where a particular column contains a particular value, or a `0` otherwise. For instance, we could create a dummy variable for `Sex='male'`, which would be a new column containing `1` for rows where `Sex` is `'male'`, and 0 for rows where it isn't.\n"
      ],
      "metadata": {
        "hidden": true,
        "id": "zG7SwU4J20Rt"
      }
    },
    {
      "cell_type": "code",
      "source": [
        "# Pandas can create these automatically using `get_dummies`, which also remove the original columns.\n",
        "# We'll create dummy variables for `Pclass`, even although it's numeric, since the numbers `1`, `2`, and `3` correspond to first, second, and third class cabins - \n",
        "# - not to counts or measures that make sense to multiply by.\n",
        "#  We'll also create dummies for `Sex` and `Embarked` since we'll want to use those as predictors in our model. \n",
        "# On the other hand, `Cabin`, `Name`, and `Ticket` have too many unique values for it to make sense creating dummy variables for them, so we can just disregard them.\n",
        "\n",
        "df = pd.get_dummies(df, columns=['Sex','Pclass','Embarked'])\n",
        "df.columns"
      ],
      "metadata": {
        "hidden": true,
        "execution": {
          "iopub.status.busy": "2022-05-30T22:34:18.899127Z",
          "iopub.execute_input": "2022-05-30T22:34:18.899369Z",
          "iopub.status.idle": "2022-05-30T22:34:18.914993Z",
          "shell.execute_reply.started": "2022-05-30T22:34:18.899338Z",
          "shell.execute_reply": "2022-05-30T22:34:18.914167Z"
        },
        "trusted": true,
        "colab": {
          "base_uri": "https://localhost:8080/"
        },
        "id": "2rFAlmUG20Rt",
        "outputId": "c7060dde-9e65-405d-f50e-ebe46f942386"
      },
      "execution_count": null,
      "outputs": [
        {
          "output_type": "execute_result",
          "data": {
            "text/plain": [
              "Index(['PassengerId', 'Survived', 'Name', 'Age', 'SibSp', 'Parch', 'Ticket', 'Fare', 'Cabin', 'LogFare', 'Sex_female', 'Sex_male',\n",
              "       'Pclass_1', 'Pclass_2', 'Pclass_3', 'Embarked_C', 'Embarked_Q', 'Embarked_S'],\n",
              "      dtype='object')"
            ]
          },
          "metadata": {},
          "execution_count": 21
        }
      ]
    },
    {
      "cell_type": "markdown",
      "source": [
        "We can see that 5 columns have been added to the end -- one for each of the possible values of each of the three columns we requested, and that those three requested columns have been removed.\n",
        "\n",
        "Here's what the first few rows of those newly added columns look like:"
      ],
      "metadata": {
        "hidden": true,
        "id": "xpDRLXqj20Rt"
      }
    },
    {
      "cell_type": "code",
      "source": [
        "added_cols = ['Sex_male', 'Sex_female', 'Pclass_1', 'Pclass_2', 'Pclass_3', 'Embarked_C', 'Embarked_Q', 'Embarked_S']\n",
        "df[added_cols].head()"
      ],
      "metadata": {
        "hidden": true,
        "execution": {
          "iopub.status.busy": "2022-05-30T22:34:18.916186Z",
          "iopub.execute_input": "2022-05-30T22:34:18.916456Z",
          "iopub.status.idle": "2022-05-30T22:34:18.933746Z",
          "shell.execute_reply.started": "2022-05-30T22:34:18.916426Z",
          "shell.execute_reply": "2022-05-30T22:34:18.933135Z"
        },
        "trusted": true,
        "colab": {
          "base_uri": "https://localhost:8080/",
          "height": 206
        },
        "id": "jFwbqP5T20Rt",
        "outputId": "b0dcf692-200c-48d4-e8a4-40aafab298f4"
      },
      "execution_count": null,
      "outputs": [
        {
          "output_type": "execute_result",
          "data": {
            "text/plain": [
              "   Sex_male  Sex_female  Pclass_1  Pclass_2  Pclass_3  Embarked_C  Embarked_Q  Embarked_S\n",
              "0         1           0         0         0         1           0           0           1\n",
              "1         0           1         1         0         0           1           0           0\n",
              "2         0           1         0         0         1           0           0           1\n",
              "3         0           1         1         0         0           0           0           1\n",
              "4         1           0         0         0         1           0           0           1"
            ],
            "text/html": [
              "\n",
              "  <div id=\"df-f755c158-1b88-43a4-9ed7-002d595a8c82\">\n",
              "    <div class=\"colab-df-container\">\n",
              "      <div>\n",
              "<style scoped>\n",
              "    .dataframe tbody tr th:only-of-type {\n",
              "        vertical-align: middle;\n",
              "    }\n",
              "\n",
              "    .dataframe tbody tr th {\n",
              "        vertical-align: top;\n",
              "    }\n",
              "\n",
              "    .dataframe thead th {\n",
              "        text-align: right;\n",
              "    }\n",
              "</style>\n",
              "<table border=\"1\" class=\"dataframe\">\n",
              "  <thead>\n",
              "    <tr style=\"text-align: right;\">\n",
              "      <th></th>\n",
              "      <th>Sex_male</th>\n",
              "      <th>Sex_female</th>\n",
              "      <th>Pclass_1</th>\n",
              "      <th>Pclass_2</th>\n",
              "      <th>Pclass_3</th>\n",
              "      <th>Embarked_C</th>\n",
              "      <th>Embarked_Q</th>\n",
              "      <th>Embarked_S</th>\n",
              "    </tr>\n",
              "  </thead>\n",
              "  <tbody>\n",
              "    <tr>\n",
              "      <th>0</th>\n",
              "      <td>1</td>\n",
              "      <td>0</td>\n",
              "      <td>0</td>\n",
              "      <td>0</td>\n",
              "      <td>1</td>\n",
              "      <td>0</td>\n",
              "      <td>0</td>\n",
              "      <td>1</td>\n",
              "    </tr>\n",
              "    <tr>\n",
              "      <th>1</th>\n",
              "      <td>0</td>\n",
              "      <td>1</td>\n",
              "      <td>1</td>\n",
              "      <td>0</td>\n",
              "      <td>0</td>\n",
              "      <td>1</td>\n",
              "      <td>0</td>\n",
              "      <td>0</td>\n",
              "    </tr>\n",
              "    <tr>\n",
              "      <th>2</th>\n",
              "      <td>0</td>\n",
              "      <td>1</td>\n",
              "      <td>0</td>\n",
              "      <td>0</td>\n",
              "      <td>1</td>\n",
              "      <td>0</td>\n",
              "      <td>0</td>\n",
              "      <td>1</td>\n",
              "    </tr>\n",
              "    <tr>\n",
              "      <th>3</th>\n",
              "      <td>0</td>\n",
              "      <td>1</td>\n",
              "      <td>1</td>\n",
              "      <td>0</td>\n",
              "      <td>0</td>\n",
              "      <td>0</td>\n",
              "      <td>0</td>\n",
              "      <td>1</td>\n",
              "    </tr>\n",
              "    <tr>\n",
              "      <th>4</th>\n",
              "      <td>1</td>\n",
              "      <td>0</td>\n",
              "      <td>0</td>\n",
              "      <td>0</td>\n",
              "      <td>1</td>\n",
              "      <td>0</td>\n",
              "      <td>0</td>\n",
              "      <td>1</td>\n",
              "    </tr>\n",
              "  </tbody>\n",
              "</table>\n",
              "</div>\n",
              "      <button class=\"colab-df-convert\" onclick=\"convertToInteractive('df-f755c158-1b88-43a4-9ed7-002d595a8c82')\"\n",
              "              title=\"Convert this dataframe to an interactive table.\"\n",
              "              style=\"display:none;\">\n",
              "        \n",
              "  <svg xmlns=\"http://www.w3.org/2000/svg\" height=\"24px\"viewBox=\"0 0 24 24\"\n",
              "       width=\"24px\">\n",
              "    <path d=\"M0 0h24v24H0V0z\" fill=\"none\"/>\n",
              "    <path d=\"M18.56 5.44l.94 2.06.94-2.06 2.06-.94-2.06-.94-.94-2.06-.94 2.06-2.06.94zm-11 1L8.5 8.5l.94-2.06 2.06-.94-2.06-.94L8.5 2.5l-.94 2.06-2.06.94zm10 10l.94 2.06.94-2.06 2.06-.94-2.06-.94-.94-2.06-.94 2.06-2.06.94z\"/><path d=\"M17.41 7.96l-1.37-1.37c-.4-.4-.92-.59-1.43-.59-.52 0-1.04.2-1.43.59L10.3 9.45l-7.72 7.72c-.78.78-.78 2.05 0 2.83L4 21.41c.39.39.9.59 1.41.59.51 0 1.02-.2 1.41-.59l7.78-7.78 2.81-2.81c.8-.78.8-2.07 0-2.86zM5.41 20L4 18.59l7.72-7.72 1.47 1.35L5.41 20z\"/>\n",
              "  </svg>\n",
              "      </button>\n",
              "      \n",
              "  <style>\n",
              "    .colab-df-container {\n",
              "      display:flex;\n",
              "      flex-wrap:wrap;\n",
              "      gap: 12px;\n",
              "    }\n",
              "\n",
              "    .colab-df-convert {\n",
              "      background-color: #E8F0FE;\n",
              "      border: none;\n",
              "      border-radius: 50%;\n",
              "      cursor: pointer;\n",
              "      display: none;\n",
              "      fill: #1967D2;\n",
              "      height: 32px;\n",
              "      padding: 0 0 0 0;\n",
              "      width: 32px;\n",
              "    }\n",
              "\n",
              "    .colab-df-convert:hover {\n",
              "      background-color: #E2EBFA;\n",
              "      box-shadow: 0px 1px 2px rgba(60, 64, 67, 0.3), 0px 1px 3px 1px rgba(60, 64, 67, 0.15);\n",
              "      fill: #174EA6;\n",
              "    }\n",
              "\n",
              "    [theme=dark] .colab-df-convert {\n",
              "      background-color: #3B4455;\n",
              "      fill: #D2E3FC;\n",
              "    }\n",
              "\n",
              "    [theme=dark] .colab-df-convert:hover {\n",
              "      background-color: #434B5C;\n",
              "      box-shadow: 0px 1px 3px 1px rgba(0, 0, 0, 0.15);\n",
              "      filter: drop-shadow(0px 1px 2px rgba(0, 0, 0, 0.3));\n",
              "      fill: #FFFFFF;\n",
              "    }\n",
              "  </style>\n",
              "\n",
              "      <script>\n",
              "        const buttonEl =\n",
              "          document.querySelector('#df-f755c158-1b88-43a4-9ed7-002d595a8c82 button.colab-df-convert');\n",
              "        buttonEl.style.display =\n",
              "          google.colab.kernel.accessAllowed ? 'block' : 'none';\n",
              "\n",
              "        async function convertToInteractive(key) {\n",
              "          const element = document.querySelector('#df-f755c158-1b88-43a4-9ed7-002d595a8c82');\n",
              "          const dataTable =\n",
              "            await google.colab.kernel.invokeFunction('convertToInteractive',\n",
              "                                                     [key], {});\n",
              "          if (!dataTable) return;\n",
              "\n",
              "          const docLinkHtml = 'Like what you see? Visit the ' +\n",
              "            '<a target=\"_blank\" href=https://colab.research.google.com/notebooks/data_table.ipynb>data table notebook</a>'\n",
              "            + ' to learn more about interactive tables.';\n",
              "          element.innerHTML = '';\n",
              "          dataTable['output_type'] = 'display_data';\n",
              "          await google.colab.output.renderOutput(dataTable, element);\n",
              "          const docLink = document.createElement('div');\n",
              "          docLink.innerHTML = docLinkHtml;\n",
              "          element.appendChild(docLink);\n",
              "        }\n",
              "      </script>\n",
              "    </div>\n",
              "  </div>\n",
              "  "
            ]
          },
          "metadata": {},
          "execution_count": 22
        }
      ]
    },
    {
      "cell_type": "markdown",
      "source": [
        "Now we can create our independent (predictors) and dependent (target) variables. They both need to be PyTorch tensors. Our dependent variable is `Survived`:"
      ],
      "metadata": {
        "hidden": true,
        "id": "72dwZPGX20Ru"
      }
    },
    {
      "cell_type": "code",
      "source": [
        "from torch import tensor\n",
        "\n",
        "t_dep = tensor(df.Survived)"
      ],
      "metadata": {
        "hidden": true,
        "execution": {
          "iopub.status.busy": "2022-05-30T22:34:18.934648Z",
          "iopub.execute_input": "2022-05-30T22:34:18.935422Z",
          "iopub.status.idle": "2022-05-30T22:34:18.944596Z",
          "shell.execute_reply.started": "2022-05-30T22:34:18.935384Z",
          "shell.execute_reply": "2022-05-30T22:34:18.943444Z"
        },
        "trusted": true,
        "id": "Z2cj7BiX20Ru"
      },
      "execution_count": null,
      "outputs": []
    },
    {
      "cell_type": "markdown",
      "source": [
        "Our independent variables are all the continuous variables of interest plus all the dummy variables we just created:"
      ],
      "metadata": {
        "hidden": true,
        "id": "lMI_mO5I20Ru"
      }
    },
    {
      "cell_type": "code",
      "source": [
        "indep_cols = ['Age', 'SibSp', 'Parch', 'LogFare'] + added_cols\n",
        "\n",
        "t_indep = tensor(df[indep_cols].values, dtype=torch.float)\n",
        "t_indep"
      ],
      "metadata": {
        "hidden": true,
        "execution": {
          "iopub.status.busy": "2022-05-30T22:34:18.94652Z",
          "iopub.execute_input": "2022-05-30T22:34:18.946772Z",
          "iopub.status.idle": "2022-05-30T22:34:18.96487Z",
          "shell.execute_reply.started": "2022-05-30T22:34:18.946741Z",
          "shell.execute_reply": "2022-05-30T22:34:18.963667Z"
        },
        "trusted": true,
        "colab": {
          "base_uri": "https://localhost:8080/"
        },
        "id": "83yp4OHL20Ru",
        "outputId": "fd55150f-04d8-4ead-a501-5c5e19b832a0"
      },
      "execution_count": null,
      "outputs": [
        {
          "output_type": "execute_result",
          "data": {
            "text/plain": [
              "tensor([[22.0000,  1.0000,  0.0000,  2.1102,  1.0000,  0.0000,  0.0000,  0.0000,  1.0000,  0.0000,  0.0000,  1.0000],\n",
              "        [38.0000,  1.0000,  0.0000,  4.2806,  0.0000,  1.0000,  1.0000,  0.0000,  0.0000,  1.0000,  0.0000,  0.0000],\n",
              "        [26.0000,  0.0000,  0.0000,  2.1889,  0.0000,  1.0000,  0.0000,  0.0000,  1.0000,  0.0000,  0.0000,  1.0000],\n",
              "        [35.0000,  1.0000,  0.0000,  3.9908,  0.0000,  1.0000,  1.0000,  0.0000,  0.0000,  0.0000,  0.0000,  1.0000],\n",
              "        [35.0000,  0.0000,  0.0000,  2.2028,  1.0000,  0.0000,  0.0000,  0.0000,  1.0000,  0.0000,  0.0000,  1.0000],\n",
              "        [24.0000,  0.0000,  0.0000,  2.2469,  1.0000,  0.0000,  0.0000,  0.0000,  1.0000,  0.0000,  1.0000,  0.0000],\n",
              "        [54.0000,  0.0000,  0.0000,  3.9677,  1.0000,  0.0000,  1.0000,  0.0000,  0.0000,  0.0000,  0.0000,  1.0000],\n",
              "        ...,\n",
              "        [25.0000,  0.0000,  0.0000,  2.0857,  1.0000,  0.0000,  0.0000,  0.0000,  1.0000,  0.0000,  0.0000,  1.0000],\n",
              "        [39.0000,  0.0000,  5.0000,  3.4054,  0.0000,  1.0000,  0.0000,  0.0000,  1.0000,  0.0000,  1.0000,  0.0000],\n",
              "        [27.0000,  0.0000,  0.0000,  2.6391,  1.0000,  0.0000,  0.0000,  1.0000,  0.0000,  0.0000,  0.0000,  1.0000],\n",
              "        [19.0000,  0.0000,  0.0000,  3.4340,  0.0000,  1.0000,  1.0000,  0.0000,  0.0000,  0.0000,  0.0000,  1.0000],\n",
              "        [24.0000,  1.0000,  2.0000,  3.1966,  0.0000,  1.0000,  0.0000,  0.0000,  1.0000,  0.0000,  0.0000,  1.0000],\n",
              "        [26.0000,  0.0000,  0.0000,  3.4340,  1.0000,  0.0000,  1.0000,  0.0000,  0.0000,  1.0000,  0.0000,  0.0000],\n",
              "        [32.0000,  0.0000,  0.0000,  2.1691,  1.0000,  0.0000,  0.0000,  0.0000,  1.0000,  0.0000,  1.0000,  0.0000]])"
            ]
          },
          "metadata": {},
          "execution_count": 24
        }
      ]
    },
    {
      "cell_type": "markdown",
      "source": [
        "Here's the number of rows and columns we have for our independent variables:"
      ],
      "metadata": {
        "hidden": true,
        "id": "s1EJ9M9620Ru"
      }
    },
    {
      "cell_type": "code",
      "source": [
        "t_indep.shape"
      ],
      "metadata": {
        "hidden": true,
        "execution": {
          "iopub.status.busy": "2022-05-30T22:34:18.968005Z",
          "iopub.execute_input": "2022-05-30T22:34:18.969136Z",
          "iopub.status.idle": "2022-05-30T22:34:18.98114Z",
          "shell.execute_reply.started": "2022-05-30T22:34:18.969092Z",
          "shell.execute_reply": "2022-05-30T22:34:18.980184Z"
        },
        "trusted": true,
        "colab": {
          "base_uri": "https://localhost:8080/"
        },
        "id": "D-QmVoSL20Ru",
        "outputId": "f0d286ec-6664-477a-90e9-12e56b7fe55c"
      },
      "execution_count": null,
      "outputs": [
        {
          "output_type": "execute_result",
          "data": {
            "text/plain": [
              "torch.Size([891, 12])"
            ]
          },
          "metadata": {},
          "execution_count": 25
        }
      ]
    },
    {
      "cell_type": "markdown",
      "source": [
        "## Setting up a linear model"
      ],
      "metadata": {
        "id": "d3CWvU3_20Ru"
      }
    },
    {
      "cell_type": "markdown",
      "source": [
        "Now that we've got a matrix of independent variables and a dependent variable vector, we can work on calculating our predictions and our loss. In this section, we're going to manually do a single step of calculating predictions and loss for every row of our data.\n",
        "\n",
        "Our first model will be a simple linear model. We'll need a coefficient for each column in `t_indep`. We'll pick random numbers in the range `(-0.5,0.5)`, and set our manual seed so that my explanations in the prose in this notebook will be consistent with what you see when you run it."
      ],
      "metadata": {
        "id": "Ln6-azTQ20Ru"
      }
    },
    {
      "cell_type": "code",
      "source": [
        "torch.manual_seed(442)\n",
        "\n",
        "n_coeff = t_indep.shape[1]\n",
        "coeffs = torch.rand(n_coeff)-0.5\n",
        "coeffs"
      ],
      "metadata": {
        "execution": {
          "iopub.status.busy": "2022-05-30T22:34:18.982492Z",
          "iopub.execute_input": "2022-05-30T22:34:18.983237Z",
          "iopub.status.idle": "2022-05-30T22:34:18.995038Z",
          "shell.execute_reply.started": "2022-05-30T22:34:18.983187Z",
          "shell.execute_reply": "2022-05-30T22:34:18.994437Z"
        },
        "trusted": true,
        "colab": {
          "base_uri": "https://localhost:8080/"
        },
        "id": "j74gTT4E20Ru",
        "outputId": "09cec906-e381-4e4b-8cd9-80bd9381ce11"
      },
      "execution_count": null,
      "outputs": [
        {
          "output_type": "execute_result",
          "data": {
            "text/plain": [
              "tensor([-0.4629,  0.1386,  0.2409, -0.2262, -0.2632, -0.3147,  0.4876,  0.3136,  0.2799, -0.4392,  0.2103,  0.3625])"
            ]
          },
          "metadata": {},
          "execution_count": 26
        }
      ]
    },
    {
      "cell_type": "markdown",
      "source": [
        "Our predictions will be calculated by multiplying each row by the coefficients, and adding them up. One interesting point here is that we don't need a separate constant term (also known as a \"bias\" or \"intercept\" term), or a column of all `1`s to give the same effect has having a constant term. That's because our dummy variables already cover the entire dataset -- e.g. there's a column for \"male\" and a column for \"female\", and everyone in the dataset is in exactly one of these; therefore, we don't need a separate intercept term to cover rows that aren't otherwise part of a column.\n",
        "\n",
        "Here's what the multiplication looks like:"
      ],
      "metadata": {
        "id": "4XDauy4b20Rv"
      }
    },
    {
      "cell_type": "code",
      "source": [
        "t_indep*coeffs"
      ],
      "metadata": {
        "execution": {
          "iopub.status.busy": "2022-05-30T22:34:18.999409Z",
          "iopub.execute_input": "2022-05-30T22:34:19.000637Z",
          "iopub.status.idle": "2022-05-30T22:34:19.009362Z",
          "shell.execute_reply.started": "2022-05-30T22:34:19.000588Z",
          "shell.execute_reply": "2022-05-30T22:34:19.00847Z"
        },
        "trusted": true,
        "colab": {
          "base_uri": "https://localhost:8080/"
        },
        "id": "hPN9DE9O20Rv",
        "outputId": "e25dd660-115a-4f45-95d8-77ff90f8ccac"
      },
      "execution_count": null,
      "outputs": [
        {
          "output_type": "execute_result",
          "data": {
            "text/plain": [
              "tensor([[-10.1838,   0.1386,   0.0000,  -0.4772,  -0.2632,  -0.0000,   0.0000,   0.0000,   0.2799,  -0.0000,   0.0000,   0.3625],\n",
              "        [-17.5902,   0.1386,   0.0000,  -0.9681,  -0.0000,  -0.3147,   0.4876,   0.0000,   0.0000,  -0.4392,   0.0000,   0.0000],\n",
              "        [-12.0354,   0.0000,   0.0000,  -0.4950,  -0.0000,  -0.3147,   0.0000,   0.0000,   0.2799,  -0.0000,   0.0000,   0.3625],\n",
              "        [-16.2015,   0.1386,   0.0000,  -0.9025,  -0.0000,  -0.3147,   0.4876,   0.0000,   0.0000,  -0.0000,   0.0000,   0.3625],\n",
              "        [-16.2015,   0.0000,   0.0000,  -0.4982,  -0.2632,  -0.0000,   0.0000,   0.0000,   0.2799,  -0.0000,   0.0000,   0.3625],\n",
              "        [-11.1096,   0.0000,   0.0000,  -0.5081,  -0.2632,  -0.0000,   0.0000,   0.0000,   0.2799,  -0.0000,   0.2103,   0.0000],\n",
              "        [-24.9966,   0.0000,   0.0000,  -0.8973,  -0.2632,  -0.0000,   0.4876,   0.0000,   0.0000,  -0.0000,   0.0000,   0.3625],\n",
              "        ...,\n",
              "        [-11.5725,   0.0000,   0.0000,  -0.4717,  -0.2632,  -0.0000,   0.0000,   0.0000,   0.2799,  -0.0000,   0.0000,   0.3625],\n",
              "        [-18.0531,   0.0000,   1.2045,  -0.7701,  -0.0000,  -0.3147,   0.0000,   0.0000,   0.2799,  -0.0000,   0.2103,   0.0000],\n",
              "        [-12.4983,   0.0000,   0.0000,  -0.5968,  -0.2632,  -0.0000,   0.0000,   0.3136,   0.0000,  -0.0000,   0.0000,   0.3625],\n",
              "        [ -8.7951,   0.0000,   0.0000,  -0.7766,  -0.0000,  -0.3147,   0.4876,   0.0000,   0.0000,  -0.0000,   0.0000,   0.3625],\n",
              "        [-11.1096,   0.1386,   0.4818,  -0.7229,  -0.0000,  -0.3147,   0.0000,   0.0000,   0.2799,  -0.0000,   0.0000,   0.3625],\n",
              "        [-12.0354,   0.0000,   0.0000,  -0.7766,  -0.2632,  -0.0000,   0.4876,   0.0000,   0.0000,  -0.4392,   0.0000,   0.0000],\n",
              "        [-14.8128,   0.0000,   0.0000,  -0.4905,  -0.2632,  -0.0000,   0.0000,   0.0000,   0.2799,  -0.0000,   0.2103,   0.0000]])"
            ]
          },
          "metadata": {},
          "execution_count": 27
        }
      ]
    },
    {
      "cell_type": "markdown",
      "source": [
        "We can see we've got a problem here. The sums of each row will be dominated by the first column, which is `Age`, since that's bigger on average than all the others.\n",
        "\n",
        "Let's make all the columns contain numbers from `0` to `1`, by dividing each column by its `max()`:"
      ],
      "metadata": {
        "id": "a3srIF8e20Rv"
      }
    },
    {
      "cell_type": "code",
      "source": [
        "vals,indices = t_indep.max(dim=0)\n",
        "t_indep = t_indep/vals"
      ],
      "metadata": {
        "execution": {
          "iopub.status.busy": "2022-05-30T22:34:19.010954Z",
          "iopub.execute_input": "2022-05-30T22:34:19.011202Z",
          "iopub.status.idle": "2022-05-30T22:34:19.02202Z",
          "shell.execute_reply.started": "2022-05-30T22:34:19.011171Z",
          "shell.execute_reply": "2022-05-30T22:34:19.02133Z"
        },
        "trusted": true,
        "id": "udSxYSlJ20Rv"
      },
      "execution_count": null,
      "outputs": []
    },
    {
      "cell_type": "markdown",
      "source": [
        "As we see, that removes the problem of one column dominating all the others:"
      ],
      "metadata": {
        "id": "IIG0qLyP20Rv"
      }
    },
    {
      "cell_type": "code",
      "source": [
        "t_indep*coeffs"
      ],
      "metadata": {
        "execution": {
          "iopub.status.busy": "2022-05-30T22:34:19.042223Z",
          "iopub.execute_input": "2022-05-30T22:34:19.04269Z",
          "iopub.status.idle": "2022-05-30T22:34:19.050475Z",
          "shell.execute_reply.started": "2022-05-30T22:34:19.042652Z",
          "shell.execute_reply": "2022-05-30T22:34:19.049515Z"
        },
        "trusted": true,
        "colab": {
          "base_uri": "https://localhost:8080/"
        },
        "id": "on5QBOsS20Rv",
        "outputId": "71644773-aa0d-4769-af7d-9a20caf756b7"
      },
      "execution_count": null,
      "outputs": [
        {
          "output_type": "execute_result",
          "data": {
            "text/plain": [
              "tensor([[-0.1273,  0.0173,  0.0000, -0.0765, -0.2632, -0.0000,  0.0000,  0.0000,  0.2799, -0.0000,  0.0000,  0.3625],\n",
              "        [-0.2199,  0.0173,  0.0000, -0.1551, -0.0000, -0.3147,  0.4876,  0.0000,  0.0000, -0.4392,  0.0000,  0.0000],\n",
              "        [-0.1504,  0.0000,  0.0000, -0.0793, -0.0000, -0.3147,  0.0000,  0.0000,  0.2799, -0.0000,  0.0000,  0.3625],\n",
              "        [-0.2025,  0.0173,  0.0000, -0.1446, -0.0000, -0.3147,  0.4876,  0.0000,  0.0000, -0.0000,  0.0000,  0.3625],\n",
              "        [-0.2025,  0.0000,  0.0000, -0.0798, -0.2632, -0.0000,  0.0000,  0.0000,  0.2799, -0.0000,  0.0000,  0.3625],\n",
              "        [-0.1389,  0.0000,  0.0000, -0.0814, -0.2632, -0.0000,  0.0000,  0.0000,  0.2799, -0.0000,  0.2103,  0.0000],\n",
              "        [-0.3125,  0.0000,  0.0000, -0.1438, -0.2632, -0.0000,  0.4876,  0.0000,  0.0000, -0.0000,  0.0000,  0.3625],\n",
              "        ...,\n",
              "        [-0.1447,  0.0000,  0.0000, -0.0756, -0.2632, -0.0000,  0.0000,  0.0000,  0.2799, -0.0000,  0.0000,  0.3625],\n",
              "        [-0.2257,  0.0000,  0.2008, -0.1234, -0.0000, -0.3147,  0.0000,  0.0000,  0.2799, -0.0000,  0.2103,  0.0000],\n",
              "        [-0.1562,  0.0000,  0.0000, -0.0956, -0.2632, -0.0000,  0.0000,  0.3136,  0.0000, -0.0000,  0.0000,  0.3625],\n",
              "        [-0.1099,  0.0000,  0.0000, -0.1244, -0.0000, -0.3147,  0.4876,  0.0000,  0.0000, -0.0000,  0.0000,  0.3625],\n",
              "        [-0.1389,  0.0173,  0.0803, -0.1158, -0.0000, -0.3147,  0.0000,  0.0000,  0.2799, -0.0000,  0.0000,  0.3625],\n",
              "        [-0.1504,  0.0000,  0.0000, -0.1244, -0.2632, -0.0000,  0.4876,  0.0000,  0.0000, -0.4392,  0.0000,  0.0000],\n",
              "        [-0.1852,  0.0000,  0.0000, -0.0786, -0.2632, -0.0000,  0.0000,  0.0000,  0.2799, -0.0000,  0.2103,  0.0000]])"
            ]
          },
          "metadata": {},
          "execution_count": 29
        }
      ]
    },
    {
      "cell_type": "markdown",
      "source": [
        "\n",
        "We can now create predictions from our linear model, by adding up the rows of the product:"
      ],
      "metadata": {
        "id": "l2wxnbgn20Rv"
      }
    },
    {
      "cell_type": "code",
      "source": [
        "preds = (t_indep*coeffs).sum(axis=1)"
      ],
      "metadata": {
        "execution": {
          "iopub.status.busy": "2022-05-30T22:34:19.096685Z",
          "iopub.execute_input": "2022-05-30T22:34:19.097604Z",
          "iopub.status.idle": "2022-05-30T22:34:19.1028Z",
          "shell.execute_reply.started": "2022-05-30T22:34:19.097545Z",
          "shell.execute_reply": "2022-05-30T22:34:19.10218Z"
        },
        "trusted": true,
        "id": "P5AE50lm20Rv"
      },
      "execution_count": null,
      "outputs": []
    },
    {
      "cell_type": "markdown",
      "source": [
        "Let's take a look at the first few:"
      ],
      "metadata": {
        "id": "nPPEUY5O20Rw"
      }
    },
    {
      "cell_type": "code",
      "source": [
        "preds[:10]"
      ],
      "metadata": {
        "execution": {
          "iopub.status.busy": "2022-05-30T22:34:19.160318Z",
          "iopub.execute_input": "2022-05-30T22:34:19.160794Z",
          "iopub.status.idle": "2022-05-30T22:34:19.168117Z",
          "shell.execute_reply.started": "2022-05-30T22:34:19.160761Z",
          "shell.execute_reply": "2022-05-30T22:34:19.167355Z"
        },
        "trusted": true,
        "colab": {
          "base_uri": "https://localhost:8080/"
        },
        "id": "2vMAt1AQ20Rw",
        "outputId": "cab44f3c-2298-4da9-d083-7246f92b081e"
      },
      "execution_count": null,
      "outputs": [
        {
          "output_type": "execute_result",
          "data": {
            "text/plain": [
              "tensor([ 0.1927, -0.6239,  0.0979,  0.2056,  0.0968,  0.0066,  0.1306,  0.3476,  0.1613, -0.6285])"
            ]
          },
          "metadata": {},
          "execution_count": 31
        }
      ]
    },
    {
      "cell_type": "markdown",
      "source": [
        "Of course, these predictions aren't going to be any use, since our coefficients are random -- they're just a starting point for our gradient descent process.\n",
        "\n",
        "To do gradient descent, we need a loss function. Taking the average error of the rows (i.e. the absolute value of the difference between the prediction and the dependent) is generally a reasonable approach:"
      ],
      "metadata": {
        "id": "pgEhng9C20Rw"
      }
    },
    {
      "cell_type": "code",
      "source": [
        "# MAE\n",
        "\n",
        "loss = torch.abs(preds-t_dep).mean()\n",
        "loss"
      ],
      "metadata": {
        "execution": {
          "iopub.status.busy": "2022-05-30T22:34:19.235318Z",
          "iopub.execute_input": "2022-05-30T22:34:19.235623Z",
          "iopub.status.idle": "2022-05-30T22:34:19.24312Z",
          "shell.execute_reply.started": "2022-05-30T22:34:19.235589Z",
          "shell.execute_reply": "2022-05-30T22:34:19.242356Z"
        },
        "trusted": true,
        "colab": {
          "base_uri": "https://localhost:8080/"
        },
        "id": "615NIcjl20Rw",
        "outputId": "35bf111a-a0b9-42cd-b657-6b35a15f6f15"
      },
      "execution_count": null,
      "outputs": [
        {
          "output_type": "execute_result",
          "data": {
            "text/plain": [
              "tensor(0.5382)"
            ]
          },
          "metadata": {},
          "execution_count": 32
        }
      ]
    },
    {
      "cell_type": "markdown",
      "source": [
        "Now that we've tested out a way of calculating predictions, and loss, let's pop them into functions to make life easier:"
      ],
      "metadata": {
        "id": "fJEYyUpT20Rw"
      }
    },
    {
      "cell_type": "code",
      "source": [
        "def calc_preds(coeffs, indeps): \n",
        "  return (indeps*coeffs).sum(axis=1)\n",
        "def calc_loss(coeffs, indeps, deps):\n",
        "  return torch.abs(calc_preds(coeffs, indeps)-deps).mean()"
      ],
      "metadata": {
        "execution": {
          "iopub.status.busy": "2022-05-30T22:34:19.295577Z",
          "iopub.execute_input": "2022-05-30T22:34:19.296558Z",
          "iopub.status.idle": "2022-05-30T22:34:19.301478Z",
          "shell.execute_reply.started": "2022-05-30T22:34:19.296517Z",
          "shell.execute_reply": "2022-05-30T22:34:19.300683Z"
        },
        "trusted": true,
        "id": "wyNaFzu920Rw"
      },
      "execution_count": null,
      "outputs": []
    },
    {
      "cell_type": "markdown",
      "source": [
        "## Doing a gradient descent step"
      ],
      "metadata": {
        "id": "T6wciuNV20Rw"
      }
    },
    {
      "cell_type": "markdown",
      "source": [
        "In this section, we're going to do a single \"epoch\" of gradient descent manually. The only thing we're going to automate is calculating gradients, because let's face it that's pretty tedious and entirely pointless to do by hand! To get PyTorch to calculate gradients, we'll need to call `requires_grad_()` on our `coeffs` "
      ],
      "metadata": {
        "id": "OSXAdG6j20Rw"
      }
    },
    {
      "cell_type": "code",
      "source": [
        "coeffs.requires_grad_()"
      ],
      "metadata": {
        "execution": {
          "iopub.status.busy": "2022-05-30T22:34:19.375387Z",
          "iopub.execute_input": "2022-05-30T22:34:19.376212Z",
          "iopub.status.idle": "2022-05-30T22:34:19.382205Z",
          "shell.execute_reply.started": "2022-05-30T22:34:19.376163Z",
          "shell.execute_reply": "2022-05-30T22:34:19.381536Z"
        },
        "trusted": true,
        "colab": {
          "base_uri": "https://localhost:8080/"
        },
        "id": "O7SAkDWS20Rw",
        "outputId": "ce7526ce-83f0-4dbf-9d63-1d0df4799afa"
      },
      "execution_count": null,
      "outputs": [
        {
          "output_type": "execute_result",
          "data": {
            "text/plain": [
              "tensor([-0.4629,  0.1386,  0.2409, -0.2262, -0.2632, -0.3147,  0.4876,  0.3136,  0.2799, -0.4392,  0.2103,  0.3625], requires_grad=True)"
            ]
          },
          "metadata": {},
          "execution_count": 34
        }
      ]
    },
    {
      "cell_type": "markdown",
      "source": [
        "Now when we calculate our loss, PyTorch will keep track of all the steps, so we'll be able to get the gradients afterwards:"
      ],
      "metadata": {
        "id": "AN-af5wL20Rx"
      }
    },
    {
      "cell_type": "code",
      "source": [
        "loss = calc_loss(coeffs, t_indep, t_dep)\n",
        "loss"
      ],
      "metadata": {
        "execution": {
          "iopub.status.busy": "2022-05-30T22:34:19.437208Z",
          "iopub.execute_input": "2022-05-30T22:34:19.438026Z",
          "iopub.status.idle": "2022-05-30T22:34:19.444641Z",
          "shell.execute_reply.started": "2022-05-30T22:34:19.437985Z",
          "shell.execute_reply": "2022-05-30T22:34:19.443791Z"
        },
        "trusted": true,
        "colab": {
          "base_uri": "https://localhost:8080/"
        },
        "id": "ct5SoWRW20Rx",
        "outputId": "844f125a-c1cc-410e-fe12-0bd20ca6c0d3"
      },
      "execution_count": null,
      "outputs": [
        {
          "output_type": "execute_result",
          "data": {
            "text/plain": [
              "tensor(0.5382, grad_fn=<MeanBackward0>)"
            ]
          },
          "metadata": {},
          "execution_count": 35
        }
      ]
    },
    {
      "cell_type": "markdown",
      "source": [
        "Use `backward()` to ask PyTorch to calculate gradients now:"
      ],
      "metadata": {
        "id": "J_LtJECy20Rx"
      }
    },
    {
      "cell_type": "code",
      "source": [
        "loss.backward()"
      ],
      "metadata": {
        "execution": {
          "iopub.status.busy": "2022-05-30T22:34:19.491601Z",
          "iopub.execute_input": "2022-05-30T22:34:19.49239Z",
          "iopub.status.idle": "2022-05-30T22:34:19.496556Z",
          "shell.execute_reply.started": "2022-05-30T22:34:19.492353Z",
          "shell.execute_reply": "2022-05-30T22:34:19.495831Z"
        },
        "trusted": true,
        "id": "xsUNCrcd20Rx"
      },
      "execution_count": null,
      "outputs": []
    },
    {
      "cell_type": "markdown",
      "source": [
        "Let's see what they look like:"
      ],
      "metadata": {
        "id": "ejU-7WOg20Rx"
      }
    },
    {
      "cell_type": "code",
      "source": [
        "coeffs.grad"
      ],
      "metadata": {
        "execution": {
          "iopub.status.busy": "2022-05-30T22:34:19.549651Z",
          "iopub.execute_input": "2022-05-30T22:34:19.550501Z",
          "iopub.status.idle": "2022-05-30T22:34:19.555905Z",
          "shell.execute_reply.started": "2022-05-30T22:34:19.550456Z",
          "shell.execute_reply": "2022-05-30T22:34:19.555257Z"
        },
        "trusted": true,
        "colab": {
          "base_uri": "https://localhost:8080/"
        },
        "id": "CjGmLk2020Rx",
        "outputId": "ae109945-be19-4650-e002-db0dcd310a25"
      },
      "execution_count": null,
      "outputs": [
        {
          "output_type": "execute_result",
          "data": {
            "text/plain": [
              "tensor([-0.0106,  0.0129, -0.0041, -0.0484,  0.2099, -0.2132, -0.1212, -0.0247,  0.1425, -0.1886, -0.0191,  0.2043])"
            ]
          },
          "metadata": {},
          "execution_count": 37
        }
      ]
    },
    {
      "cell_type": "markdown",
      "source": [
        "Note that each time we call `backward`, the gradients are actually *added* to whatever is in the `.grad` attribute. Let's try running the above steps again:"
      ],
      "metadata": {
        "id": "hp9k4qI920Rx"
      }
    },
    {
      "cell_type": "code",
      "source": [
        "loss = calc_loss(coeffs, t_indep, t_dep)\n",
        "loss.backward()\n",
        "coeffs.grad"
      ],
      "metadata": {
        "execution": {
          "iopub.status.busy": "2022-05-30T22:34:19.60283Z",
          "iopub.execute_input": "2022-05-30T22:34:19.603236Z",
          "iopub.status.idle": "2022-05-30T22:34:19.610594Z",
          "shell.execute_reply.started": "2022-05-30T22:34:19.603206Z",
          "shell.execute_reply": "2022-05-30T22:34:19.609647Z"
        },
        "trusted": true,
        "colab": {
          "base_uri": "https://localhost:8080/"
        },
        "id": "Z_zaSoeB20Rx",
        "outputId": "3d642866-11a9-4b59-dfd3-5d04c91629a6"
      },
      "execution_count": null,
      "outputs": [
        {
          "output_type": "execute_result",
          "data": {
            "text/plain": [
              "tensor([-0.0212,  0.0258, -0.0082, -0.0969,  0.4198, -0.4265, -0.2424, -0.0494,  0.2851, -0.3771, -0.0382,  0.4085])"
            ]
          },
          "metadata": {},
          "execution_count": 38
        }
      ]
    },
    {
      "cell_type": "markdown",
      "source": [
        "As you see, our `.grad` values are have doubled. That's because it added the gradients a second time. For this reason, after we use the gradients to do a gradient descent step, we need to set them back to zero.\n",
        "\n",
        "We can now do one gradient descent step, and check that our loss decreases:"
      ],
      "metadata": {
        "id": "RO_AU7FJ20Ry"
      }
    },
    {
      "cell_type": "code",
      "source": [
        "loss = calc_loss(coeffs, t_indep, t_dep)\n",
        "loss.backward()\n",
        "with torch.no_grad():\n",
        "    coeffs.sub_(coeffs.grad * 0.1)\n",
        "    coeffs.grad.zero_()\n",
        "    print(calc_loss(coeffs, t_indep, t_dep))"
      ],
      "metadata": {
        "execution": {
          "iopub.status.busy": "2022-05-30T22:34:19.665238Z",
          "iopub.execute_input": "2022-05-30T22:34:19.665739Z",
          "iopub.status.idle": "2022-05-30T22:34:19.674839Z",
          "shell.execute_reply.started": "2022-05-30T22:34:19.665705Z",
          "shell.execute_reply": "2022-05-30T22:34:19.673727Z"
        },
        "trusted": true,
        "colab": {
          "base_uri": "https://localhost:8080/"
        },
        "id": "jkXHyOgG20Ry",
        "outputId": "8b0a0084-de02-4e5a-ff5f-f2ebb15e2234"
      },
      "execution_count": null,
      "outputs": [
        {
          "output_type": "stream",
          "name": "stdout",
          "text": [
            "tensor(0.4945)\n"
          ]
        }
      ]
    },
    {
      "cell_type": "markdown",
      "source": [
        "Note that `a.sub_(b)` subtracts `b` from `a` in-place. In PyTorch, any method that ends in `_` changes its object in-place. Similarly, `a.zero_()` sets all elements of a tensor to zero."
      ],
      "metadata": {
        "id": "px6vAKSC20Ry"
      }
    },
    {
      "cell_type": "markdown",
      "source": [
        "## Training the linear model"
      ],
      "metadata": {
        "id": "y4KWtzyD20Ry"
      }
    },
    {
      "cell_type": "markdown",
      "source": [
        "Before we begin training our model, we'll need to ensure that we hold out a validation set for calculating our metrics \n",
        "\n",
        "There's lots of different ways we can do this. One way is to use `RandomSplitter` to get indices that will split our data into training and validation sets:"
      ],
      "metadata": {
        "id": "m56H815f20Ry"
      }
    },
    {
      "cell_type": "code",
      "source": [
        "from fastai.data.transforms import RandomSplitter\n",
        "trn_split,val_split=RandomSplitter(seed=42)(df)"
      ],
      "metadata": {
        "execution": {
          "iopub.status.busy": "2022-05-30T22:35:26.57605Z",
          "iopub.execute_input": "2022-05-30T22:35:26.57635Z",
          "iopub.status.idle": "2022-05-30T22:35:27.821258Z",
          "shell.execute_reply.started": "2022-05-30T22:35:26.57632Z",
          "shell.execute_reply": "2022-05-30T22:35:27.820329Z"
        },
        "trusted": true,
        "id": "106EZp0920Ry"
      },
      "execution_count": null,
      "outputs": []
    },
    {
      "cell_type": "markdown",
      "source": [
        "Now we can apply those indicies to our independent and dependent variables:"
      ],
      "metadata": {
        "id": "ijip-0mO20Ry"
      }
    },
    {
      "cell_type": "code",
      "source": [
        "trn_indep,val_indep = t_indep[trn_split],t_indep[val_split]\n",
        "trn_dep,val_dep = t_dep[trn_split],t_dep[val_split]\n",
        "len(trn_indep),len(val_indep)"
      ],
      "metadata": {
        "execution": {
          "iopub.status.busy": "2022-05-30T22:35:27.822671Z",
          "iopub.execute_input": "2022-05-30T22:35:27.822887Z",
          "iopub.status.idle": "2022-05-30T22:35:27.836937Z",
          "shell.execute_reply.started": "2022-05-30T22:35:27.822859Z",
          "shell.execute_reply": "2022-05-30T22:35:27.836081Z"
        },
        "trusted": true,
        "colab": {
          "base_uri": "https://localhost:8080/"
        },
        "id": "dmm_uRuE20Ry",
        "outputId": "7eca4502-45dc-49f9-fe97-3b8bc71e7a9b"
      },
      "execution_count": null,
      "outputs": [
        {
          "output_type": "execute_result",
          "data": {
            "text/plain": [
              "(713, 178)"
            ]
          },
          "metadata": {},
          "execution_count": 41
        }
      ]
    },
    {
      "cell_type": "markdown",
      "source": [
        "We'll create functions for the three things we did manually above: updating `coeffs`, doing one full gradient descent step, and initilising `coeffs` to random numbers:"
      ],
      "metadata": {
        "id": "yLEYhu2r20Ry"
      }
    },
    {
      "cell_type": "code",
      "source": [
        "def update_coeffs(coeffs, lr):\n",
        "    coeffs.sub_(coeffs.grad * 0.1)\n",
        "    coeffs.grad.zero_()"
      ],
      "metadata": {
        "execution": {
          "iopub.status.busy": "2022-05-30T22:35:35.028649Z",
          "iopub.execute_input": "2022-05-30T22:35:35.029177Z",
          "iopub.status.idle": "2022-05-30T22:35:35.034346Z",
          "shell.execute_reply.started": "2022-05-30T22:35:35.029143Z",
          "shell.execute_reply": "2022-05-30T22:35:35.033261Z"
        },
        "trusted": true,
        "id": "kGsy-k5r20Ry"
      },
      "execution_count": null,
      "outputs": []
    },
    {
      "cell_type": "code",
      "source": [
        "def one_epoch(coeffs, lr):\n",
        "    loss = calc_loss(coeffs, trn_indep, trn_dep)\n",
        "    loss.backward()\n",
        "    with torch.no_grad(): \n",
        "      update_coeffs(coeffs, lr)\n",
        "    print(f\"{loss:.3f}\", end=\"; \")"
      ],
      "metadata": {
        "execution": {
          "iopub.status.busy": "2022-05-30T22:35:35.633703Z",
          "iopub.execute_input": "2022-05-30T22:35:35.633995Z",
          "iopub.status.idle": "2022-05-30T22:35:35.639103Z",
          "shell.execute_reply.started": "2022-05-30T22:35:35.633964Z",
          "shell.execute_reply": "2022-05-30T22:35:35.63814Z"
        },
        "trusted": true,
        "id": "gf2xc5Eo20Rz"
      },
      "execution_count": null,
      "outputs": []
    },
    {
      "cell_type": "code",
      "source": [
        "def init_coeffs(): return (torch.rand(n_coeff)-0.5).requires_grad_()"
      ],
      "metadata": {
        "execution": {
          "iopub.status.busy": "2022-05-30T22:35:36.293565Z",
          "iopub.execute_input": "2022-05-30T22:35:36.293837Z",
          "iopub.status.idle": "2022-05-30T22:35:36.297457Z",
          "shell.execute_reply.started": "2022-05-30T22:35:36.293808Z",
          "shell.execute_reply": "2022-05-30T22:35:36.296816Z"
        },
        "trusted": true,
        "id": "31IkVcqV20Rz"
      },
      "execution_count": null,
      "outputs": []
    },
    {
      "cell_type": "markdown",
      "source": [
        "We can now use these functions to train our model:"
      ],
      "metadata": {
        "id": "XELxW6Xz20Rz"
      }
    },
    {
      "cell_type": "code",
      "source": [
        "def train_model(epochs=30, lr=0.01):\n",
        "    torch.manual_seed(442)\n",
        "    coeffs = init_coeffs()\n",
        "    for i in range(epochs): \n",
        "      one_epoch(coeffs, lr)\n",
        "    return coeffs"
      ],
      "metadata": {
        "execution": {
          "iopub.status.busy": "2022-05-30T22:35:38.771827Z",
          "iopub.execute_input": "2022-05-30T22:35:38.772314Z",
          "iopub.status.idle": "2022-05-30T22:35:38.777313Z",
          "shell.execute_reply.started": "2022-05-30T22:35:38.772247Z",
          "shell.execute_reply": "2022-05-30T22:35:38.776439Z"
        },
        "trusted": true,
        "id": "B7lyru3720Rz"
      },
      "execution_count": null,
      "outputs": []
    },
    {
      "cell_type": "markdown",
      "source": [
        "Let's try it. Our loss will print at the end of every step, so we hope we'll see it going down:"
      ],
      "metadata": {
        "id": "hnU-JiU920Rz"
      }
    },
    {
      "cell_type": "code",
      "source": [
        "coeffs = train_model(18, lr=0.2)"
      ],
      "metadata": {
        "execution": {
          "iopub.status.busy": "2022-05-30T22:36:14.16706Z",
          "iopub.execute_input": "2022-05-30T22:36:14.16788Z",
          "iopub.status.idle": "2022-05-30T22:36:14.181652Z",
          "shell.execute_reply.started": "2022-05-30T22:36:14.167812Z",
          "shell.execute_reply": "2022-05-30T22:36:14.180496Z"
        },
        "trusted": true,
        "colab": {
          "base_uri": "https://localhost:8080/"
        },
        "id": "JZ3AMsCi20Rz",
        "outputId": "1c44bd97-82b1-462b-acd2-6e875d837aea"
      },
      "execution_count": null,
      "outputs": [
        {
          "output_type": "stream",
          "name": "stdout",
          "text": [
            "0.536; 0.518; 0.503; 0.489; 0.477; 0.465; 0.454; 0.443; 0.431; 0.420; 0.410; 0.399; 0.388; 0.378; 0.368; 0.358; 0.350; 0.343; "
          ]
        }
      ]
    },
    {
      "cell_type": "markdown",
      "source": [
        "It does!\n",
        "\n",
        "Let's take a look at the coefficients for each column:"
      ],
      "metadata": {
        "id": "vyUAvQu920Rz"
      }
    },
    {
      "cell_type": "code",
      "source": [
        "def show_coeffs(): return dict(zip(indep_cols, coeffs.requires_grad_(False)))\n",
        "show_coeffs()"
      ],
      "metadata": {
        "execution": {
          "iopub.status.busy": "2022-05-30T22:36:21.97957Z",
          "iopub.execute_input": "2022-05-30T22:36:21.980389Z",
          "iopub.status.idle": "2022-05-30T22:36:21.990088Z",
          "shell.execute_reply.started": "2022-05-30T22:36:21.98035Z",
          "shell.execute_reply": "2022-05-30T22:36:21.989021Z"
        },
        "trusted": true,
        "colab": {
          "base_uri": "https://localhost:8080/"
        },
        "id": "qVjnUGNq20Rz",
        "outputId": "5e045f71-fd3c-4b12-f311-da6161d7c9ac"
      },
      "execution_count": null,
      "outputs": [
        {
          "output_type": "execute_result",
          "data": {
            "text/plain": [
              "{'Age': tensor(-0.3348),\n",
              " 'SibSp': tensor(0.1184),\n",
              " 'Parch': tensor(0.2480),\n",
              " 'LogFare': tensor(-0.0559),\n",
              " 'Sex_male': tensor(-0.3625),\n",
              " 'Sex_female': tensor(0.0202),\n",
              " 'Pclass_1': tensor(0.6974),\n",
              " 'Pclass_2': tensor(0.3669),\n",
              " 'Pclass_3': tensor(0.2524),\n",
              " 'Embarked_C': tensor(-0.1062),\n",
              " 'Embarked_Q': tensor(0.2442),\n",
              " 'Embarked_S': tensor(0.2312)}"
            ]
          },
          "metadata": {},
          "execution_count": 55
        }
      ]
    },
    {
      "cell_type": "markdown",
      "source": [
        "## Measuring accuracy"
      ],
      "metadata": {
        "id": "wkN8p7dF20R0"
      }
    },
    {
      "cell_type": "markdown",
      "source": [
        "The Kaggle competition is not, however, scored by absolute error (which is our loss function). It's scored by *accuracy* -- the proportion of rows where we correctly predict survival. Let's see how accurate we were on the validation set. First, calculate the predictions:"
      ],
      "metadata": {
        "id": "OkbWtjrJ20R0"
      }
    },
    {
      "cell_type": "code",
      "source": [
        "preds = calc_preds(coeffs, val_indep)"
      ],
      "metadata": {
        "execution": {
          "iopub.status.busy": "2022-05-30T22:36:30.825856Z",
          "iopub.execute_input": "2022-05-30T22:36:30.826372Z",
          "iopub.status.idle": "2022-05-30T22:36:30.831613Z",
          "shell.execute_reply.started": "2022-05-30T22:36:30.826322Z",
          "shell.execute_reply": "2022-05-30T22:36:30.830756Z"
        },
        "trusted": true,
        "id": "nKLen6Ge20R0"
      },
      "execution_count": null,
      "outputs": []
    },
    {
      "cell_type": "markdown",
      "source": [
        "We'll assume that any passenger with a score of over `0.5` is predicted to survive. So that means we're correct for each row where `preds>0.5` is the same as the dependent variable:"
      ],
      "metadata": {
        "id": "sadC770k20R0"
      }
    },
    {
      "cell_type": "code",
      "source": [
        "results = val_dep.bool()==(preds>0.5)\n",
        "results[:16]"
      ],
      "metadata": {
        "execution": {
          "iopub.status.busy": "2022-05-30T22:36:33.618455Z",
          "iopub.execute_input": "2022-05-30T22:36:33.618899Z",
          "iopub.status.idle": "2022-05-30T22:36:33.62703Z",
          "shell.execute_reply.started": "2022-05-30T22:36:33.618867Z",
          "shell.execute_reply": "2022-05-30T22:36:33.625949Z"
        },
        "trusted": true,
        "colab": {
          "base_uri": "https://localhost:8080/"
        },
        "id": "UeYKTwlf20R0",
        "outputId": "b3a6e1e0-e78d-4d8e-bf0a-939d03bc6731"
      },
      "execution_count": null,
      "outputs": [
        {
          "output_type": "execute_result",
          "data": {
            "text/plain": [
              "tensor([ True,  True,  True,  True,  True,  True, False, False,  True, False, False, False, False, False,  True, False])"
            ]
          },
          "metadata": {},
          "execution_count": 57
        }
      ]
    },
    {
      "cell_type": "markdown",
      "source": [
        "Let's see what our average accuracy is:"
      ],
      "metadata": {
        "id": "OIdKgUsa20R0"
      }
    },
    {
      "cell_type": "code",
      "source": [
        "results.float().mean()"
      ],
      "metadata": {
        "execution": {
          "iopub.status.busy": "2022-05-30T22:36:35.725112Z",
          "iopub.execute_input": "2022-05-30T22:36:35.725637Z",
          "iopub.status.idle": "2022-05-30T22:36:35.732969Z",
          "shell.execute_reply.started": "2022-05-30T22:36:35.725599Z",
          "shell.execute_reply": "2022-05-30T22:36:35.732241Z"
        },
        "trusted": true,
        "colab": {
          "base_uri": "https://localhost:8080/"
        },
        "id": "gGUr-0_G20R0",
        "outputId": "cc40b1ae-e015-4d6e-ff72-c5a53a0066c6"
      },
      "execution_count": null,
      "outputs": [
        {
          "output_type": "execute_result",
          "data": {
            "text/plain": [
              "tensor(0.6685)"
            ]
          },
          "metadata": {},
          "execution_count": 58
        }
      ]
    },
    {
      "cell_type": "markdown",
      "source": [
        "That's not a bad start at all! We'll create a function so we can calcuate the accuracy easy for other models we train:"
      ],
      "metadata": {
        "id": "9iIBi9MI20R0"
      }
    },
    {
      "cell_type": "code",
      "source": [
        "def acc(coeffs): \n",
        "  return (val_dep.bool()==(calc_preds(coeffs, val_indep)>0.5)).float().mean()\n",
        "acc(coeffs)"
      ],
      "metadata": {
        "execution": {
          "iopub.status.busy": "2022-05-30T22:36:40.356043Z",
          "iopub.execute_input": "2022-05-30T22:36:40.356505Z",
          "iopub.status.idle": "2022-05-30T22:36:40.365187Z",
          "shell.execute_reply.started": "2022-05-30T22:36:40.356471Z",
          "shell.execute_reply": "2022-05-30T22:36:40.364153Z"
        },
        "trusted": true,
        "colab": {
          "base_uri": "https://localhost:8080/"
        },
        "id": "z07MIEnL20R0",
        "outputId": "063c5711-4227-47e4-8940-09c22a7f1afa"
      },
      "execution_count": null,
      "outputs": [
        {
          "output_type": "execute_result",
          "data": {
            "text/plain": [
              "tensor(0.6685)"
            ]
          },
          "metadata": {},
          "execution_count": 59
        }
      ]
    },
    {
      "cell_type": "markdown",
      "source": [
        "## Using sigmoid"
      ],
      "metadata": {
        "id": "DWN2y6VQ20R0"
      }
    },
    {
      "cell_type": "markdown",
      "source": [
        "Looking at our predictions, there's one obvious problem -- some of our predictions of the probability of survival are `>1`, and some are `<0`:"
      ],
      "metadata": {
        "id": "bPqz6O6H20R0"
      }
    },
    {
      "cell_type": "code",
      "source": [
        "preds[:28]"
      ],
      "metadata": {
        "execution": {
          "iopub.status.busy": "2022-05-30T22:36:42.344533Z",
          "iopub.execute_input": "2022-05-30T22:36:42.344823Z",
          "iopub.status.idle": "2022-05-30T22:36:42.352948Z",
          "shell.execute_reply.started": "2022-05-30T22:36:42.344794Z",
          "shell.execute_reply": "2022-05-30T22:36:42.351968Z"
        },
        "trusted": true,
        "colab": {
          "base_uri": "https://localhost:8080/"
        },
        "id": "NBiVlwue20R0",
        "outputId": "9433ff6f-c722-4d2f-9fe7-5e2006057686"
      },
      "execution_count": null,
      "outputs": [
        {
          "output_type": "execute_result",
          "data": {
            "text/plain": [
              "tensor([ 0.5076,  0.0142, -0.3357,  0.1216,  0.1073,  0.0804,  0.1671,  0.4775,  0.2389,  0.0939, -0.0324, -0.2856,  0.1381,  0.3968,\n",
              "        -0.0393,  0.3481,  0.2644,  0.5255,  0.0428,  0.3538,  0.0011,  0.3020,  0.4621,  0.4773,  0.0187,  0.0195,  0.5334,  0.2769])"
            ]
          },
          "metadata": {},
          "execution_count": 60
        }
      ]
    },
    {
      "cell_type": "markdown",
      "source": [
        "To fix this, we should pass every prediction through the *sigmoid function*, which has a minimum at zero and maximum at one, and is defined as follows:"
      ],
      "metadata": {
        "id": "YZfUgl0B20R1"
      }
    },
    {
      "cell_type": "code",
      "source": [
        "import sympy\n",
        "sympy.plot(\"1/(1+exp(-x))\", xlim=(-5,5));"
      ],
      "metadata": {
        "execution": {
          "iopub.status.busy": "2022-05-30T22:36:44.913101Z",
          "iopub.execute_input": "2022-05-30T22:36:44.914015Z",
          "iopub.status.idle": "2022-05-30T22:36:46.311818Z",
          "shell.execute_reply.started": "2022-05-30T22:36:44.913968Z",
          "shell.execute_reply": "2022-05-30T22:36:46.311008Z"
        },
        "trusted": true,
        "colab": {
          "base_uri": "https://localhost:8080/",
          "height": 484
        },
        "id": "PGht6kLT20R1",
        "outputId": "5223fc55-d438-4822-dc6c-61285735888b"
      },
      "execution_count": null,
      "outputs": [
        {
          "output_type": "display_data",
          "data": {
            "text/plain": [
              "<Figure size 640x480 with 1 Axes>"
            ],
            "image/png": "[encoded data removed]"
          },
          "metadata": {}
        }
      ]
    },
    {
      "cell_type": "markdown",
      "source": [
        "PyTorch already defines that function for us, so we can modify `calc_preds` to use it:"
      ],
      "metadata": {
        "id": "zy_lBPRw20R1"
      }
    },
    {
      "cell_type": "code",
      "source": [
        "def calc_preds(coeffs, indeps): \n",
        "  return torch.sigmoid((indeps*coeffs).sum(axis=1))"
      ],
      "metadata": {
        "execution": {
          "iopub.status.busy": "2022-05-30T22:36:46.313435Z",
          "iopub.execute_input": "2022-05-30T22:36:46.313644Z",
          "iopub.status.idle": "2022-05-30T22:36:46.317749Z",
          "shell.execute_reply.started": "2022-05-30T22:36:46.313618Z",
          "shell.execute_reply": "2022-05-30T22:36:46.3169Z"
        },
        "trusted": true,
        "id": "GO6FowOh20R1"
      },
      "execution_count": null,
      "outputs": []
    },
    {
      "cell_type": "markdown",
      "source": [
        "Let's train a new model now, using this updated function to calculate predictions:"
      ],
      "metadata": {
        "id": "Ts-1Vdfz20R1"
      }
    },
    {
      "cell_type": "code",
      "source": [
        "coeffs = train_model(epochs = 2000, lr=.2)"
      ],
      "metadata": {
        "execution": {
          "iopub.status.busy": "2022-05-30T22:38:23.225051Z",
          "iopub.execute_input": "2022-05-30T22:38:23.22576Z",
          "iopub.status.idle": "2022-05-30T22:38:23.250206Z",
          "shell.execute_reply.started": "2022-05-30T22:38:23.225722Z",
          "shell.execute_reply": "2022-05-30T22:38:23.249321Z"
        },
        "trusted": true,
        "colab": {
          "base_uri": "https://localhost:8080/"
        },
        "id": "vF8s8ofM20R1",
        "outputId": "b61d4006-60ca-48a4-a272-5bd1a45577e2"
      },
      "execution_count": null,
      "outputs": [
        {
          "output_type": "stream",
          "name": "stdout",
          "text": [
            "0.510; 0.508; 0.506; 0.504; 0.502; 0.500; 0.497; 0.495; 0.493; 0.491; 0.489; 0.487; 0.485; 0.483; 0.481; 0.479; 0.477; 0.474; 0.472; 0.470; 0.468; 0.466; 0.464; 0.462; 0.461; 0.459; 0.457; 0.455; 0.453; 0.451; 0.449; 0.447; 0.446; 0.444; 0.442; 0.440; 0.439; 0.437; 0.435; 0.434; 0.432; 0.430; 0.429; 0.427; 0.426; 0.424; 0.423; 0.421; 0.420; 0.418; 0.417; 0.415; 0.414; 0.413; 0.411; 0.410; 0.409; 0.407; 0.406; 0.405; 0.404; 0.402; 0.401; 0.400; 0.399; 0.398; 0.397; 0.396; 0.394; 0.393; 0.392; 0.391; 0.390; 0.389; 0.388; 0.387; 0.386; 0.385; 0.384; 0.383; 0.382; 0.382; 0.381; 0.380; 0.379; 0.378; 0.377; 0.376; 0.375; 0.375; 0.374; 0.373; 0.372; 0.371; 0.371; 0.370; 0.369; 0.368; 0.368; 0.367; 0.366; 0.365; 0.365; 0.364; 0.363; 0.363; 0.362; 0.361; 0.361; 0.360; 0.359; 0.359; 0.358; 0.357; 0.357; 0.356; 0.355; 0.355; 0.354; 0.354; 0.353; 0.352; 0.352; 0.351; 0.351; 0.350; 0.349; 0.349; 0.348; 0.348; 0.347; 0.347; 0.346; 0.346; 0.345; 0.344; 0.344; 0.343; 0.343; 0.342; 0.342; 0.341; 0.341; 0.340; 0.340; 0.339; 0.339; 0.338; 0.338; 0.337; 0.337; 0.336; 0.336; 0.335; 0.335; 0.335; 0.334; 0.334; 0.333; 0.333; 0.332; 0.332; 0.331; 0.331; 0.330; 0.330; 0.330; 0.329; 0.329; 0.328; 0.328; 0.327; 0.327; 0.327; 0.326; 0.326; 0.325; 0.325; 0.325; 0.324; 0.324; 0.323; 0.323; 0.323; 0.322; 0.322; 0.321; 0.321; 0.321; 0.320; 0.320; 0.319; 0.319; 0.319; 0.318; 0.318; 0.318; 0.317; 0.317; 0.316; 0.316; 0.316; 0.315; 0.315; 0.315; 0.314; 0.314; 0.314; 0.313; 0.313; 0.313; 0.312; 0.312; 0.312; 0.311; 0.311; 0.310; 0.310; 0.310; 0.309; 0.309; 0.309; 0.308; 0.308; 0.308; 0.308; 0.307; 0.307; 0.307; 0.306; 0.306; 0.306; 0.305; 0.305; 0.305; 0.304; 0.304; 0.304; 0.303; 0.303; 0.303; 0.303; 0.302; 0.302; 0.302; 0.301; 0.301; 0.301; 0.301; 0.300; 0.300; 0.300; 0.299; 0.299; 0.299; 0.299; 0.298; 0.298; 0.298; 0.297; 0.297; 0.297; 0.297; 0.296; 0.296; 0.296; 0.296; 0.295; 0.295; 0.295; 0.294; 0.294; 0.294; 0.294; 0.293; 0.293; 0.293; 0.293; 0.292; 0.292; 0.292; 0.292; 0.291; 0.291; 0.291; 0.291; 0.290; 0.290; 0.290; 0.290; 0.290; 0.289; 0.289; 0.289; 0.289; 0.288; 0.288; 0.288; 0.288; 0.287; 0.287; 0.287; 0.287; 0.287; 0.286; 0.286; 0.286; 0.286; 0.285; 0.285; 0.285; 0.285; 0.285; 0.284; 0.284; 0.284; 0.284; 0.284; 0.283; 0.283; 0.283; 0.283; 0.283; 0.282; 0.282; 0.282; 0.282; 0.282; 0.281; 0.281; 0.281; 0.281; 0.281; 0.280; 0.280; 0.280; 0.280; 0.280; 0.279; 0.279; 0.279; 0.279; 0.279; 0.278; 0.278; 0.278; 0.278; 0.278; 0.278; 0.277; 0.277; 0.277; 0.277; 0.277; 0.277; 0.276; 0.276; 0.276; 0.276; 0.276; 0.276; 0.275; 0.275; 0.275; 0.275; 0.275; 0.274; 0.274; 0.274; 0.274; 0.274; 0.274; 0.274; 0.273; 0.273; 0.273; 0.273; 0.273; 0.273; 0.272; 0.272; 0.272; 0.272; 0.272; 0.272; 0.271; 0.271; 0.271; 0.271; 0.271; 0.271; 0.271; 0.270; 0.270; 0.270; 0.270; 0.270; 0.270; 0.270; 0.269; 0.269; 0.269; 0.269; 0.269; 0.269; 0.269; 0.268; 0.268; 0.268; 0.268; 0.268; 0.268; 0.268; 0.268; 0.267; 0.267; 0.267; 0.267; 0.267; 0.267; 0.267; 0.266; 0.266; 0.266; 0.266; 0.266; 0.266; 0.266; 0.266; 0.265; 0.265; 0.265; 0.265; 0.265; 0.265; 0.265; 0.265; 0.264; 0.264; 0.264; 0.264; 0.264; 0.264; 0.264; 0.264; 0.263; 0.263; 0.263; 0.263; 0.263; 0.263; 0.263; 0.263; 0.263; 0.262; 0.262; 0.262; 0.262; 0.262; 0.262; 0.262; 0.262; 0.262; 0.261; 0.261; 0.261; 0.261; 0.261; 0.261; 0.261; 0.261; 0.261; 0.260; 0.260; 0.260; 0.260; 0.260; 0.260; 0.260; 0.260; 0.260; 0.260; 0.259; 0.259; 0.259; 0.259; 0.259; 0.259; 0.259; 0.259; 0.259; 0.259; 0.258; 0.258; 0.258; 0.258; 0.258; 0.258; 0.258; 0.258; 0.258; 0.258; 0.258; 0.257; 0.257; 0.257; 0.257; 0.257; 0.257; 0.257; 0.257; 0.257; 0.257; 0.257; 0.256; 0.256; 0.256; 0.256; 0.256; 0.256; 0.256; 0.256; 0.256; 0.256; 0.256; 0.255; 0.255; 0.255; 0.255; 0.255; 0.255; 0.255; 0.255; 0.255; 0.255; 0.255; 0.255; 0.254; 0.254; 0.254; 0.254; 0.254; 0.254; 0.254; 0.254; 0.254; 0.254; 0.254; 0.254; 0.253; 0.253; 0.253; 0.253; 0.253; 0.253; 0.253; 0.253; 0.253; 0.253; 0.253; 0.253; 0.253; 0.252; 0.252; 0.252; 0.252; 0.252; 0.252; 0.252; 0.252; 0.252; 0.252; 0.252; 0.252; 0.252; 0.251; 0.251; 0.251; 0.251; 0.251; 0.251; 0.251; 0.251; 0.251; 0.251; 0.251; 0.251; 0.251; 0.251; 0.251; 0.250; 0.250; 0.250; 0.250; 0.250; 0.250; 0.250; 0.250; 0.250; 0.250; 0.250; 0.250; 0.250; 0.250; 0.249; 0.249; 0.249; 0.249; 0.249; 0.249; 0.249; 0.249; 0.249; 0.249; 0.249; 0.249; 0.249; 0.249; 0.249; 0.249; 0.248; 0.248; 0.248; 0.248; 0.248; 0.248; 0.248; 0.248; 0.248; 0.248; 0.248; 0.248; 0.248; 0.248; 0.248; 0.248; 0.247; 0.247; 0.247; 0.247; 0.247; 0.247; 0.247; 0.247; 0.247; 0.247; 0.247; 0.247; 0.247; 0.247; 0.247; 0.247; 0.247; 0.246; 0.246; 0.246; 0.246; 0.246; 0.246; 0.246; 0.246; 0.246; 0.246; 0.246; 0.246; 0.246; 0.246; 0.246; 0.246; 0.246; 0.246; 0.245; 0.245; 0.245; 0.245; 0.245; 0.245; 0.245; 0.245; 0.245; 0.245; 0.245; 0.245; 0.245; 0.245; 0.245; 0.245; 0.245; 0.245; 0.245; 0.244; 0.244; 0.244; 0.244; 0.244; 0.244; 0.244; 0.244; 0.244; 0.244; 0.244; 0.244; 0.244; 0.244; 0.244; 0.244; 0.244; 0.244; 0.244; 0.244; 0.244; 0.243; 0.243; 0.243; 0.243; 0.243; 0.243; 0.243; 0.243; 0.243; 0.243; 0.243; 0.243; 0.243; 0.243; 0.243; 0.243; 0.243; 0.243; 0.243; 0.243; 0.243; 0.242; 0.242; 0.242; 0.242; 0.242; 0.242; 0.242; 0.242; 0.242; 0.242; 0.242; 0.242; 0.242; 0.242; 0.242; 0.242; 0.242; 0.242; 0.242; 0.242; 0.242; 0.242; 0.242; 0.241; 0.241; 0.241; 0.241; 0.241; 0.241; 0.241; 0.241; 0.241; 0.241; 0.241; 0.241; 0.241; 0.241; 0.241; 0.241; 0.241; 0.241; 0.241; 0.241; 0.241; 0.241; 0.241; 0.241; 0.240; 0.240; 0.240; 0.240; 0.240; 0.240; 0.240; 0.240; 0.240; 0.240; 0.240; 0.240; 0.240; 0.240; 0.240; 0.240; 0.240; 0.240; 0.240; 0.240; 0.240; 0.240; 0.240; 0.240; 0.240; 0.239; 0.239; 0.239; 0.239; 0.239; 0.239; 0.239; 0.239; 0.239; 0.239; 0.239; 0.239; 0.239; 0.239; 0.239; 0.239; 0.239; 0.239; 0.239; 0.239; 0.239; 0.239; 0.239; 0.239; 0.239; 0.239; 0.239; 0.239; 0.238; 0.238; 0.238; 0.238; 0.238; 0.238; 0.238; 0.238; 0.238; 0.238; 0.238; 0.238; 0.238; 0.238; 0.238; 0.238; 0.238; 0.238; 0.238; 0.238; 0.238; 0.238; 0.238; 0.238; 0.238; 0.238; 0.238; 0.238; 0.238; 0.237; 0.237; 0.237; 0.237; 0.237; 0.237; 0.237; 0.237; 0.237; 0.237; 0.237; 0.237; 0.237; 0.237; 0.237; 0.237; 0.237; 0.237; 0.237; 0.237; 0.237; 0.237; 0.237; 0.237; 0.237; 0.237; 0.237; 0.237; 0.237; 0.237; 0.237; 0.236; 0.236; 0.236; 0.236; 0.236; 0.236; 0.236; 0.236; 0.236; 0.236; 0.236; 0.236; 0.236; 0.236; 0.236; 0.236; 0.236; 0.236; 0.236; 0.236; 0.236; 0.236; 0.236; 0.236; 0.236; 0.236; 0.236; 0.236; 0.236; 0.236; 0.236; 0.236; 0.236; 0.235; 0.235; 0.235; 0.235; 0.235; 0.235; 0.235; 0.235; 0.235; 0.235; 0.235; 0.235; 0.235; 0.235; 0.235; 0.235; 0.235; 0.235; 0.235; 0.235; 0.235; 0.235; 0.235; 0.235; 0.235; 0.235; 0.235; 0.235; 0.235; 0.235; 0.235; 0.235; 0.235; 0.235; 0.235; 0.235; 0.235; 0.234; 0.234; 0.234; 0.234; 0.234; 0.234; 0.234; 0.234; 0.234; 0.234; 0.234; 0.234; 0.234; 0.234; 0.234; 0.234; 0.234; 0.234; 0.234; 0.234; 0.234; 0.234; 0.234; 0.234; 0.234; 0.234; 0.234; 0.234; 0.234; 0.234; 0.234; 0.234; 0.234; 0.234; 0.234; 0.234; 0.234; 0.234; 0.234; 0.233; 0.233; 0.233; 0.233; 0.233; 0.233; 0.233; 0.233; 0.233; 0.233; 0.233; 0.233; 0.233; 0.233; 0.233; 0.233; 0.233; 0.233; 0.233; 0.233; 0.233; 0.233; 0.233; 0.233; 0.233; 0.233; 0.233; 0.233; 0.233; 0.233; 0.233; 0.233; 0.233; 0.233; 0.233; 0.233; 0.233; 0.233; 0.233; 0.233; 0.233; 0.233; 0.232; 0.232; 0.232; 0.232; 0.232; 0.232; 0.232; 0.232; 0.232; 0.232; 0.232; 0.232; 0.232; 0.232; 0.232; 0.232; 0.232; 0.232; 0.232; 0.232; 0.232; 0.232; 0.232; 0.232; 0.232; 0.232; 0.232; 0.232; 0.232; 0.232; 0.232; 0.232; 0.232; 0.232; 0.232; 0.232; 0.232; 0.232; 0.232; 0.232; 0.232; 0.232; 0.232; 0.232; 0.232; 0.231; 0.231; 0.231; 0.231; 0.231; 0.231; 0.231; 0.231; 0.231; 0.231; 0.231; 0.231; 0.231; 0.231; 0.231; 0.231; 0.231; 0.231; 0.231; 0.231; 0.231; 0.231; 0.231; 0.231; 0.231; 0.231; 0.231; 0.231; 0.231; 0.231; 0.231; 0.231; 0.231; 0.231; 0.231; 0.231; 0.231; 0.231; 0.231; 0.231; 0.231; 0.231; 0.231; 0.231; 0.231; 0.231; 0.231; 0.231; 0.231; 0.231; 0.230; 0.230; 0.230; 0.230; 0.230; 0.230; 0.230; 0.230; 0.230; 0.230; 0.230; 0.230; 0.230; 0.230; 0.230; 0.230; 0.230; 0.230; 0.230; 0.230; 0.230; 0.230; 0.230; 0.230; 0.230; 0.230; 0.230; 0.230; 0.230; 0.230; 0.230; 0.230; 0.230; 0.230; 0.230; 0.230; 0.230; 0.230; 0.230; 0.230; 0.230; 0.230; 0.230; 0.230; 0.230; 0.230; 0.230; 0.230; 0.230; 0.230; 0.230; 0.230; 0.230; 0.230; 0.229; 0.229; 0.229; 0.229; 0.229; 0.229; 0.229; 0.229; 0.229; 0.229; 0.229; 0.229; 0.229; 0.229; 0.229; 0.229; 0.229; 0.229; 0.229; 0.229; 0.229; 0.229; 0.229; 0.229; 0.229; 0.229; 0.229; 0.229; 0.229; 0.229; 0.229; 0.229; 0.229; 0.229; 0.229; 0.229; 0.229; 0.229; 0.229; 0.229; 0.229; 0.229; 0.229; 0.229; 0.229; 0.229; 0.229; 0.229; 0.229; 0.229; 0.229; 0.229; 0.229; 0.229; 0.229; 0.229; 0.229; 0.229; 0.229; 0.229; 0.228; 0.228; 0.228; 0.228; 0.228; 0.228; 0.228; 0.228; 0.228; 0.228; 0.228; 0.228; 0.228; 0.228; 0.228; 0.228; 0.228; 0.228; 0.228; 0.228; 0.228; 0.228; 0.228; 0.228; 0.228; 0.228; 0.228; 0.228; 0.228; 0.228; 0.228; 0.228; 0.228; 0.228; 0.228; 0.228; 0.228; 0.228; 0.228; 0.228; 0.228; 0.228; 0.228; 0.228; 0.228; 0.228; 0.228; 0.228; 0.228; 0.228; 0.228; 0.228; 0.228; 0.228; 0.228; 0.228; 0.228; 0.228; 0.228; 0.228; 0.228; 0.228; 0.228; 0.228; 0.228; 0.227; 0.227; 0.227; 0.227; 0.227; 0.227; 0.227; 0.227; 0.227; 0.227; 0.227; 0.227; 0.227; 0.227; 0.227; 0.227; 0.227; 0.227; 0.227; 0.227; 0.227; 0.227; 0.227; 0.227; 0.227; 0.227; 0.227; 0.227; 0.227; 0.227; 0.227; 0.227; 0.227; 0.227; 0.227; 0.227; 0.227; 0.227; 0.227; 0.227; 0.227; 0.227; 0.227; 0.227; 0.227; 0.227; 0.227; 0.227; 0.227; 0.227; 0.227; 0.227; 0.227; 0.227; 0.227; 0.227; 0.227; 0.227; 0.227; 0.227; 0.227; 0.227; 0.227; 0.227; 0.227; 0.227; 0.227; 0.227; 0.227; 0.227; 0.227; 0.227; 0.226; 0.226; 0.226; 0.226; 0.226; 0.226; 0.226; 0.226; 0.226; 0.226; 0.226; 0.226; 0.226; 0.226; 0.226; 0.226; 0.226; 0.226; 0.226; 0.226; 0.226; 0.226; 0.226; 0.226; 0.226; 0.226; 0.226; 0.226; 0.226; 0.226; 0.226; 0.226; 0.226; 0.226; 0.226; 0.226; 0.226; 0.226; 0.226; 0.226; 0.226; 0.226; 0.226; 0.226; 0.226; 0.226; 0.226; 0.226; 0.226; 0.226; 0.226; 0.226; 0.226; 0.226; 0.226; 0.226; 0.226; 0.226; 0.226; 0.226; 0.226; 0.226; 0.226; 0.226; 0.226; 0.226; 0.226; 0.226; 0.226; 0.226; 0.226; 0.226; 0.226; 0.226; 0.226; 0.226; 0.226; 0.226; 0.226; 0.225; 0.225; 0.225; 0.225; 0.225; 0.225; 0.225; 0.225; 0.225; 0.225; 0.225; 0.225; 0.225; 0.225; 0.225; 0.225; 0.225; 0.225; 0.225; 0.225; 0.225; 0.225; 0.225; 0.225; 0.225; 0.225; 0.225; 0.225; 0.225; 0.225; 0.225; 0.225; 0.225; 0.225; 0.225; 0.225; 0.225; 0.225; 0.225; 0.225; 0.225; 0.225; 0.225; 0.225; 0.225; 0.225; 0.225; 0.225; 0.225; 0.225; 0.225; 0.225; 0.225; 0.225; 0.225; 0.225; 0.225; 0.225; 0.225; 0.225; 0.225; 0.225; 0.225; 0.225; 0.225; 0.225; 0.225; 0.225; 0.225; 0.225; 0.225; 0.225; 0.225; 0.225; 0.225; 0.225; 0.225; 0.225; 0.225; 0.225; 0.225; 0.225; 0.225; 0.225; 0.225; 0.225; 0.225; 0.224; 0.224; 0.224; 0.224; 0.224; 0.224; 0.224; 0.224; 0.224; 0.224; 0.224; 0.224; 0.224; 0.224; 0.224; 0.224; 0.224; 0.224; 0.224; 0.224; 0.224; 0.224; 0.224; 0.224; 0.224; 0.224; 0.224; 0.224; 0.224; 0.224; 0.224; 0.224; 0.224; 0.224; 0.224; 0.224; 0.224; 0.224; 0.224; 0.224; 0.224; 0.224; 0.224; 0.224; 0.224; 0.224; 0.224; 0.224; 0.224; 0.224; 0.224; 0.224; 0.224; 0.224; 0.224; 0.224; 0.224; 0.224; 0.224; 0.224; 0.224; 0.224; 0.224; 0.224; 0.224; 0.224; 0.224; 0.224; 0.224; 0.224; 0.224; 0.224; 0.224; 0.224; 0.224; 0.224; 0.224; 0.224; 0.224; 0.224; 0.224; 0.224; 0.224; 0.224; 0.224; 0.224; 0.224; 0.224; 0.224; 0.224; 0.224; 0.224; 0.224; 0.224; 0.224; 0.224; 0.224; 0.223; 0.223; 0.223; 0.223; 0.223; 0.223; 0.223; 0.223; 0.223; 0.223; 0.223; 0.223; 0.223; 0.223; 0.223; 0.223; 0.223; 0.223; 0.223; 0.223; 0.223; 0.223; 0.223; 0.223; 0.223; 0.223; 0.223; 0.223; 0.223; 0.223; 0.223; 0.223; 0.223; 0.223; 0.223; 0.223; 0.223; 0.223; 0.223; 0.223; 0.223; 0.223; 0.223; 0.223; 0.223; 0.223; 0.223; 0.223; 0.223; 0.223; 0.223; 0.223; 0.223; 0.223; 0.223; 0.223; 0.223; 0.223; 0.223; 0.223; 0.223; 0.223; 0.223; 0.223; 0.223; 0.223; 0.223; 0.223; 0.223; 0.223; 0.223; 0.223; 0.223; 0.223; 0.223; 0.223; 0.223; 0.223; 0.223; 0.223; 0.223; 0.223; 0.223; 0.223; 0.223; 0.223; 0.223; 0.223; 0.223; 0.223; 0.223; 0.223; 0.223; 0.223; 0.223; 0.223; 0.223; 0.223; 0.223; 0.223; 0.223; 0.223; 0.223; 0.223; 0.223; 0.223; 0.223; 0.223; 0.222; 0.222; 0.222; 0.222; 0.222; 0.222; 0.222; 0.222; 0.222; 0.222; 0.222; 0.222; 0.222; 0.222; 0.222; 0.222; 0.222; 0.222; 0.222; 0.222; 0.222; 0.222; 0.222; 0.222; 0.222; 0.222; 0.222; 0.222; 0.222; 0.222; 0.222; 0.222; 0.222; 0.222; 0.222; 0.222; 0.222; 0.222; 0.222; 0.222; 0.222; 0.222; 0.222; 0.222; 0.222; 0.222; 0.222; 0.222; 0.222; 0.222; 0.222; 0.222; 0.222; 0.222; 0.222; 0.222; 0.222; 0.222; 0.222; 0.222; 0.222; 0.222; 0.222; 0.222; 0.222; 0.222; 0.222; 0.222; 0.222; 0.222; 0.222; 0.222; 0.222; 0.222; 0.222; 0.222; 0.222; 0.222; 0.222; 0.222; 0.222; 0.222; 0.222; 0.222; 0.222; 0.222; 0.222; 0.222; 0.222; 0.222; 0.222; 0.222; 0.222; 0.222; 0.222; 0.222; 0.222; 0.222; 0.222; 0.222; 0.222; 0.222; 0.222; 0.222; 0.222; 0.222; 0.222; 0.222; 0.222; 0.222; 0.222; 0.222; 0.222; 0.222; 0.222; 0.222; 0.222; 0.222; 0.222; 0.221; 0.221; 0.221; 0.221; 0.221; 0.221; 0.221; 0.221; 0.221; 0.221; 0.221; 0.221; 0.221; 0.221; 0.221; 0.221; 0.221; 0.221; 0.221; 0.221; 0.221; 0.221; 0.221; 0.221; 0.221; 0.221; 0.221; 0.221; 0.221; 0.221; 0.221; 0.221; 0.221; 0.221; 0.221; 0.221; 0.221; 0.221; 0.221; 0.221; 0.221; 0.221; 0.221; 0.221; 0.221; 0.221; 0.221; 0.221; 0.221; 0.221; 0.221; 0.221; 0.221; 0.221; 0.221; 0.221; 0.221; 0.221; 0.221; 0.221; 0.221; 0.221; 0.221; 0.221; 0.221; 0.221; 0.221; 0.221; 0.221; 0.221; 0.221; 0.221; 0.221; 0.221; 0.221; 0.221; 0.221; 0.221; 0.221; 0.221; 0.221; 0.221; 0.221; 0.221; 0.221; 0.221; 0.221; 0.221; 0.221; 0.221; 0.221; 0.221; 0.221; 0.221; 0.221; 0.221; 0.221; 0.221; 0.221; 0.221; 0.221; 0.221; 0.221; 0.221; 0.221; 0.221; 0.221; 0.221; 0.221; 0.221; 0.221; 0.221; 0.221; 0.221; 0.221; 0.221; 0.221; 0.221; 0.221; 0.221; 0.221; "
          ]
        }
      ]
    },
    {
      "cell_type": "markdown",
      "source": [
        "The loss has improved by a lot. Let's check the accuracy:"
      ],
      "metadata": {
        "id": "8Mk_cSQb20R1"
      }
    },
    {
      "cell_type": "code",
      "source": [
        "acc(coeffs)"
      ],
      "metadata": {
        "execution": {
          "iopub.status.busy": "2022-05-30T22:38:28.518642Z",
          "iopub.execute_input": "2022-05-30T22:38:28.519132Z",
          "iopub.status.idle": "2022-05-30T22:38:28.527145Z",
          "shell.execute_reply.started": "2022-05-30T22:38:28.519078Z",
          "shell.execute_reply": "2022-05-30T22:38:28.526248Z"
        },
        "trusted": true,
        "colab": {
          "base_uri": "https://localhost:8080/"
        },
        "id": "m7r35ofm20R1",
        "outputId": "29fa2e7c-2a11-4373-aaaa-f30edb7965d8"
      },
      "execution_count": null,
      "outputs": [
        {
          "output_type": "execute_result",
          "data": {
            "text/plain": [
              "tensor(0.7921)"
            ]
          },
          "metadata": {},
          "execution_count": 84
        }
      ]
    },
    {
      "cell_type": "markdown",
      "source": [
        "That's improved too! Here's the coefficients of our trained model:"
      ],
      "metadata": {
        "id": "-7Ap95Et20R1"
      }
    },
    {
      "cell_type": "code",
      "source": [
        "show_coeffs()"
      ],
      "metadata": {
        "execution": {
          "iopub.status.busy": "2022-05-30T22:38:32.015953Z",
          "iopub.execute_input": "2022-05-30T22:38:32.01697Z",
          "iopub.status.idle": "2022-05-30T22:38:32.02724Z",
          "shell.execute_reply.started": "2022-05-30T22:38:32.016924Z",
          "shell.execute_reply": "2022-05-30T22:38:32.026125Z"
        },
        "trusted": true,
        "colab": {
          "base_uri": "https://localhost:8080/"
        },
        "id": "_SRT-DME20R1",
        "outputId": "c333f518-5d26-4ebd-ba16-85dfc42d4da3"
      },
      "execution_count": null,
      "outputs": [
        {
          "output_type": "execute_result",
          "data": {
            "text/plain": [
              "{'Age': tensor(-0.7738),\n",
              " 'SibSp': tensor(-0.1978),\n",
              " 'Parch': tensor(0.1224),\n",
              " 'LogFare': tensor(0.0839),\n",
              " 'Sex_male': tensor(-3.5853),\n",
              " 'Sex_female': tensor(2.7668),\n",
              " 'Pclass_1': tensor(1.4180),\n",
              " 'Pclass_2': tensor(0.9124),\n",
              " 'Pclass_3': tensor(-1.4899),\n",
              " 'Embarked_C': tensor(0.1729),\n",
              " 'Embarked_Q': tensor(0.5246),\n",
              " 'Embarked_S': tensor(-0.8044)}"
            ]
          },
          "metadata": {},
          "execution_count": 85
        }
      ]
    },
    {
      "cell_type": "markdown",
      "source": [
        "Do these coefficients seem reasonable?"
      ],
      "metadata": {
        "id": "N7dwuG3N20R1"
      }
    },
    {
      "cell_type": "markdown",
      "source": [
        "## Submitting to Kaggle"
      ],
      "metadata": {
        "id": "I9xrCUGh20R2"
      }
    },
    {
      "cell_type": "markdown",
      "source": [
        "Now that we've got a trained model, we can prepare a submission to Kaggle. To do that, first we need to read the test set:"
      ],
      "metadata": {
        "id": "p0N6lZ4m20R2"
      }
    },
    {
      "cell_type": "code",
      "source": [
        "tst_df = pd.read_csv(path/'test.csv')"
      ],
      "metadata": {
        "execution": {
          "iopub.status.busy": "2022-05-30T22:38:35.172343Z",
          "iopub.execute_input": "2022-05-30T22:38:35.172909Z",
          "iopub.status.idle": "2022-05-30T22:38:35.188597Z",
          "shell.execute_reply.started": "2022-05-30T22:38:35.172873Z",
          "shell.execute_reply": "2022-05-30T22:38:35.187826Z"
        },
        "trusted": true,
        "id": "zT3LUD1820R2"
      },
      "execution_count": null,
      "outputs": []
    },
    {
      "cell_type": "markdown",
      "source": [
        "In this case, it turns out that the test set is missing `Fare` for one passenger. We'll just fill it with `0` to avoid problems:"
      ],
      "metadata": {
        "id": "sAvDNOzp20R2"
      }
    },
    {
      "cell_type": "code",
      "source": [
        "tst_df['Fare'] = tst_df.Fare.fillna(0)"
      ],
      "metadata": {
        "execution": {
          "iopub.status.busy": "2022-05-30T22:38:36.352687Z",
          "iopub.execute_input": "2022-05-30T22:38:36.353392Z",
          "iopub.status.idle": "2022-05-30T22:38:36.358237Z",
          "shell.execute_reply.started": "2022-05-30T22:38:36.353355Z",
          "shell.execute_reply": "2022-05-30T22:38:36.35739Z"
        },
        "trusted": true,
        "id": "63tEDD4p20R2"
      },
      "execution_count": null,
      "outputs": []
    },
    {
      "cell_type": "markdown",
      "source": [
        "Now we can just copy the same steps we did to our training set and do the same exact things on our test set to preprocess the data:"
      ],
      "metadata": {
        "id": "W3GVRJ_520R2"
      }
    },
    {
      "cell_type": "code",
      "source": [
        "tst_df.fillna(modes, inplace=True)\n",
        "tst_df['LogFare'] = np.log(tst_df['Fare']+1)\n",
        "tst_df = pd.get_dummies(tst_df, columns=[\"Sex\",\"Pclass\",\"Embarked\"])\n",
        "\n",
        "tst_indep = tensor(tst_df[indep_cols].values, dtype=torch.float)\n",
        "tst_indep = tst_indep / vals"
      ],
      "metadata": {
        "execution": {
          "iopub.status.busy": "2022-05-30T22:38:38.198257Z",
          "iopub.execute_input": "2022-05-30T22:38:38.198549Z",
          "iopub.status.idle": "2022-05-30T22:38:38.220592Z",
          "shell.execute_reply.started": "2022-05-30T22:38:38.198519Z",
          "shell.execute_reply": "2022-05-30T22:38:38.219629Z"
        },
        "trusted": true,
        "id": "BxDXqUlY20R2"
      },
      "execution_count": null,
      "outputs": []
    },
    {
      "cell_type": "markdown",
      "source": [
        "Let's calculate our predictions of which passengers survived in the test set:"
      ],
      "metadata": {
        "id": "qHEK-tGE20R2"
      }
    },
    {
      "cell_type": "code",
      "source": [
        "tst_df['Survived'] = (calc_preds(tst_indep, coeffs)>0.5).int()"
      ],
      "metadata": {
        "execution": {
          "iopub.status.busy": "2022-05-30T22:38:39.206216Z",
          "iopub.execute_input": "2022-05-30T22:38:39.206547Z",
          "iopub.status.idle": "2022-05-30T22:38:39.212386Z",
          "shell.execute_reply.started": "2022-05-30T22:38:39.206512Z",
          "shell.execute_reply": "2022-05-30T22:38:39.211631Z"
        },
        "trusted": true,
        "id": "bQn-_8uX20R2"
      },
      "execution_count": null,
      "outputs": []
    },
    {
      "cell_type": "markdown",
      "source": [
        "The sample submission on the Kaggle competition site shows that we're expected to upload a CSV with just `PassengerId` and `Survived`, so let's create that and save it:"
      ],
      "metadata": {
        "id": "gY7r1zbL20R2"
      }
    },
    {
      "cell_type": "code",
      "source": [
        "sub_df = tst_df[['PassengerId','Survived']]\n",
        "sub_df.to_csv('sub.csv', index=False)"
      ],
      "metadata": {
        "execution": {
          "iopub.status.busy": "2022-05-30T22:38:40.161034Z",
          "iopub.execute_input": "2022-05-30T22:38:40.161382Z",
          "iopub.status.idle": "2022-05-30T22:38:40.173242Z",
          "shell.execute_reply.started": "2022-05-30T22:38:40.161336Z",
          "shell.execute_reply": "2022-05-30T22:38:40.17258Z"
        },
        "trusted": true,
        "id": "cs5OtQ5F20R2"
      },
      "execution_count": null,
      "outputs": []
    },
    {
      "cell_type": "markdown",
      "source": [
        "We can check the first few rows of the file to make sure it looks reasonable:"
      ],
      "metadata": {
        "id": "wNGxtCOv20R3"
      }
    },
    {
      "cell_type": "code",
      "source": [
        "!head sub.csv"
      ],
      "metadata": {
        "execution": {
          "iopub.status.busy": "2022-05-30T22:38:42.86855Z",
          "iopub.execute_input": "2022-05-30T22:38:42.869402Z",
          "iopub.status.idle": "2022-05-30T22:38:43.638832Z",
          "shell.execute_reply.started": "2022-05-30T22:38:42.869362Z",
          "shell.execute_reply": "2022-05-30T22:38:43.637559Z"
        },
        "trusted": true,
        "colab": {
          "base_uri": "https://localhost:8080/"
        },
        "id": "XP240UVG20R3",
        "outputId": "7e776e33-a5b2-49b9-fe11-600b642dca88"
      },
      "execution_count": null,
      "outputs": [
        {
          "output_type": "stream",
          "name": "stdout",
          "text": [
            "PassengerId,Survived\n",
            "892,0\n",
            "893,1\n",
            "894,0\n",
            "895,0\n",
            "896,1\n",
            "897,0\n",
            "898,1\n",
            "899,0\n",
            "900,1\n"
          ]
        }
      ]
    },
    {
      "cell_type": "markdown",
      "source": [
        "When you click \"save version\" in Kaggle, and wait for the notebook to run, you'll see that `sub.csv` appears in the \"Data\" tab. Clicking on that file will show a *Submit* button, which allows you to submit to the competition."
      ],
      "metadata": {
        "id": "JWVPs1mb20R3"
      }
    },
    {
      "cell_type": "markdown",
      "source": [
        "## Using matrix product"
      ],
      "metadata": {
        "id": "qIq_pS6Z20R3"
      }
    },
    {
      "cell_type": "markdown",
      "source": [
        "We can make things quite a bit neater...\n",
        "\n",
        "Take a look at the inner-most calculation we're doing to get the predictions:"
      ],
      "metadata": {
        "id": "m5wySvVR20R3"
      }
    },
    {
      "cell_type": "code",
      "source": [
        "(val_indep*coeffs).sum(axis=1)"
      ],
      "metadata": {
        "execution": {
          "iopub.status.busy": "2022-05-30T22:38:48.247768Z",
          "iopub.execute_input": "2022-05-30T22:38:48.248084Z",
          "iopub.status.idle": "2022-05-30T22:38:48.258935Z",
          "shell.execute_reply.started": "2022-05-30T22:38:48.248052Z",
          "shell.execute_reply": "2022-05-30T22:38:48.258184Z"
        },
        "trusted": true,
        "colab": {
          "base_uri": "https://localhost:8080/"
        },
        "id": "azuAcGHS20R3",
        "outputId": "e07b9005-cfb6-4e74-abe7-d3a9bcae2619"
      },
      "execution_count": null,
      "outputs": [
        {
          "output_type": "execute_result",
          "data": {
            "text/plain": [
              "tensor([ 4.0065, -4.7536, -5.1061, -3.5935, -3.6837, -3.7894,  1.4675,  2.6394, -5.9201,  1.2558, -6.1597, -5.1013, -5.8891,  1.5987,\n",
              "        -6.1814, -3.3625, -3.5559,  2.6977, -3.8103,  0.2032, -6.0824, -3.4689,  4.0396,  2.4829, -6.0450, -4.7642,  0.4921, -3.5269,\n",
              "        -6.0136,  1.5985,  2.7770,  0.2870, -6.0340, -6.1450,  3.9484,  0.4418, -3.3786,  4.1827, -6.0821,  0.2354, -3.6283, -6.0821,\n",
              "        -3.7453,  4.1066, -6.0435,  0.2278, -6.0766, -6.0442, -4.7549,  0.2881, -2.0572, -5.9975, -5.9780, -6.0934, -3.6960, -3.7540,\n",
              "        -4.7536, -6.2148, -6.0531, -6.1171, -2.2395, -6.0407, -3.6994, -6.0533,  2.4688, -3.0959, -3.6740, -6.2135, -4.9042,  2.4755,\n",
              "        -6.1017,  1.2960, -3.7444, -6.0801, -3.1596, -6.0052, -6.0821, -3.3034, -3.6257, -3.8947, -3.4665,  4.2209, -6.0727, -6.0834,\n",
              "         2.4240, -2.6753, -2.1301,  3.3255,  3.5998, -3.6643, -6.1591, -6.0821,  4.1304, -5.1641,  1.4540, -2.8129, -3.8780,  1.5628,\n",
              "         1.6179, -4.7069, -6.0287,  1.5985, -6.1598, -6.1404, -3.2418, -3.8481, -6.1382,  2.5332, -2.2002, -6.1568,  2.6407,  0.1875,\n",
              "        -3.1578,  4.4261, -6.0821,  3.8109,  0.0927, -4.7536, -6.2569,  3.9686, -6.0631, -2.5202, -4.7536,  0.4128, -5.1061, -3.2061,\n",
              "         0.2599,  0.2504, -6.0028, -3.8834,  3.2857, -6.0983,  2.5462,  2.5959,  4.1680, -6.0338, -4.0121, -6.1285, -2.7929,  2.5778,\n",
              "        -3.7321,  3.8888, -6.2870, -4.8310,  0.2307,  2.8050, -6.2167,  1.3009,  3.2957,  1.0718,  0.2886,  1.6393,  2.7045, -4.6607,\n",
              "        -4.7894, -6.2115, -6.0821,  0.2864, -3.7707, -6.0749,  4.1783, -2.7601, -6.0956, -3.2394,  4.0230,  3.0569,  2.6748,  2.5040,\n",
              "        -3.4590, -3.4574,  0.4650, -6.0265,  3.1995, -6.0801, -6.2758,  3.1304, -3.1575, -5.9330])"
            ]
          },
          "metadata": {},
          "execution_count": 92
        }
      ]
    },
    {
      "cell_type": "markdown",
      "source": [
        "Multiplying elements together and then adding across rows is identical to doing a matrix-vector product! Python uses the `@` operator to indicate matrix products, and is supported by PyTorch tensors. Therefore, we can replicate the above calculate more simply like so:"
      ],
      "metadata": {
        "id": "OuRWsmo120R3"
      }
    },
    {
      "cell_type": "code",
      "source": [
        "val_indep@coeffs"
      ],
      "metadata": {
        "execution": {
          "iopub.status.busy": "2022-05-30T22:38:51.959362Z",
          "iopub.execute_input": "2022-05-30T22:38:51.959798Z",
          "iopub.status.idle": "2022-05-30T22:38:51.97614Z",
          "shell.execute_reply.started": "2022-05-30T22:38:51.959765Z",
          "shell.execute_reply": "2022-05-30T22:38:51.975461Z"
        },
        "trusted": true,
        "colab": {
          "base_uri": "https://localhost:8080/"
        },
        "id": "0vR5wO2H20R3",
        "outputId": "5bcde221-99be-45f6-8f22-289ec0c95c99"
      },
      "execution_count": null,
      "outputs": [
        {
          "output_type": "execute_result",
          "data": {
            "text/plain": [
              "tensor([ 4.0065, -4.7536, -5.1061, -3.5935, -3.6837, -3.7894,  1.4675,  2.6394, -5.9201,  1.2558, -6.1597, -5.1013, -5.8891,  1.5987,\n",
              "        -6.1814, -3.3625, -3.5559,  2.6977, -3.8103,  0.2032, -6.0824, -3.4689,  4.0396,  2.4829, -6.0450, -4.7642,  0.4921, -3.5269,\n",
              "        -6.0136,  1.5985,  2.7770,  0.2870, -6.0340, -6.1450,  3.9484,  0.4418, -3.3786,  4.1827, -6.0821,  0.2354, -3.6283, -6.0821,\n",
              "        -3.7453,  4.1066, -6.0435,  0.2278, -6.0766, -6.0442, -4.7549,  0.2881, -2.0572, -5.9975, -5.9780, -6.0934, -3.6960, -3.7540,\n",
              "        -4.7536, -6.2148, -6.0531, -6.1171, -2.2395, -6.0407, -3.6994, -6.0533,  2.4688, -3.0959, -3.6740, -6.2135, -4.9042,  2.4755,\n",
              "        -6.1017,  1.2960, -3.7444, -6.0801, -3.1596, -6.0052, -6.0821, -3.3034, -3.6257, -3.8947, -3.4665,  4.2209, -6.0727, -6.0834,\n",
              "         2.4240, -2.6753, -2.1301,  3.3255,  3.5998, -3.6643, -6.1591, -6.0821,  4.1304, -5.1641,  1.4540, -2.8129, -3.8780,  1.5628,\n",
              "         1.6179, -4.7069, -6.0287,  1.5985, -6.1598, -6.1404, -3.2418, -3.8481, -6.1382,  2.5332, -2.2002, -6.1568,  2.6407,  0.1875,\n",
              "        -3.1578,  4.4261, -6.0821,  3.8109,  0.0927, -4.7536, -6.2569,  3.9686, -6.0631, -2.5202, -4.7536,  0.4128, -5.1061, -3.2061,\n",
              "         0.2599,  0.2504, -6.0028, -3.8834,  3.2857, -6.0983,  2.5462,  2.5959,  4.1680, -6.0338, -4.0121, -6.1285, -2.7929,  2.5778,\n",
              "        -3.7321,  3.8888, -6.2870, -4.8310,  0.2307,  2.8050, -6.2167,  1.3009,  3.2957,  1.0718,  0.2886,  1.6393,  2.7045, -4.6607,\n",
              "        -4.7894, -6.2115, -6.0821,  0.2864, -3.7707, -6.0749,  4.1783, -2.7601, -6.0956, -3.2394,  4.0230,  3.0569,  2.6748,  2.5040,\n",
              "        -3.4590, -3.4574,  0.4650, -6.0265,  3.1995, -6.0801, -6.2758,  3.1304, -3.1575, -5.9330])"
            ]
          },
          "metadata": {},
          "execution_count": 93
        }
      ]
    },
    {
      "cell_type": "markdown",
      "source": [
        "It also turns out that this is much faster, because matrix products in PyTorch are very highly optimised.\n",
        "\n",
        "Let's use this to replace how `calc_preds` works:"
      ],
      "metadata": {
        "id": "o-L-BNys20R3"
      }
    },
    {
      "cell_type": "code",
      "source": [
        "def calc_preds(coeffs, indeps): return torch.sigmoid(indeps@coeffs)"
      ],
      "metadata": {
        "execution": {
          "iopub.status.busy": "2022-05-30T22:38:56.321807Z",
          "iopub.execute_input": "2022-05-30T22:38:56.322255Z",
          "iopub.status.idle": "2022-05-30T22:38:56.326812Z",
          "shell.execute_reply.started": "2022-05-30T22:38:56.322213Z",
          "shell.execute_reply": "2022-05-30T22:38:56.32606Z"
        },
        "trusted": true,
        "id": "xmvLMZH820R3"
      },
      "execution_count": null,
      "outputs": []
    },
    {
      "cell_type": "markdown",
      "source": [
        "In order to do matrix-matrix products (which we'll need in the next section), we need to turn `coeffs` into a column vector (i.e. a matrix with a single column), which we can do by passing a second argument `1` to `torch.rand()`, indicating that we want our coefficients to have one column:"
      ],
      "metadata": {
        "id": "G9d_3LyD20R3"
      }
    },
    {
      "cell_type": "code",
      "source": [
        "def init_coeffs(): return (torch.rand(n_coeff, 1)*0.1).requires_grad_()"
      ],
      "metadata": {
        "execution": {
          "iopub.status.busy": "2022-05-30T22:38:58.895467Z",
          "iopub.execute_input": "2022-05-30T22:38:58.895779Z",
          "iopub.status.idle": "2022-05-30T22:38:58.900851Z",
          "shell.execute_reply.started": "2022-05-30T22:38:58.895744Z",
          "shell.execute_reply": "2022-05-30T22:38:58.899931Z"
        },
        "trusted": true,
        "id": "1fTh3omo20R3"
      },
      "execution_count": null,
      "outputs": []
    },
    {
      "cell_type": "markdown",
      "source": [
        "We'll also need to turn our dependent variable into a column vector, which we can do by indexing the column dimension with the special value `None`, which tells PyTorch to add a new dimension in this position:"
      ],
      "metadata": {
        "id": "gKmoB6ha20R4"
      }
    },
    {
      "cell_type": "code",
      "source": [
        "trn_dep = trn_dep[:,None]\n",
        "val_dep = val_dep[:,None]"
      ],
      "metadata": {
        "execution": {
          "iopub.status.busy": "2022-05-30T22:38:59.788799Z",
          "iopub.execute_input": "2022-05-30T22:38:59.789678Z",
          "iopub.status.idle": "2022-05-30T22:38:59.794227Z",
          "shell.execute_reply.started": "2022-05-30T22:38:59.789625Z",
          "shell.execute_reply": "2022-05-30T22:38:59.793326Z"
        },
        "trusted": true,
        "id": "sgwq3vmz20R4"
      },
      "execution_count": null,
      "outputs": []
    },
    {
      "cell_type": "markdown",
      "source": [
        "We can now train our model as before and confirm we get identical outputs...:"
      ],
      "metadata": {
        "id": "uO_1vp1o20R4"
      }
    },
    {
      "cell_type": "code",
      "source": [
        "coeffs = train_model(epochs = 2000, lr=.2)"
      ],
      "metadata": {
        "execution": {
          "iopub.status.busy": "2022-05-30T22:39:38.070545Z",
          "iopub.execute_input": "2022-05-30T22:39:38.071003Z",
          "iopub.status.idle": "2022-05-30T22:39:38.094666Z",
          "shell.execute_reply.started": "2022-05-30T22:39:38.070972Z",
          "shell.execute_reply": "2022-05-30T22:39:38.093641Z"
        },
        "trusted": true,
        "colab": {
          "base_uri": "https://localhost:8080/"
        },
        "id": "QhUO87j220R4",
        "outputId": "656a9126-2179-478a-ce12-b0ef00a2eca2"
      },
      "execution_count": null,
      "outputs": [
        {
          "output_type": "stream",
          "name": "stdout",
          "text": [
            "0.512; 0.510; 0.508; 0.506; 0.504; 0.502; 0.499; 0.497; 0.495; 0.493; 0.491; 0.489; 0.486; 0.484; 0.482; 0.480; 0.478; 0.476; 0.474; 0.471; 0.469; 0.467; 0.465; 0.463; 0.461; 0.459; 0.457; 0.455; 0.453; 0.451; 0.449; 0.447; 0.445; 0.443; 0.441; 0.439; 0.438; 0.436; 0.434; 0.432; 0.430; 0.429; 0.427; 0.425; 0.424; 0.422; 0.420; 0.419; 0.417; 0.415; 0.414; 0.412; 0.411; 0.409; 0.408; 0.407; 0.405; 0.404; 0.402; 0.401; 0.400; 0.398; 0.397; 0.396; 0.395; 0.393; 0.392; 0.391; 0.390; 0.389; 0.387; 0.386; 0.385; 0.384; 0.383; 0.382; 0.381; 0.380; 0.379; 0.378; 0.377; 0.376; 0.375; 0.374; 0.373; 0.372; 0.371; 0.370; 0.369; 0.368; 0.368; 0.367; 0.366; 0.365; 0.364; 0.363; 0.363; 0.362; 0.361; 0.360; 0.359; 0.359; 0.358; 0.357; 0.356; 0.356; 0.355; 0.354; 0.354; 0.353; 0.352; 0.352; 0.351; 0.350; 0.350; 0.349; 0.348; 0.348; 0.347; 0.346; 0.346; 0.345; 0.345; 0.344; 0.343; 0.343; 0.342; 0.342; 0.341; 0.340; 0.340; 0.339; 0.339; 0.338; 0.338; 0.337; 0.337; 0.336; 0.336; 0.335; 0.335; 0.334; 0.334; 0.333; 0.333; 0.332; 0.332; 0.331; 0.331; 0.330; 0.330; 0.329; 0.329; 0.328; 0.328; 0.327; 0.327; 0.326; 0.326; 0.326; 0.325; 0.325; 0.324; 0.324; 0.323; 0.323; 0.323; 0.322; 0.322; 0.321; 0.321; 0.321; 0.320; 0.320; 0.319; 0.319; 0.319; 0.318; 0.318; 0.317; 0.317; 0.317; 0.316; 0.316; 0.315; 0.315; 0.315; 0.314; 0.314; 0.314; 0.313; 0.313; 0.313; 0.312; 0.312; 0.311; 0.311; 0.311; 0.310; 0.310; 0.310; 0.309; 0.309; 0.309; 0.308; 0.308; 0.308; 0.307; 0.307; 0.307; 0.306; 0.306; 0.306; 0.306; 0.305; 0.305; 0.305; 0.304; 0.304; 0.304; 0.303; 0.303; 0.303; 0.302; 0.302; 0.302; 0.302; 0.301; 0.301; 0.301; 0.300; 0.300; 0.300; 0.300; 0.299; 0.299; 0.299; 0.298; 0.298; 0.298; 0.298; 0.297; 0.297; 0.297; 0.296; 0.296; 0.296; 0.296; 0.295; 0.295; 0.295; 0.295; 0.294; 0.294; 0.294; 0.294; 0.293; 0.293; 0.293; 0.293; 0.292; 0.292; 0.292; 0.292; 0.291; 0.291; 0.291; 0.291; 0.290; 0.290; 0.290; 0.290; 0.289; 0.289; 0.289; 0.289; 0.289; 0.288; 0.288; 0.288; 0.288; 0.287; 0.287; 0.287; 0.287; 0.287; 0.286; 0.286; 0.286; 0.286; 0.285; 0.285; 0.285; 0.285; 0.285; 0.284; 0.284; 0.284; 0.284; 0.284; 0.283; 0.283; 0.283; 0.283; 0.283; 0.282; 0.282; 0.282; 0.282; 0.282; 0.281; 0.281; 0.281; 0.281; 0.281; 0.280; 0.280; 0.280; 0.280; 0.280; 0.279; 0.279; 0.279; 0.279; 0.279; 0.279; 0.278; 0.278; 0.278; 0.278; 0.278; 0.278; 0.277; 0.277; 0.277; 0.277; 0.277; 0.276; 0.276; 0.276; 0.276; 0.276; 0.276; 0.275; 0.275; 0.275; 0.275; 0.275; 0.275; 0.274; 0.274; 0.274; 0.274; 0.274; 0.274; 0.273; 0.273; 0.273; 0.273; 0.273; 0.273; 0.273; 0.272; 0.272; 0.272; 0.272; 0.272; 0.272; 0.271; 0.271; 0.271; 0.271; 0.271; 0.271; 0.271; 0.270; 0.270; 0.270; 0.270; 0.270; 0.270; 0.270; 0.269; 0.269; 0.269; 0.269; 0.269; 0.269; 0.269; 0.268; 0.268; 0.268; 0.268; 0.268; 0.268; 0.268; 0.268; 0.267; 0.267; 0.267; 0.267; 0.267; 0.267; 0.267; 0.266; 0.266; 0.266; 0.266; 0.266; 0.266; 0.266; 0.266; 0.265; 0.265; 0.265; 0.265; 0.265; 0.265; 0.265; 0.265; 0.265; 0.264; 0.264; 0.264; 0.264; 0.264; 0.264; 0.264; 0.264; 0.263; 0.263; 0.263; 0.263; 0.263; 0.263; 0.263; 0.263; 0.263; 0.262; 0.262; 0.262; 0.262; 0.262; 0.262; 0.262; 0.262; 0.262; 0.261; 0.261; 0.261; 0.261; 0.261; 0.261; 0.261; 0.261; 0.261; 0.260; 0.260; 0.260; 0.260; 0.260; 0.260; 0.260; 0.260; 0.260; 0.260; 0.259; 0.259; 0.259; 0.259; 0.259; 0.259; 0.259; 0.259; 0.259; 0.259; 0.258; 0.258; 0.258; 0.258; 0.258; 0.258; 0.258; 0.258; 0.258; 0.258; 0.258; 0.257; 0.257; 0.257; 0.257; 0.257; 0.257; 0.257; 0.257; 0.257; 0.257; 0.256; 0.256; 0.256; 0.256; 0.256; 0.256; 0.256; 0.256; 0.256; 0.256; 0.256; 0.256; 0.255; 0.255; 0.255; 0.255; 0.255; 0.255; 0.255; 0.255; 0.255; 0.255; 0.255; 0.255; 0.254; 0.254; 0.254; 0.254; 0.254; 0.254; 0.254; 0.254; 0.254; 0.254; 0.254; 0.254; 0.253; 0.253; 0.253; 0.253; 0.253; 0.253; 0.253; 0.253; 0.253; 0.253; 0.253; 0.253; 0.253; 0.252; 0.252; 0.252; 0.252; 0.252; 0.252; 0.252; 0.252; 0.252; 0.252; 0.252; 0.252; 0.252; 0.251; 0.251; 0.251; 0.251; 0.251; 0.251; 0.251; 0.251; 0.251; 0.251; 0.251; 0.251; 0.251; 0.251; 0.251; 0.250; 0.250; 0.250; 0.250; 0.250; 0.250; 0.250; 0.250; 0.250; 0.250; 0.250; 0.250; 0.250; 0.250; 0.249; 0.249; 0.249; 0.249; 0.249; 0.249; 0.249; 0.249; 0.249; 0.249; 0.249; 0.249; 0.249; 0.249; 0.249; 0.249; 0.248; 0.248; 0.248; 0.248; 0.248; 0.248; 0.248; 0.248; 0.248; 0.248; 0.248; 0.248; 0.248; 0.248; 0.248; 0.248; 0.247; 0.247; 0.247; 0.247; 0.247; 0.247; 0.247; 0.247; 0.247; 0.247; 0.247; 0.247; 0.247; 0.247; 0.247; 0.247; 0.247; 0.246; 0.246; 0.246; 0.246; 0.246; 0.246; 0.246; 0.246; 0.246; 0.246; 0.246; 0.246; 0.246; 0.246; 0.246; 0.246; 0.246; 0.246; 0.245; 0.245; 0.245; 0.245; 0.245; 0.245; 0.245; 0.245; 0.245; 0.245; 0.245; 0.245; 0.245; 0.245; 0.245; 0.245; 0.245; 0.245; 0.245; 0.244; 0.244; 0.244; 0.244; 0.244; 0.244; 0.244; 0.244; 0.244; 0.244; 0.244; 0.244; 0.244; 0.244; 0.244; 0.244; 0.244; 0.244; 0.244; 0.244; 0.243; 0.243; 0.243; 0.243; 0.243; 0.243; 0.243; 0.243; 0.243; 0.243; 0.243; 0.243; 0.243; 0.243; 0.243; 0.243; 0.243; 0.243; 0.243; 0.243; 0.243; 0.243; 0.242; 0.242; 0.242; 0.242; 0.242; 0.242; 0.242; 0.242; 0.242; 0.242; 0.242; 0.242; 0.242; 0.242; 0.242; 0.242; 0.242; 0.242; 0.242; 0.242; 0.242; 0.242; 0.241; 0.241; 0.241; 0.241; 0.241; 0.241; 0.241; 0.241; 0.241; 0.241; 0.241; 0.241; 0.241; 0.241; 0.241; 0.241; 0.241; 0.241; 0.241; 0.241; 0.241; 0.241; 0.241; 0.241; 0.240; 0.240; 0.240; 0.240; 0.240; 0.240; 0.240; 0.240; 0.240; 0.240; 0.240; 0.240; 0.240; 0.240; 0.240; 0.240; 0.240; 0.240; 0.240; 0.240; 0.240; 0.240; 0.240; 0.240; 0.240; 0.240; 0.239; 0.239; 0.239; 0.239; 0.239; 0.239; 0.239; 0.239; 0.239; 0.239; 0.239; 0.239; 0.239; 0.239; 0.239; 0.239; 0.239; 0.239; 0.239; 0.239; 0.239; 0.239; 0.239; 0.239; 0.239; 0.239; 0.239; 0.238; 0.238; 0.238; 0.238; 0.238; 0.238; 0.238; 0.238; 0.238; 0.238; 0.238; 0.238; 0.238; 0.238; 0.238; 0.238; 0.238; 0.238; 0.238; 0.238; 0.238; 0.238; 0.238; 0.238; 0.238; 0.238; 0.238; 0.238; 0.238; 0.237; 0.237; 0.237; 0.237; 0.237; 0.237; 0.237; 0.237; 0.237; 0.237; 0.237; 0.237; 0.237; 0.237; 0.237; 0.237; 0.237; 0.237; 0.237; 0.237; 0.237; 0.237; 0.237; 0.237; 0.237; 0.237; 0.237; 0.237; 0.237; 0.237; 0.237; 0.236; 0.236; 0.236; 0.236; 0.236; 0.236; 0.236; 0.236; 0.236; 0.236; 0.236; 0.236; 0.236; 0.236; 0.236; 0.236; 0.236; 0.236; 0.236; 0.236; 0.236; 0.236; 0.236; 0.236; 0.236; 0.236; 0.236; 0.236; 0.236; 0.236; 0.236; 0.236; 0.236; 0.235; 0.235; 0.235; 0.235; 0.235; 0.235; 0.235; 0.235; 0.235; 0.235; 0.235; 0.235; 0.235; 0.235; 0.235; 0.235; 0.235; 0.235; 0.235; 0.235; 0.235; 0.235; 0.235; 0.235; 0.235; 0.235; 0.235; 0.235; 0.235; 0.235; 0.235; 0.235; 0.235; 0.235; 0.235; 0.235; 0.234; 0.234; 0.234; 0.234; 0.234; 0.234; 0.234; 0.234; 0.234; 0.234; 0.234; 0.234; 0.234; 0.234; 0.234; 0.234; 0.234; 0.234; 0.234; 0.234; 0.234; 0.234; 0.234; 0.234; 0.234; 0.234; 0.234; 0.234; 0.234; 0.234; 0.234; 0.234; 0.234; 0.234; 0.234; 0.234; 0.234; 0.234; 0.233; 0.233; 0.233; 0.233; 0.233; 0.233; 0.233; 0.233; 0.233; 0.233; 0.233; 0.233; 0.233; 0.233; 0.233; 0.233; 0.233; 0.233; 0.233; 0.233; 0.233; 0.233; 0.233; 0.233; 0.233; 0.233; 0.233; 0.233; 0.233; 0.233; 0.233; 0.233; 0.233; 0.233; 0.233; 0.233; 0.233; 0.233; 0.233; 0.233; 0.233; 0.233; 0.232; 0.232; 0.232; 0.232; 0.232; 0.232; 0.232; 0.232; 0.232; 0.232; 0.232; 0.232; 0.232; 0.232; 0.232; 0.232; 0.232; 0.232; 0.232; 0.232; 0.232; 0.232; 0.232; 0.232; 0.232; 0.232; 0.232; 0.232; 0.232; 0.232; 0.232; 0.232; 0.232; 0.232; 0.232; 0.232; 0.232; 0.232; 0.232; 0.232; 0.232; 0.232; 0.232; 0.232; 0.232; 0.231; 0.231; 0.231; 0.231; 0.231; 0.231; 0.231; 0.231; 0.231; 0.231; 0.231; 0.231; 0.231; 0.231; 0.231; 0.231; 0.231; 0.231; 0.231; 0.231; 0.231; 0.231; 0.231; 0.231; 0.231; 0.231; 0.231; 0.231; 0.231; 0.231; 0.231; 0.231; 0.231; 0.231; 0.231; 0.231; 0.231; 0.231; 0.231; 0.231; 0.231; 0.231; 0.231; 0.231; 0.231; 0.231; 0.231; 0.231; 0.231; 0.230; 0.230; 0.230; 0.230; 0.230; 0.230; 0.230; 0.230; 0.230; 0.230; 0.230; 0.230; 0.230; 0.230; 0.230; 0.230; 0.230; 0.230; 0.230; 0.230; 0.230; 0.230; 0.230; 0.230; 0.230; 0.230; 0.230; 0.230; 0.230; 0.230; 0.230; 0.230; 0.230; 0.230; 0.230; 0.230; 0.230; 0.230; 0.230; 0.230; 0.230; 0.230; 0.230; 0.230; 0.230; 0.230; 0.230; 0.230; 0.230; 0.230; 0.230; 0.230; 0.230; 0.230; 0.229; 0.229; 0.229; 0.229; 0.229; 0.229; 0.229; 0.229; 0.229; 0.229; 0.229; 0.229; 0.229; 0.229; 0.229; 0.229; 0.229; 0.229; 0.229; 0.229; 0.229; 0.229; 0.229; 0.229; 0.229; 0.229; 0.229; 0.229; 0.229; 0.229; 0.229; 0.229; 0.229; 0.229; 0.229; 0.229; 0.229; 0.229; 0.229; 0.229; 0.229; 0.229; 0.229; 0.229; 0.229; 0.229; 0.229; 0.229; 0.229; 0.229; 0.229; 0.229; 0.229; 0.229; 0.229; 0.229; 0.229; 0.229; 0.228; 0.228; 0.228; 0.228; 0.228; 0.228; 0.228; 0.228; 0.228; 0.228; 0.228; 0.228; 0.228; 0.228; 0.228; 0.228; 0.228; 0.228; 0.228; 0.228; 0.228; 0.228; 0.228; 0.228; 0.228; 0.228; 0.228; 0.228; 0.228; 0.228; 0.228; 0.228; 0.228; 0.228; 0.228; 0.228; 0.228; 0.228; 0.228; 0.228; 0.228; 0.228; 0.228; 0.228; 0.228; 0.228; 0.228; 0.228; 0.228; 0.228; 0.228; 0.228; 0.228; 0.228; 0.228; 0.228; 0.228; 0.228; 0.228; 0.228; 0.228; 0.228; 0.228; 0.228; 0.227; 0.227; 0.227; 0.227; 0.227; 0.227; 0.227; 0.227; 0.227; 0.227; 0.227; 0.227; 0.227; 0.227; 0.227; 0.227; 0.227; 0.227; 0.227; 0.227; 0.227; 0.227; 0.227; 0.227; 0.227; 0.227; 0.227; 0.227; 0.227; 0.227; 0.227; 0.227; 0.227; 0.227; 0.227; 0.227; 0.227; 0.227; 0.227; 0.227; 0.227; 0.227; 0.227; 0.227; 0.227; 0.227; 0.227; 0.227; 0.227; 0.227; 0.227; 0.227; 0.227; 0.227; 0.227; 0.227; 0.227; 0.227; 0.227; 0.227; 0.227; 0.227; 0.227; 0.227; 0.227; 0.227; 0.227; 0.227; 0.227; 0.227; 0.227; 0.226; 0.226; 0.226; 0.226; 0.226; 0.226; 0.226; 0.226; 0.226; 0.226; 0.226; 0.226; 0.226; 0.226; 0.226; 0.226; 0.226; 0.226; 0.226; 0.226; 0.226; 0.226; 0.226; 0.226; 0.226; 0.226; 0.226; 0.226; 0.226; 0.226; 0.226; 0.226; 0.226; 0.226; 0.226; 0.226; 0.226; 0.226; 0.226; 0.226; 0.226; 0.226; 0.226; 0.226; 0.226; 0.226; 0.226; 0.226; 0.226; 0.226; 0.226; 0.226; 0.226; 0.226; 0.226; 0.226; 0.226; 0.226; 0.226; 0.226; 0.226; 0.226; 0.226; 0.226; 0.226; 0.226; 0.226; 0.226; 0.226; 0.226; 0.226; 0.226; 0.226; 0.226; 0.226; 0.226; 0.226; 0.226; 0.225; 0.225; 0.225; 0.225; 0.225; 0.225; 0.225; 0.225; 0.225; 0.225; 0.225; 0.225; 0.225; 0.225; 0.225; 0.225; 0.225; 0.225; 0.225; 0.225; 0.225; 0.225; 0.225; 0.225; 0.225; 0.225; 0.225; 0.225; 0.225; 0.225; 0.225; 0.225; 0.225; 0.225; 0.225; 0.225; 0.225; 0.225; 0.225; 0.225; 0.225; 0.225; 0.225; 0.225; 0.225; 0.225; 0.225; 0.225; 0.225; 0.225; 0.225; 0.225; 0.225; 0.225; 0.225; 0.225; 0.225; 0.225; 0.225; 0.225; 0.225; 0.225; 0.225; 0.225; 0.225; 0.225; 0.225; 0.225; 0.225; 0.225; 0.225; 0.225; 0.225; 0.225; 0.225; 0.225; 0.225; 0.225; 0.225; 0.225; 0.225; 0.225; 0.225; 0.225; 0.225; 0.224; 0.224; 0.224; 0.224; 0.224; 0.224; 0.224; 0.224; 0.224; 0.224; 0.224; 0.224; 0.224; 0.224; 0.224; 0.224; 0.224; 0.224; 0.224; 0.224; 0.224; 0.224; 0.224; 0.224; 0.224; 0.224; 0.224; 0.224; 0.224; 0.224; 0.224; 0.224; 0.224; 0.224; 0.224; 0.224; 0.224; 0.224; 0.224; 0.224; 0.224; 0.224; 0.224; 0.224; 0.224; 0.224; 0.224; 0.224; 0.224; 0.224; 0.224; 0.224; 0.224; 0.224; 0.224; 0.224; 0.224; 0.224; 0.224; 0.224; 0.224; 0.224; 0.224; 0.224; 0.224; 0.224; 0.224; 0.224; 0.224; 0.224; 0.224; 0.224; 0.224; 0.224; 0.224; 0.224; 0.224; 0.224; 0.224; 0.224; 0.224; 0.224; 0.224; 0.224; 0.224; 0.224; 0.224; 0.224; 0.224; 0.224; 0.224; 0.224; 0.224; 0.224; 0.224; 0.223; 0.223; 0.223; 0.223; 0.223; 0.223; 0.223; 0.223; 0.223; 0.223; 0.223; 0.223; 0.223; 0.223; 0.223; 0.223; 0.223; 0.223; 0.223; 0.223; 0.223; 0.223; 0.223; 0.223; 0.223; 0.223; 0.223; 0.223; 0.223; 0.223; 0.223; 0.223; 0.223; 0.223; 0.223; 0.223; 0.223; 0.223; 0.223; 0.223; 0.223; 0.223; 0.223; 0.223; 0.223; 0.223; 0.223; 0.223; 0.223; 0.223; 0.223; 0.223; 0.223; 0.223; 0.223; 0.223; 0.223; 0.223; 0.223; 0.223; 0.223; 0.223; 0.223; 0.223; 0.223; 0.223; 0.223; 0.223; 0.223; 0.223; 0.223; 0.223; 0.223; 0.223; 0.223; 0.223; 0.223; 0.223; 0.223; 0.223; 0.223; 0.223; 0.223; 0.223; 0.223; 0.223; 0.223; 0.223; 0.223; 0.223; 0.223; 0.223; 0.223; 0.223; 0.223; 0.223; 0.223; 0.223; 0.223; 0.223; 0.223; 0.223; 0.223; 0.223; 0.223; 0.222; 0.222; 0.222; 0.222; 0.222; 0.222; 0.222; 0.222; 0.222; 0.222; 0.222; 0.222; 0.222; 0.222; 0.222; 0.222; 0.222; 0.222; 0.222; 0.222; 0.222; 0.222; 0.222; 0.222; 0.222; 0.222; 0.222; 0.222; 0.222; 0.222; 0.222; 0.222; 0.222; 0.222; 0.222; 0.222; 0.222; 0.222; 0.222; 0.222; 0.222; 0.222; 0.222; 0.222; 0.222; 0.222; 0.222; 0.222; 0.222; 0.222; 0.222; 0.222; 0.222; 0.222; 0.222; 0.222; 0.222; 0.222; 0.222; 0.222; 0.222; 0.222; 0.222; 0.222; 0.222; 0.222; 0.222; 0.222; 0.222; 0.222; 0.222; 0.222; 0.222; 0.222; 0.222; 0.222; 0.222; 0.222; 0.222; 0.222; 0.222; 0.222; 0.222; 0.222; 0.222; 0.222; 0.222; 0.222; 0.222; 0.222; 0.222; 0.222; 0.222; 0.222; 0.222; 0.222; 0.222; 0.222; 0.222; 0.222; 0.222; 0.222; 0.222; 0.222; 0.222; 0.222; 0.222; 0.222; 0.222; 0.222; 0.222; 0.222; 0.222; 0.222; 0.222; 0.222; 0.222; 0.221; 0.221; 0.221; 0.221; 0.221; 0.221; 0.221; 0.221; 0.221; 0.221; 0.221; 0.221; 0.221; 0.221; 0.221; 0.221; 0.221; 0.221; 0.221; 0.221; 0.221; 0.221; 0.221; 0.221; 0.221; 0.221; 0.221; 0.221; 0.221; 0.221; 0.221; 0.221; 0.221; 0.221; 0.221; 0.221; 0.221; 0.221; 0.221; 0.221; 0.221; 0.221; 0.221; 0.221; 0.221; 0.221; 0.221; 0.221; 0.221; 0.221; 0.221; 0.221; 0.221; 0.221; 0.221; 0.221; 0.221; 0.221; 0.221; 0.221; 0.221; 0.221; 0.221; 0.221; 0.221; 0.221; 0.221; 0.221; 0.221; 0.221; 0.221; 0.221; 0.221; 0.221; 0.221; 0.221; 0.221; 0.221; 0.221; 0.221; 0.221; 0.221; 0.221; 0.221; 0.221; 0.221; 0.221; 0.221; 0.221; 0.221; 0.221; 0.221; 0.221; 0.221; 0.221; 0.221; 0.221; 0.221; 0.221; 0.221; 0.221; 0.221; 0.221; 0.221; 0.221; 0.221; 0.221; 0.221; 0.221; 0.221; 0.221; 0.221; 0.221; 0.221; 0.221; 0.221; 0.221; 0.221; 0.221; 0.221; 0.221; 0.221; 0.221; 0.221; 0.221; 0.221; 0.221; 0.221; 0.221; 0.220; 0.220; 0.220; 0.220; 0.220; 0.220; 0.220; 0.220; 0.220; 0.220; 0.220; 0.220; 0.220; 0.220; 0.220; 0.220; 0.220; 0.220; 0.220; 0.220; 0.220; 0.220; 0.220; 0.220; 0.220; 0.220; "
          ]
        }
      ]
    },
    {
      "cell_type": "markdown",
      "source": [
        "...and identical accuracy:"
      ],
      "metadata": {
        "id": "hlLjtum920R4"
      }
    },
    {
      "cell_type": "code",
      "source": [
        "acc(coeffs)"
      ],
      "metadata": {
        "execution": {
          "iopub.status.busy": "2022-05-30T22:39:40.463301Z",
          "iopub.execute_input": "2022-05-30T22:39:40.463735Z",
          "iopub.status.idle": "2022-05-30T22:39:40.469684Z",
          "shell.execute_reply.started": "2022-05-30T22:39:40.463702Z",
          "shell.execute_reply": "2022-05-30T22:39:40.468652Z"
        },
        "trusted": true,
        "colab": {
          "base_uri": "https://localhost:8080/"
        },
        "id": "1eyhQykC20R4",
        "outputId": "d83feb8b-a628-4a54-9f1b-72645d7d9334"
      },
      "execution_count": null,
      "outputs": [
        {
          "output_type": "execute_result",
          "data": {
            "text/plain": [
              "tensor(0.7921)"
            ]
          },
          "metadata": {},
          "execution_count": 100
        }
      ]
    },
    {
      "cell_type": "markdown",
      "source": [
        "## A neural network"
      ],
      "metadata": {
        "id": "gZTZinwO20R4"
      }
    },
    {
      "cell_type": "markdown",
      "source": [
        "We've now got what we need to implement our neural network.\n",
        "\n",
        "First, we'll need to create coefficients for each of our layers. Our first set of coefficients will take our `n_coeff` inputs, and create `n_hidden` outputs. We can choose whatever `n_hidden` we like -- a higher number gives our network more flexibility, but makes it slower and harder to train. So we need a matrix of size `n_coeff` by `n_hidden`. We'll divide these coefficients by `n_hidden` so that when we sum them up in the next layer we'll end up with similar magnitude numbers to what we started with.\n",
        "\n",
        "Then our second layer will need to take the `n_hidden` inputs and create a single output, so that means we need a `n_hidden` by `1` matrix there. The second layer will also need a constant term added."
      ],
      "metadata": {
        "id": "6iRv-1Q820R4"
      }
    },
    {
      "cell_type": "code",
      "source": [
        "def init_coeffs(n_hidden=20):\n",
        "    layer1 = (torch.rand(n_coeff, n_hidden)-0.5)/n_hidden\n",
        "    layer2 = torch.rand(n_hidden, 1)-0.3\n",
        "    const = torch.rand(1)[0]\n",
        "    return layer1.requires_grad_(),layer2.requires_grad_(),const.requires_grad_()"
      ],
      "metadata": {
        "execution": {
          "iopub.status.busy": "2022-05-30T22:39:44.428254Z",
          "iopub.execute_input": "2022-05-30T22:39:44.428599Z",
          "iopub.status.idle": "2022-05-30T22:39:44.434009Z",
          "shell.execute_reply.started": "2022-05-30T22:39:44.428563Z",
          "shell.execute_reply": "2022-05-30T22:39:44.433164Z"
        },
        "trusted": true,
        "id": "ryR2WTIX20R4"
      },
      "execution_count": null,
      "outputs": []
    },
    {
      "cell_type": "markdown",
      "source": [
        "Now we have our coefficients, we can create our neural net. The key steps are the two matrix products, `indeps@l1` and `res@l2` (where `res` is the output of the first layer). The first layer output is passed to `F.relu` (that's our non-linearity), and the second is passed to `torch.sigmoid` as before."
      ],
      "metadata": {
        "id": "VWh6g81o20R4"
      }
    },
    {
      "cell_type": "code",
      "source": [
        "import torch.nn.functional as F\n",
        "\n",
        "def calc_preds(coeffs, indeps):\n",
        "    l1,l2,const = coeffs\n",
        "    res = F.relu(indeps@l1)\n",
        "    res = res@l2 + const\n",
        "    return torch.sigmoid(res)"
      ],
      "metadata": {
        "execution": {
          "iopub.status.busy": "2022-05-30T22:39:45.302573Z",
          "iopub.execute_input": "2022-05-30T22:39:45.302903Z",
          "iopub.status.idle": "2022-05-30T22:39:45.309472Z",
          "shell.execute_reply.started": "2022-05-30T22:39:45.302864Z",
          "shell.execute_reply": "2022-05-30T22:39:45.308498Z"
        },
        "trusted": true,
        "id": "H0kp28a320R4"
      },
      "execution_count": null,
      "outputs": []
    },
    {
      "cell_type": "markdown",
      "source": [
        "Finally, now that we have more than one set of coefficients, we need to add a loop to update each one:"
      ],
      "metadata": {
        "id": "gP3xRItz20R5"
      }
    },
    {
      "cell_type": "code",
      "source": [
        "def update_coeffs(coeffs, lr):\n",
        "    for layer in coeffs:\n",
        "        layer.sub_(layer.grad * lr)\n",
        "        layer.grad.zero_()"
      ],
      "metadata": {
        "execution": {
          "iopub.status.busy": "2022-05-30T22:39:55.3665Z",
          "iopub.execute_input": "2022-05-30T22:39:55.366945Z",
          "iopub.status.idle": "2022-05-30T22:39:55.371578Z",
          "shell.execute_reply.started": "2022-05-30T22:39:55.366914Z",
          "shell.execute_reply": "2022-05-30T22:39:55.370699Z"
        },
        "trusted": true,
        "id": "QjU70lsd20R5"
      },
      "execution_count": null,
      "outputs": []
    },
    {
      "cell_type": "markdown",
      "source": [
        "That's it -- we're now ready to train our model!"
      ],
      "metadata": {
        "id": "H5UMAvv420R5"
      }
    },
    {
      "cell_type": "code",
      "source": [
        "coeffs = train_model(epochs = 2000, lr=1.4)"
      ],
      "metadata": {
        "execution": {
          "iopub.status.busy": "2022-05-30T22:39:58.189651Z",
          "iopub.execute_input": "2022-05-30T22:39:58.189982Z",
          "iopub.status.idle": "2022-05-30T22:39:58.227202Z",
          "shell.execute_reply.started": "2022-05-30T22:39:58.189951Z",
          "shell.execute_reply": "2022-05-30T22:39:58.226226Z"
        },
        "trusted": true,
        "colab": {
          "base_uri": "https://localhost:8080/"
        },
        "id": "-CTSyztK20R5",
        "outputId": "1d006ae9-89cf-45dc-e51a-acc4129e8a6b"
      },
      "execution_count": null,
      "outputs": [
        {
          "output_type": "stream",
          "name": "stdout",
          "text": [
            "0.543; 0.532; 0.520; 0.505; 0.487; 0.466; 0.439; 0.407; 0.373; 0.343; 0.319; 0.301; 0.286; 0.274; 0.264; 0.256; 0.250; 0.245; 0.240; 0.237; 0.234; 0.231; 0.229; 0.227; 0.226; 0.224; 0.223; 0.222; 0.221; 0.220; 0.219; 0.218; 0.217; 0.217; 0.216; 0.215; 0.215; 0.214; 0.213; 0.213; 0.212; 0.212; 0.211; 0.210; 0.210; 0.210; 0.209; 0.209; 0.208; 0.208; 0.207; 0.207; 0.207; 0.206; 0.206; 0.205; 0.205; 0.205; 0.205; 0.204; 0.204; 0.204; 0.203; 0.203; 0.203; 0.203; 0.202; 0.202; 0.202; 0.202; 0.202; 0.201; 0.201; 0.201; 0.201; 0.201; 0.201; 0.200; 0.200; 0.200; 0.200; 0.200; 0.200; 0.200; 0.199; 0.199; 0.199; 0.199; 0.199; 0.199; 0.199; 0.199; 0.199; 0.198; 0.198; 0.198; 0.198; 0.198; 0.198; 0.198; 0.198; 0.198; 0.198; 0.198; 0.198; 0.197; 0.197; 0.197; 0.197; 0.197; 0.197; 0.197; 0.197; 0.197; 0.197; 0.197; 0.197; 0.197; 0.197; 0.197; 0.197; 0.197; 0.196; 0.196; 0.196; 0.196; 0.196; 0.196; 0.196; 0.196; 0.196; 0.196; 0.196; 0.196; 0.196; 0.196; 0.196; 0.196; 0.196; 0.196; 0.196; 0.196; 0.196; 0.196; 0.196; 0.196; 0.196; 0.195; 0.195; 0.195; 0.195; 0.195; 0.195; 0.195; 0.195; 0.195; 0.195; 0.195; 0.195; 0.195; 0.195; 0.195; 0.195; 0.195; 0.195; 0.195; 0.195; 0.195; 0.195; 0.195; 0.195; 0.195; 0.195; 0.195; 0.195; 0.195; 0.195; 0.195; 0.195; 0.195; 0.195; 0.195; 0.195; 0.195; 0.195; 0.195; 0.195; 0.195; 0.195; 0.195; 0.194; 0.194; 0.194; 0.194; 0.194; 0.194; 0.194; 0.194; 0.194; 0.194; 0.194; 0.194; 0.194; 0.194; 0.194; 0.194; 0.194; 0.194; 0.194; 0.194; 0.194; 0.194; 0.194; 0.194; 0.194; 0.194; 0.194; 0.194; 0.194; 0.194; 0.194; 0.194; 0.194; 0.194; 0.194; 0.194; 0.194; 0.194; 0.194; 0.194; 0.194; 0.194; 0.194; 0.194; 0.194; 0.194; 0.194; 0.194; 0.194; 0.194; 0.194; 0.194; 0.194; 0.194; 0.194; 0.194; 0.194; 0.194; 0.194; 0.194; 0.194; 0.194; 0.194; 0.194; 0.194; 0.194; 0.194; 0.194; 0.194; 0.194; 0.194; 0.194; 0.194; 0.194; 0.194; 0.194; 0.194; 0.194; 0.194; 0.194; 0.194; 0.194; 0.194; 0.194; 0.194; 0.194; 0.194; 0.194; 0.194; 0.194; 0.194; 0.194; 0.194; 0.194; 0.194; 0.194; 0.194; 0.193; 0.193; 0.193; 0.193; 0.193; 0.193; 0.193; 0.193; 0.193; 0.193; 0.193; 0.193; 0.193; 0.193; 0.193; 0.193; 0.193; 0.193; 0.193; 0.193; 0.193; 0.193; 0.193; 0.193; 0.193; 0.193; 0.193; 0.193; 0.193; 0.193; 0.193; 0.193; 0.193; 0.193; 0.193; 0.193; 0.193; 0.193; 0.193; 0.193; 0.193; 0.193; 0.193; 0.193; 0.193; 0.193; 0.193; 0.193; 0.193; 0.193; 0.193; 0.193; 0.193; 0.193; 0.193; 0.193; 0.193; 0.193; 0.193; 0.193; 0.193; 0.193; 0.193; 0.193; 0.193; 0.193; 0.193; 0.193; 0.193; 0.193; 0.193; 0.193; 0.193; 0.193; 0.193; 0.193; 0.193; 0.193; 0.193; 0.193; 0.193; 0.193; 0.193; 0.193; 0.193; 0.193; 0.193; 0.193; 0.193; 0.193; 0.193; 0.193; 0.193; 0.193; 0.193; 0.193; 0.193; 0.193; 0.193; 0.193; 0.193; 0.193; 0.193; 0.193; 0.193; 0.193; 0.193; 0.193; 0.193; 0.193; 0.193; 0.193; 0.193; 0.193; 0.193; 0.193; 0.193; 0.193; 0.193; 0.193; 0.193; 0.193; 0.193; 0.193; 0.193; 0.193; 0.193; 0.193; 0.193; 0.193; 0.193; 0.193; 0.193; 0.193; 0.193; 0.193; 0.193; 0.193; 0.193; 0.193; 0.193; 0.193; 0.193; 0.193; 0.193; 0.193; 0.193; 0.193; 0.193; 0.193; 0.193; 0.193; 0.193; 0.193; 0.193; 0.193; 0.193; 0.193; 0.193; 0.193; 0.193; 0.193; 0.193; 0.193; 0.193; 0.193; 0.193; 0.193; 0.193; 0.193; 0.193; 0.193; 0.193; 0.193; 0.193; 0.193; 0.193; 0.193; 0.193; 0.193; 0.193; 0.193; 0.193; 0.193; 0.193; 0.193; 0.193; 0.193; 0.193; 0.193; 0.193; 0.193; 0.193; 0.193; 0.193; 0.193; 0.193; 0.193; 0.193; 0.193; 0.193; 0.193; 0.193; 0.193; 0.193; 0.193; 0.193; 0.193; 0.193; 0.193; 0.193; 0.193; 0.193; 0.193; 0.193; 0.193; 0.193; 0.193; 0.193; 0.193; 0.193; 0.193; 0.193; 0.193; 0.193; 0.193; 0.193; 0.193; 0.193; 0.193; 0.193; 0.193; 0.193; 0.193; 0.193; 0.193; 0.193; 0.193; 0.193; 0.193; 0.193; 0.193; 0.193; 0.193; 0.193; 0.193; 0.193; 0.193; 0.193; 0.193; 0.193; 0.193; 0.193; 0.193; 0.193; 0.193; 0.193; 0.193; 0.193; 0.193; 0.193; 0.193; 0.193; 0.193; 0.193; 0.193; 0.193; 0.193; 0.193; 0.193; 0.193; 0.193; 0.193; 0.193; 0.193; 0.193; 0.193; 0.193; 0.193; 0.193; 0.193; 0.193; 0.193; 0.193; 0.193; 0.193; 0.193; 0.193; 0.193; 0.193; 0.193; 0.193; 0.193; 0.193; 0.193; 0.193; 0.193; 0.193; 0.193; 0.193; 0.193; 0.193; 0.193; 0.193; 0.193; 0.193; 0.193; 0.193; 0.193; 0.193; 0.193; 0.193; 0.193; 0.193; 0.193; 0.193; 0.193; 0.193; 0.193; 0.193; 0.193; 0.193; 0.193; 0.193; 0.193; 0.193; 0.193; 0.193; 0.193; 0.193; 0.193; 0.193; 0.193; 0.193; 0.193; 0.193; 0.193; 0.193; 0.193; 0.193; 0.193; 0.193; 0.193; 0.193; 0.193; 0.193; 0.193; 0.193; 0.193; 0.193; 0.193; 0.193; 0.193; 0.193; 0.193; 0.193; 0.193; 0.193; 0.193; 0.193; 0.193; 0.193; 0.193; 0.193; 0.193; 0.193; 0.193; 0.193; 0.193; 0.193; 0.193; 0.193; 0.193; 0.193; 0.193; 0.193; 0.193; 0.193; 0.193; 0.193; 0.193; 0.193; 0.193; 0.193; 0.193; 0.193; 0.193; 0.193; 0.193; 0.193; 0.193; 0.193; 0.193; 0.193; 0.193; 0.193; 0.193; 0.193; 0.193; 0.193; 0.193; 0.193; 0.193; 0.193; 0.193; 0.193; 0.193; 0.193; 0.193; 0.193; 0.193; 0.193; 0.193; 0.193; 0.193; 0.193; 0.193; 0.193; 0.193; 0.193; 0.193; 0.193; 0.193; 0.193; 0.193; 0.193; 0.193; 0.193; 0.193; 0.193; 0.193; 0.193; 0.193; 0.193; 0.193; 0.193; 0.193; 0.193; 0.193; 0.193; 0.193; 0.193; 0.193; 0.193; 0.193; 0.193; 0.193; 0.193; 0.193; 0.193; 0.193; 0.193; 0.193; 0.193; 0.193; 0.193; 0.193; 0.193; 0.193; 0.193; 0.193; 0.193; 0.193; 0.193; 0.193; 0.193; 0.193; 0.193; 0.193; 0.193; 0.193; 0.193; 0.193; 0.193; 0.193; 0.193; 0.193; 0.193; 0.193; 0.193; 0.193; 0.193; 0.193; 0.193; 0.193; 0.193; 0.193; 0.193; 0.193; 0.193; 0.193; 0.193; 0.193; 0.192; 0.192; 0.192; 0.192; 0.192; 0.192; 0.192; 0.192; 0.192; 0.192; 0.192; 0.192; 0.192; 0.192; 0.192; 0.192; 0.192; 0.192; 0.192; 0.192; 0.192; 0.192; 0.192; 0.192; 0.192; 0.192; 0.192; 0.192; 0.192; 0.192; 0.192; 0.192; 0.192; 0.192; 0.192; 0.192; 0.192; 0.192; 0.192; 0.192; 0.192; 0.192; 0.192; 0.192; 0.192; 0.192; 0.192; 0.192; 0.192; 0.192; 0.192; 0.192; 0.192; 0.192; 0.192; 0.192; 0.192; 0.192; 0.192; 0.192; 0.192; 0.192; 0.192; 0.192; 0.192; 0.192; 0.192; 0.192; 0.192; 0.192; 0.192; 0.192; 0.192; 0.192; 0.192; 0.192; 0.192; 0.192; 0.192; 0.192; 0.192; 0.192; 0.192; 0.192; 0.192; 0.192; 0.192; 0.192; 0.192; 0.192; 0.192; 0.192; 0.192; 0.192; 0.192; 0.192; 0.192; 0.192; 0.192; 0.192; 0.192; 0.192; 0.192; 0.192; 0.192; 0.192; 0.192; 0.192; 0.192; 0.192; 0.192; 0.192; 0.192; 0.192; 0.192; 0.192; 0.192; 0.192; 0.192; 0.192; 0.192; 0.192; 0.192; 0.192; 0.192; 0.192; 0.192; 0.192; 0.192; 0.192; 0.192; 0.192; 0.192; 0.192; 0.192; 0.192; 0.192; 0.192; 0.192; 0.192; 0.192; 0.192; 0.192; 0.192; 0.192; 0.192; 0.192; 0.192; 0.192; 0.192; 0.192; 0.192; 0.192; 0.192; 0.192; 0.192; 0.192; 0.192; 0.192; 0.192; 0.192; 0.192; 0.192; 0.192; 0.192; 0.192; 0.192; 0.192; 0.192; 0.192; 0.192; 0.192; 0.192; 0.192; 0.192; 0.192; 0.192; 0.192; 0.192; 0.192; 0.192; 0.192; 0.192; 0.192; 0.192; 0.192; 0.192; 0.192; 0.192; 0.192; 0.192; 0.192; 0.192; 0.192; 0.192; 0.192; 0.192; 0.192; 0.192; 0.192; 0.192; 0.192; 0.192; 0.192; 0.192; 0.192; 0.192; 0.192; 0.192; 0.192; 0.192; 0.192; 0.192; 0.192; 0.192; 0.192; 0.192; 0.192; 0.192; 0.192; 0.192; 0.192; 0.192; 0.192; 0.192; 0.192; 0.192; 0.192; 0.192; 0.192; 0.192; 0.192; 0.192; 0.192; 0.192; 0.192; 0.192; 0.192; 0.192; 0.192; 0.192; 0.192; 0.192; 0.192; 0.192; 0.192; 0.192; 0.192; 0.192; 0.192; 0.192; 0.192; 0.192; 0.192; 0.192; 0.192; 0.192; 0.192; 0.192; 0.192; 0.192; 0.192; 0.192; 0.192; 0.192; 0.192; 0.192; 0.192; 0.192; 0.192; 0.192; 0.192; 0.192; 0.192; 0.192; 0.192; 0.192; 0.192; 0.192; 0.192; 0.192; 0.192; 0.192; 0.192; 0.192; 0.192; 0.192; 0.192; 0.192; 0.192; 0.192; 0.192; 0.192; 0.192; 0.192; 0.192; 0.192; 0.192; 0.192; 0.192; 0.192; 0.192; 0.192; 0.192; 0.192; 0.192; 0.192; 0.192; 0.192; 0.192; 0.192; 0.192; 0.192; 0.192; 0.192; 0.192; 0.192; 0.192; 0.192; 0.192; 0.192; 0.192; 0.192; 0.192; 0.192; 0.192; 0.192; 0.192; 0.192; 0.192; 0.192; 0.192; 0.192; 0.192; 0.192; 0.192; 0.192; 0.192; 0.192; 0.192; 0.192; 0.192; 0.192; 0.192; 0.192; 0.192; 0.192; 0.192; 0.192; 0.192; 0.192; 0.192; 0.192; 0.192; 0.192; 0.192; 0.192; 0.192; 0.192; 0.192; 0.192; 0.192; 0.192; 0.192; 0.192; 0.192; 0.192; 0.192; 0.192; 0.192; 0.192; 0.192; 0.192; 0.192; 0.192; 0.192; 0.192; 0.192; 0.192; 0.192; 0.192; 0.192; 0.192; 0.192; 0.192; 0.192; 0.192; 0.192; 0.192; 0.192; 0.192; 0.192; 0.192; 0.192; 0.192; 0.192; 0.192; 0.192; 0.192; 0.192; 0.192; 0.192; 0.192; 0.192; 0.192; 0.192; 0.192; 0.192; 0.192; 0.192; 0.192; 0.192; 0.192; 0.192; 0.192; 0.192; 0.192; 0.192; 0.192; 0.192; 0.192; 0.192; 0.192; 0.192; 0.192; 0.192; 0.192; 0.192; 0.192; 0.192; 0.192; 0.192; 0.192; 0.192; 0.192; 0.192; 0.192; 0.192; 0.192; 0.192; 0.192; 0.192; 0.192; 0.192; 0.192; 0.192; 0.192; 0.192; 0.192; 0.192; 0.192; 0.192; 0.192; 0.192; 0.192; 0.192; 0.192; 0.192; 0.192; 0.192; 0.192; 0.192; 0.192; 0.192; 0.192; 0.192; 0.192; 0.192; 0.192; 0.192; 0.192; 0.192; 0.192; 0.192; 0.192; 0.192; 0.192; 0.192; 0.192; 0.192; 0.192; 0.192; 0.192; 0.192; 0.192; 0.192; 0.192; 0.192; 0.192; 0.192; 0.192; 0.192; 0.192; 0.192; 0.192; 0.192; 0.192; 0.192; 0.192; 0.192; 0.192; 0.192; 0.192; 0.192; 0.192; 0.192; 0.192; 0.192; 0.192; 0.192; 0.192; 0.192; 0.192; 0.192; 0.192; 0.192; 0.192; 0.192; 0.192; 0.192; 0.192; 0.192; 0.192; 0.192; 0.192; 0.192; 0.192; 0.192; 0.192; 0.192; 0.192; 0.192; 0.192; 0.192; 0.192; 0.192; 0.192; 0.192; 0.192; 0.192; 0.192; 0.192; 0.192; 0.192; 0.192; 0.192; 0.192; 0.192; 0.192; 0.192; 0.192; 0.192; 0.192; 0.192; 0.192; 0.192; 0.192; 0.192; 0.192; 0.192; 0.192; 0.192; 0.192; 0.192; 0.192; 0.192; 0.192; 0.192; 0.192; 0.192; 0.192; 0.192; 0.192; 0.192; 0.192; 0.192; 0.192; 0.192; 0.192; 0.192; 0.192; 0.192; 0.192; 0.192; 0.192; 0.192; 0.192; 0.192; 0.192; 0.192; 0.192; 0.192; 0.192; 0.192; 0.192; 0.192; 0.192; 0.192; 0.192; 0.192; 0.192; 0.192; 0.192; 0.192; 0.192; 0.192; 0.192; 0.192; 0.192; 0.192; 0.192; 0.192; 0.192; 0.192; 0.192; 0.192; 0.192; 0.192; 0.192; 0.192; 0.192; 0.192; 0.192; 0.192; 0.192; 0.192; 0.192; 0.192; 0.192; 0.192; 0.192; 0.192; 0.192; 0.192; 0.192; 0.192; 0.192; 0.192; 0.192; 0.192; 0.192; 0.192; 0.192; 0.192; 0.192; 0.192; 0.192; 0.192; 0.192; 0.192; 0.192; 0.192; 0.192; 0.192; 0.192; 0.192; 0.192; 0.192; 0.192; 0.192; 0.192; 0.192; 0.192; 0.192; 0.192; 0.192; 0.192; 0.192; 0.192; 0.192; 0.192; 0.192; 0.192; 0.192; 0.192; 0.192; 0.192; 0.192; 0.192; 0.192; 0.192; 0.192; 0.192; 0.192; 0.192; 0.192; 0.192; 0.192; 0.192; 0.192; 0.192; 0.192; 0.192; 0.192; 0.192; 0.192; 0.192; 0.192; 0.192; 0.192; 0.192; 0.192; 0.192; 0.192; 0.192; 0.192; 0.192; 0.192; 0.192; 0.192; 0.192; 0.192; 0.192; 0.192; 0.192; 0.192; 0.192; 0.192; 0.192; 0.192; 0.192; 0.192; 0.192; 0.192; 0.192; 0.192; 0.192; 0.192; 0.192; 0.192; 0.192; 0.192; 0.192; 0.192; 0.192; 0.192; 0.192; 0.192; 0.192; 0.192; 0.192; 0.192; 0.192; 0.192; 0.192; 0.192; 0.192; 0.192; 0.192; 0.192; 0.192; 0.192; 0.192; 0.192; 0.192; 0.192; 0.192; 0.192; 0.192; 0.192; 0.192; 0.192; 0.192; 0.192; 0.192; 0.192; 0.192; 0.192; 0.192; 0.192; 0.192; 0.192; 0.192; 0.192; 0.192; 0.192; 0.192; 0.192; 0.192; 0.192; 0.192; 0.192; 0.192; 0.192; 0.192; 0.192; 0.192; 0.192; 0.192; 0.192; 0.192; 0.192; 0.192; 0.192; 0.192; 0.192; 0.192; 0.192; 0.192; 0.192; 0.192; 0.192; 0.192; 0.192; 0.192; 0.192; 0.192; 0.192; 0.192; 0.192; 0.192; 0.192; 0.192; 0.192; 0.192; 0.192; 0.192; 0.192; 0.192; 0.192; 0.192; 0.192; 0.192; 0.192; 0.192; 0.192; 0.192; 0.192; 0.192; 0.192; 0.192; 0.192; 0.192; 0.192; 0.192; 0.192; 0.192; 0.192; 0.192; 0.192; 0.192; 0.192; 0.192; 0.192; 0.192; 0.192; 0.192; 0.192; 0.192; 0.192; 0.192; 0.192; 0.192; 0.192; 0.192; 0.192; 0.192; 0.192; 0.192; 0.192; 0.192; 0.192; 0.192; 0.192; 0.192; 0.192; 0.192; 0.192; 0.192; 0.192; 0.192; 0.192; 0.192; 0.192; 0.192; 0.192; 0.192; 0.192; 0.192; 0.192; 0.192; 0.192; 0.192; 0.192; 0.192; 0.192; 0.192; 0.192; 0.192; 0.192; 0.192; 0.192; 0.192; 0.192; 0.192; 0.192; 0.192; 0.192; 0.192; 0.192; 0.192; 0.192; 0.192; 0.192; 0.192; 0.192; 0.192; 0.192; 0.192; 0.192; 0.192; 0.192; 0.192; 0.192; 0.192; 0.192; 0.192; 0.192; 0.192; 0.192; 0.192; 0.192; 0.192; 0.192; 0.192; 0.192; 0.192; 0.192; 0.192; 0.192; 0.192; 0.192; 0.192; 0.192; 0.192; 0.192; 0.192; 0.192; 0.192; 0.192; 0.192; 0.192; 0.192; 0.192; 0.192; 0.192; 0.192; 0.192; 0.192; 0.192; 0.192; 0.192; 0.192; 0.192; 0.192; 0.192; 0.192; 0.192; 0.192; 0.192; 0.192; 0.192; 0.192; 0.192; 0.192; 0.192; 0.192; 0.192; 0.192; 0.192; 0.192; 0.192; 0.192; 0.192; 0.192; 0.192; 0.192; 0.192; 0.192; 0.192; 0.192; 0.192; 0.192; 0.192; 0.192; 0.192; 0.192; 0.192; 0.192; 0.192; 0.192; 0.192; 0.192; 0.192; 0.192; 0.192; 0.192; 0.192; 0.192; 0.192; 0.192; 0.192; 0.192; 0.192; 0.192; 0.192; 0.192; 0.192; 0.192; 0.192; 0.192; 0.192; 0.192; 0.192; 0.192; 0.192; 0.192; 0.192; 0.192; 0.192; 0.192; 0.192; 0.192; 0.192; 0.192; 0.192; 0.192; 0.192; 0.192; 0.192; 0.192; 0.192; 0.192; 0.192; 0.192; 0.192; 0.192; 0.192; 0.192; 0.192; 0.192; 0.192; 0.192; 0.192; 0.192; 0.192; 0.192; 0.192; 0.192; 0.192; 0.192; 0.192; 0.192; 0.192; 0.192; 0.192; 0.192; 0.192; 0.192; 0.192; 0.192; 0.192; 0.192; 0.192; 0.192; 0.192; 0.192; 0.192; 0.192; 0.192; 0.192; 0.192; 0.192; 0.192; 0.192; 0.192; 0.192; 0.192; 0.192; 0.192; 0.192; 0.192; 0.192; 0.192; 0.192; 0.192; 0.192; 0.192; 0.192; 0.192; 0.192; 0.192; 0.192; 0.192; 0.192; 0.192; 0.192; 0.192; 0.192; 0.192; 0.192; 0.192; 0.192; 0.192; 0.192; 0.192; 0.192; 0.192; 0.192; 0.192; 0.192; 0.192; 0.192; 0.192; 0.192; 0.192; 0.192; 0.192; 0.192; 0.192; 0.192; 0.192; 0.192; 0.192; 0.192; 0.192; 0.192; 0.192; 0.192; 0.192; 0.192; 0.192; 0.192; 0.192; 0.192; 0.192; 0.192; 0.192; 0.192; 0.192; 0.192; 0.192; 0.192; 0.192; 0.192; 0.192; 0.192; 0.192; 0.192; 0.192; 0.192; 0.192; 0.192; 0.192; 0.192; 0.192; 0.192; 0.192; 0.192; 0.192; 0.192; 0.192; 0.192; 0.192; 0.192; 0.192; 0.192; 0.192; 0.192; 0.192; 0.192; 0.192; 0.192; 0.192; 0.192; 0.192; 0.192; 0.192; 0.192; 0.192; 0.192; 0.192; 0.192; 0.192; 0.192; 0.192; 0.192; 0.192; 0.192; 0.192; 0.192; 0.192; 0.192; 0.192; 0.192; 0.192; 0.192; 0.192; 0.192; 0.192; 0.192; 0.192; 0.192; 0.192; 0.192; 0.192; 0.192; 0.192; 0.192; 0.192; 0.192; 0.192; 0.192; 0.192; 0.192; 0.192; 0.192; 0.192; 0.192; 0.192; "
          ]
        }
      ]
    },
    {
      "cell_type": "code",
      "source": [
        "coeffs = train_model(lr=20)"
      ],
      "metadata": {
        "execution": {
          "iopub.status.busy": "2022-05-30T22:40:16.337512Z",
          "iopub.execute_input": "2022-05-30T22:40:16.338016Z",
          "iopub.status.idle": "2022-05-30T22:40:16.368327Z",
          "shell.execute_reply.started": "2022-05-30T22:40:16.337959Z",
          "shell.execute_reply": "2022-05-30T22:40:16.367439Z"
        },
        "trusted": true,
        "colab": {
          "base_uri": "https://localhost:8080/"
        },
        "id": "_DXAVybc20R5",
        "outputId": "4759b9c0-e37e-4d2c-aebb-19532baa99a4"
      },
      "execution_count": null,
      "outputs": [
        {
          "output_type": "stream",
          "name": "stdout",
          "text": [
            "0.543; 0.400; 0.260; 0.390; 0.221; 0.211; 0.197; 0.195; 0.193; 0.193; 0.193; 0.193; 0.193; 0.193; 0.193; 0.193; 0.193; 0.192; 0.192; 0.192; 0.192; 0.192; 0.192; 0.192; 0.192; 0.192; 0.192; 0.192; 0.192; 0.192; "
          ]
        }
      ]
    },
    {
      "cell_type": "markdown",
      "source": [
        "It's looking good -- our loss is lower than before. Let's see if that translates to a better result on the validation set:"
      ],
      "metadata": {
        "id": "CAhk7OnW20R5"
      }
    },
    {
      "cell_type": "code",
      "source": [
        "acc(coeffs)"
      ],
      "metadata": {
        "execution": {
          "iopub.status.busy": "2022-05-30T22:40:18.644153Z",
          "iopub.execute_input": "2022-05-30T22:40:18.644458Z",
          "iopub.status.idle": "2022-05-30T22:40:18.651372Z",
          "shell.execute_reply.started": "2022-05-30T22:40:18.644427Z",
          "shell.execute_reply": "2022-05-30T22:40:18.650102Z"
        },
        "trusted": true,
        "colab": {
          "base_uri": "https://localhost:8080/"
        },
        "id": "-L-AJ_ZY20R5",
        "outputId": "9040b62b-31df-4088-cbee-d936a3b9ec78"
      },
      "execution_count": null,
      "outputs": [
        {
          "output_type": "execute_result",
          "data": {
            "text/plain": [
              "tensor(0.8258)"
            ]
          },
          "metadata": {},
          "execution_count": 113
        }
      ]
    },
    {
      "cell_type": "markdown",
      "source": [
        "In this case our neural net isn't showing better results than the linear model. That's not surprising; this dataset is very small and very simple, and isn't the kind of thing we'd expect to see neural networks excel at. Furthermore, our validation set is too small to reliably see much accuracy difference. But the key thing is that we now know exactly what a real neural net looks like!"
      ],
      "metadata": {
        "id": "-RDOGgaC20R5"
      }
    },
    {
      "cell_type": "markdown",
      "source": [
        "## Deep learning"
      ],
      "metadata": {
        "id": "CF_wethJ20R5"
      }
    },
    {
      "cell_type": "markdown",
      "source": [
        "The neural net in the previous section only uses one hidden layer, so it doesn't count as \"deep\" learning. But we can use the exact same technique to make our neural net deep, by adding more matrix multiplications.\n",
        "\n",
        "First, we'll need to create additional coefficients for each layer:"
      ],
      "metadata": {
        "id": "cYsTAnX120R5"
      }
    },
    {
      "cell_type": "code",
      "source": [
        "def init_coeffs():\n",
        "    hiddens = [10, 10]  # <-- set this to the size of each hidden layer you want\n",
        "    sizes = [n_coeff] + hiddens + [1]\n",
        "    n = len(sizes)\n",
        "    layers = [(torch.rand(sizes[i], sizes[i+1])-0.3)/sizes[i+1]*4 for i in range(n-1)]\n",
        "    consts = [(torch.rand(1)[0]-0.5)*0.1 for i in range(n-1)]\n",
        "    for l in layers+consts: l.requires_grad_()\n",
        "    return layers,consts"
      ],
      "metadata": {
        "execution": {
          "iopub.status.busy": "2022-05-30T22:40:55.25457Z",
          "iopub.execute_input": "2022-05-30T22:40:55.255291Z",
          "iopub.status.idle": "2022-05-30T22:40:55.261806Z",
          "shell.execute_reply.started": "2022-05-30T22:40:55.255242Z",
          "shell.execute_reply": "2022-05-30T22:40:55.261271Z"
        },
        "trusted": true,
        "id": "LWxtmUIq20R5"
      },
      "execution_count": null,
      "outputs": []
    },
    {
      "cell_type": "markdown",
      "source": [
        "You'll notice here that there's a lot of messy constants to get the random numbers in just the right ranges. When you train the model in a moment, you'll see that the tiniest changes to these initialisations can cause our model to fail to train at all! This is a key reason that deep learning failed to make much progress in the early days -- it's very finicky to get a good starting point for our coefficients. Nowadays, we have ways to deal with that, which we'll learn about in other notebooks.\n",
        "\n",
        "Our deep learning `calc_preds` looks much the same as before, but now we loop through each layer, instead of listing them separately:"
      ],
      "metadata": {
        "id": "AZGUtzGo20R6"
      }
    },
    {
      "cell_type": "code",
      "source": [
        "import torch.nn.functional as F\n",
        "\n",
        "def calc_preds(coeffs, indeps):\n",
        "    layers,consts = coeffs\n",
        "    n = len(layers)\n",
        "    res = indeps\n",
        "    for i,l in enumerate(layers):\n",
        "        res = res@l + consts[i]\n",
        "        if i!=n-1: res = F.relu(res)\n",
        "    return torch.sigmoid(res)"
      ],
      "metadata": {
        "execution": {
          "iopub.status.busy": "2022-05-30T22:40:57.610142Z",
          "iopub.execute_input": "2022-05-30T22:40:57.610974Z",
          "iopub.status.idle": "2022-05-30T22:40:57.618154Z",
          "shell.execute_reply.started": "2022-05-30T22:40:57.610916Z",
          "shell.execute_reply": "2022-05-30T22:40:57.617329Z"
        },
        "trusted": true,
        "id": "a5s6-mev20R6"
      },
      "execution_count": null,
      "outputs": []
    },
    {
      "cell_type": "markdown",
      "source": [
        "We also need a minor update to `update_coeffs` since we've got `layers` and `consts` separated now:"
      ],
      "metadata": {
        "id": "PtpaN2qM20R6"
      }
    },
    {
      "cell_type": "code",
      "source": [
        "def update_coeffs(coeffs, lr):\n",
        "    layers,consts = coeffs\n",
        "    for layer in layers+consts:\n",
        "        layer.sub_(layer.grad * lr)\n",
        "        layer.grad.zero_()"
      ],
      "metadata": {
        "execution": {
          "iopub.status.busy": "2022-05-30T22:41:08.512494Z",
          "iopub.execute_input": "2022-05-30T22:41:08.513049Z",
          "iopub.status.idle": "2022-05-30T22:41:08.519219Z",
          "shell.execute_reply.started": "2022-05-30T22:41:08.512999Z",
          "shell.execute_reply": "2022-05-30T22:41:08.518093Z"
        },
        "trusted": true,
        "id": "5TfvTJeY20R6"
      },
      "execution_count": null,
      "outputs": []
    },
    {
      "cell_type": "markdown",
      "source": [
        "Let's train our model..."
      ],
      "metadata": {
        "id": "RtUdflrP20R6"
      }
    },
    {
      "cell_type": "code",
      "source": [
        "coeffs = train_model(epochs = 2000, lr=.5)"
      ],
      "metadata": {
        "execution": {
          "iopub.status.busy": "2022-05-30T22:41:23.632516Z",
          "iopub.execute_input": "2022-05-30T22:41:23.633004Z",
          "iopub.status.idle": "2022-05-30T22:41:23.666981Z",
          "shell.execute_reply.started": "2022-05-30T22:41:23.632953Z",
          "shell.execute_reply": "2022-05-30T22:41:23.666048Z"
        },
        "trusted": true,
        "colab": {
          "base_uri": "https://localhost:8080/"
        },
        "id": "v1V2g04d20R6",
        "outputId": "aa0b8bc3-813a-4f8e-e86e-5755edc47203"
      },
      "execution_count": null,
      "outputs": [
        {
          "output_type": "stream",
          "name": "stdout",
          "text": [
            "0.521; 0.470; 0.436; 0.403; 0.372; 0.348; 0.328; 0.308; 0.290; 0.274; 0.261; 0.252; 0.245; 0.240; 0.235; 0.232; 0.229; 0.227; 0.225; 0.224; 0.222; 0.221; 0.220; 0.219; 0.218; 0.218; 0.217; 0.216; 0.215; 0.214; 0.214; 0.213; 0.212; 0.212; 0.211; 0.210; 0.210; 0.209; 0.208; 0.208; 0.207; 0.207; 0.206; 0.206; 0.205; 0.205; 0.205; 0.204; 0.204; 0.203; 0.203; 0.203; 0.202; 0.202; 0.202; 0.202; 0.201; 0.201; 0.201; 0.201; 0.200; 0.200; 0.200; 0.200; 0.200; 0.199; 0.199; 0.199; 0.199; 0.199; 0.199; 0.198; 0.198; 0.198; 0.198; 0.198; 0.198; 0.198; 0.198; 0.197; 0.197; 0.197; 0.197; 0.197; 0.197; 0.197; 0.197; 0.197; 0.197; 0.197; 0.196; 0.196; 0.196; 0.196; 0.196; 0.196; 0.196; 0.196; 0.196; 0.196; 0.196; 0.196; 0.196; 0.196; 0.196; 0.196; 0.195; 0.195; 0.195; 0.195; 0.195; 0.195; 0.195; 0.195; 0.195; 0.195; 0.195; 0.195; 0.195; 0.195; 0.195; 0.195; 0.195; 0.195; 0.195; 0.195; 0.195; 0.195; 0.195; 0.195; 0.195; 0.195; 0.195; 0.195; 0.194; 0.194; 0.194; 0.194; 0.194; 0.194; 0.194; 0.194; 0.194; 0.194; 0.194; 0.194; 0.194; 0.194; 0.194; 0.194; 0.194; 0.194; 0.194; 0.194; 0.194; 0.194; 0.194; 0.194; 0.194; 0.194; 0.194; 0.194; 0.194; 0.194; 0.194; 0.194; 0.194; 0.194; 0.194; 0.194; 0.194; 0.194; 0.194; 0.194; 0.194; 0.194; 0.194; 0.194; 0.194; 0.194; 0.194; 0.194; 0.194; 0.194; 0.194; 0.194; 0.194; 0.194; 0.194; 0.194; 0.194; 0.194; 0.194; 0.194; 0.193; 0.193; 0.193; 0.193; 0.193; 0.193; 0.193; 0.193; 0.193; 0.193; 0.193; 0.193; 0.193; 0.193; 0.193; 0.193; 0.193; 0.193; 0.193; 0.193; 0.193; 0.193; 0.193; 0.193; 0.193; 0.193; 0.193; 0.193; 0.193; 0.193; 0.193; 0.193; 0.193; 0.193; 0.193; 0.193; 0.193; 0.193; 0.193; 0.193; 0.193; 0.193; 0.193; 0.193; 0.193; 0.193; 0.193; 0.193; 0.193; 0.193; 0.193; 0.193; 0.193; 0.193; 0.193; 0.193; 0.193; 0.193; 0.193; 0.193; 0.193; 0.193; 0.193; 0.193; 0.193; 0.193; 0.193; 0.193; 0.193; 0.193; 0.193; 0.193; 0.193; 0.193; 0.193; 0.193; 0.193; 0.193; 0.193; 0.193; 0.193; 0.193; 0.193; 0.193; 0.193; 0.193; 0.193; 0.193; 0.193; 0.193; 0.193; 0.193; 0.193; 0.193; 0.193; 0.193; 0.193; 0.193; 0.193; 0.193; 0.193; 0.193; 0.193; 0.193; 0.193; 0.193; 0.193; 0.193; 0.193; 0.193; 0.193; 0.193; 0.193; 0.193; 0.193; 0.193; 0.193; 0.193; 0.193; 0.193; 0.193; 0.193; 0.193; 0.193; 0.193; 0.193; 0.193; 0.193; 0.193; 0.193; 0.193; 0.193; 0.193; 0.193; 0.193; 0.193; 0.193; 0.193; 0.193; 0.193; 0.193; 0.193; 0.193; 0.193; 0.193; 0.193; 0.193; 0.193; 0.193; 0.193; 0.193; 0.193; 0.193; 0.193; 0.193; 0.193; 0.193; 0.193; 0.193; 0.193; 0.193; 0.193; 0.193; 0.193; 0.193; 0.193; 0.193; 0.193; 0.193; 0.193; 0.193; 0.193; 0.193; 0.193; 0.193; 0.193; 0.193; 0.193; 0.193; 0.193; 0.193; 0.193; 0.193; 0.193; 0.193; 0.193; 0.193; 0.193; 0.193; 0.193; 0.193; 0.193; 0.193; 0.193; 0.193; 0.193; 0.193; 0.193; 0.193; 0.193; 0.193; 0.193; 0.193; 0.193; 0.193; 0.193; 0.193; 0.193; 0.193; 0.193; 0.193; 0.193; 0.193; 0.193; 0.193; 0.193; 0.193; 0.193; 0.193; 0.193; 0.193; 0.193; 0.193; 0.193; 0.193; 0.193; 0.193; 0.193; 0.193; 0.193; 0.193; 0.193; 0.193; 0.193; 0.193; 0.193; 0.193; 0.193; 0.193; 0.193; 0.193; 0.193; 0.193; 0.193; 0.193; 0.193; 0.193; 0.193; 0.193; 0.193; 0.193; 0.193; 0.193; 0.193; 0.193; 0.193; 0.193; 0.193; 0.193; 0.193; 0.193; 0.193; 0.193; 0.193; 0.193; 0.193; 0.193; 0.193; 0.193; 0.193; 0.193; 0.193; 0.193; 0.193; 0.193; 0.193; 0.193; 0.193; 0.193; 0.193; 0.193; 0.193; 0.193; 0.193; 0.193; 0.193; 0.193; 0.193; 0.193; 0.193; 0.193; 0.193; 0.193; 0.193; 0.193; 0.193; 0.193; 0.193; 0.193; 0.193; 0.193; 0.193; 0.192; 0.192; 0.192; 0.192; 0.192; 0.192; 0.192; 0.192; 0.192; 0.192; 0.192; 0.192; 0.192; 0.192; 0.192; 0.192; 0.192; 0.192; 0.192; 0.192; 0.192; 0.192; 0.192; 0.192; 0.192; 0.192; 0.192; 0.192; 0.192; 0.192; 0.192; 0.192; 0.192; 0.192; 0.192; 0.192; 0.192; 0.192; 0.192; 0.192; 0.192; 0.192; 0.192; 0.192; 0.192; 0.192; 0.192; 0.192; 0.192; 0.192; 0.192; 0.192; 0.192; 0.192; 0.192; 0.192; 0.192; 0.192; 0.192; 0.192; 0.192; 0.192; 0.192; 0.192; 0.192; 0.192; 0.192; 0.192; 0.192; 0.192; 0.192; 0.192; 0.192; 0.192; 0.192; 0.192; 0.192; 0.192; 0.192; 0.192; 0.192; 0.192; 0.192; 0.192; 0.192; 0.192; 0.192; 0.192; 0.192; 0.192; 0.192; 0.192; 0.192; 0.192; 0.192; 0.192; 0.192; 0.192; 0.192; 0.192; 0.192; 0.192; 0.192; 0.192; 0.192; 0.192; 0.192; 0.192; 0.192; 0.192; 0.192; 0.192; 0.192; 0.192; 0.192; 0.192; 0.192; 0.192; 0.192; 0.192; 0.192; 0.192; 0.192; 0.192; 0.192; 0.192; 0.192; 0.192; 0.192; 0.192; 0.192; 0.192; 0.192; 0.192; 0.192; 0.192; 0.192; 0.192; 0.192; 0.192; 0.192; 0.192; 0.192; 0.192; 0.192; 0.192; 0.192; 0.192; 0.192; 0.192; 0.192; 0.192; 0.192; 0.192; 0.192; 0.192; 0.192; 0.192; 0.192; 0.192; 0.192; 0.192; 0.192; 0.192; 0.192; 0.192; 0.192; 0.192; 0.192; 0.192; 0.192; 0.192; 0.192; 0.192; 0.192; 0.192; 0.192; 0.192; 0.192; 0.192; 0.192; 0.192; 0.192; 0.192; 0.192; 0.192; 0.192; 0.192; 0.192; 0.192; 0.192; 0.192; 0.192; 0.192; 0.192; 0.192; 0.192; 0.192; 0.192; 0.192; 0.192; 0.192; 0.192; 0.192; 0.192; 0.192; 0.192; 0.192; 0.192; 0.192; 0.192; 0.192; 0.192; 0.192; 0.192; 0.192; 0.192; 0.192; 0.192; 0.192; 0.192; 0.192; 0.192; 0.192; 0.192; 0.192; 0.192; 0.192; 0.192; 0.192; 0.192; 0.192; 0.192; 0.192; 0.192; 0.192; 0.192; 0.192; 0.192; 0.192; 0.192; 0.192; 0.192; 0.192; 0.192; 0.192; 0.192; 0.192; 0.192; 0.192; 0.192; 0.192; 0.192; 0.192; 0.192; 0.192; 0.192; 0.192; 0.192; 0.192; 0.192; 0.192; 0.192; 0.192; 0.192; 0.192; 0.192; 0.192; 0.192; 0.192; 0.192; 0.192; 0.192; 0.192; 0.192; 0.192; 0.192; 0.192; 0.192; 0.192; 0.192; 0.192; 0.192; 0.192; 0.192; 0.192; 0.192; 0.192; 0.192; 0.192; 0.192; 0.192; 0.192; 0.192; 0.192; 0.192; 0.192; 0.192; 0.192; 0.192; 0.192; 0.192; 0.192; 0.192; 0.192; 0.192; 0.192; 0.192; 0.192; 0.192; 0.192; 0.192; 0.192; 0.192; 0.192; 0.192; 0.192; 0.192; 0.192; 0.192; 0.192; 0.192; 0.192; 0.192; 0.192; 0.192; 0.192; 0.192; 0.192; 0.192; 0.192; 0.192; 0.192; 0.192; 0.192; 0.192; 0.192; 0.192; 0.192; 0.192; 0.192; 0.192; 0.192; 0.192; 0.192; 0.192; 0.192; 0.192; 0.192; 0.192; 0.192; 0.192; 0.192; 0.192; 0.192; 0.192; 0.192; 0.192; 0.192; 0.192; 0.192; 0.192; 0.192; 0.192; 0.192; 0.192; 0.192; 0.192; 0.192; 0.192; 0.192; 0.192; 0.192; 0.192; 0.192; 0.192; 0.192; 0.192; 0.192; 0.192; 0.192; 0.192; 0.192; 0.192; 0.192; 0.192; 0.192; 0.192; 0.192; 0.192; 0.192; 0.192; 0.192; 0.192; 0.192; 0.192; 0.192; 0.192; 0.192; 0.192; 0.192; 0.192; 0.192; 0.192; 0.192; 0.192; 0.192; 0.192; 0.192; 0.192; 0.192; 0.192; 0.192; 0.192; 0.192; 0.192; 0.192; 0.192; 0.192; 0.192; 0.192; 0.192; 0.192; 0.192; 0.192; 0.192; 0.192; 0.192; 0.192; 0.192; 0.192; 0.192; 0.192; 0.192; 0.192; 0.192; 0.192; 0.192; 0.192; 0.192; 0.192; 0.192; 0.192; 0.192; 0.192; 0.192; 0.192; 0.192; 0.192; 0.192; 0.192; 0.192; 0.192; 0.192; 0.192; 0.192; 0.192; 0.192; 0.192; 0.192; 0.192; 0.192; 0.192; 0.192; 0.192; 0.192; 0.192; 0.192; 0.192; 0.192; 0.192; 0.192; 0.192; 0.192; 0.192; 0.192; 0.192; 0.192; 0.192; 0.192; 0.192; 0.192; 0.192; 0.192; 0.192; 0.192; 0.192; 0.192; 0.192; 0.192; 0.192; 0.192; 0.192; 0.192; 0.192; 0.192; 0.192; 0.192; 0.192; 0.192; 0.192; 0.192; 0.192; 0.192; 0.192; 0.192; 0.192; 0.192; 0.192; 0.192; 0.192; 0.192; 0.192; 0.192; 0.192; 0.192; 0.192; 0.192; 0.192; 0.192; 0.192; 0.192; 0.192; 0.192; 0.192; 0.192; 0.192; 0.192; 0.192; 0.192; 0.192; 0.192; 0.192; 0.192; 0.192; 0.192; 0.192; 0.192; 0.192; 0.192; 0.192; 0.192; 0.192; 0.192; 0.192; 0.192; 0.192; 0.192; 0.192; 0.192; 0.192; 0.192; 0.192; 0.192; 0.192; 0.192; 0.192; 0.192; 0.192; 0.192; 0.192; 0.192; 0.192; 0.192; 0.192; 0.192; 0.192; 0.192; 0.192; 0.192; 0.192; 0.192; 0.192; 0.192; 0.192; 0.192; 0.192; 0.192; 0.192; 0.192; 0.192; 0.192; 0.192; 0.192; 0.192; 0.192; 0.192; 0.192; 0.192; 0.192; 0.192; 0.192; 0.192; 0.192; 0.192; 0.192; 0.192; 0.192; 0.192; 0.192; 0.192; 0.192; 0.192; 0.192; 0.192; 0.192; 0.192; 0.192; 0.192; 0.192; 0.192; 0.192; 0.192; 0.192; 0.192; 0.192; 0.192; 0.192; 0.192; 0.192; 0.192; 0.192; 0.192; 0.192; 0.192; 0.192; 0.192; 0.192; 0.192; 0.192; 0.192; 0.192; 0.192; 0.192; 0.192; 0.192; 0.192; 0.192; 0.192; 0.192; 0.192; 0.192; 0.192; 0.192; 0.192; 0.192; 0.192; 0.192; 0.192; 0.192; 0.192; 0.192; 0.192; 0.192; 0.192; 0.192; 0.192; 0.192; 0.192; 0.192; 0.192; 0.192; 0.192; 0.192; 0.192; 0.192; 0.192; 0.192; 0.192; 0.192; 0.192; 0.192; 0.192; 0.192; 0.192; 0.192; 0.192; 0.192; 0.192; 0.192; 0.192; 0.192; 0.192; 0.192; 0.192; 0.192; 0.192; 0.192; 0.192; 0.192; 0.192; 0.192; 0.192; 0.192; 0.192; 0.192; 0.192; 0.192; 0.192; 0.192; 0.192; 0.192; 0.192; 0.192; 0.192; 0.192; 0.192; 0.192; 0.192; 0.192; 0.192; 0.192; 0.192; 0.192; 0.192; 0.192; 0.192; 0.192; 0.192; 0.192; 0.192; 0.192; 0.192; 0.192; 0.192; 0.192; 0.192; 0.192; 0.192; 0.192; 0.192; 0.192; 0.192; 0.192; 0.192; 0.192; 0.192; 0.192; 0.192; 0.192; 0.192; 0.192; 0.192; 0.192; 0.192; 0.192; 0.192; 0.192; 0.192; 0.192; 0.192; 0.192; 0.192; 0.192; 0.192; 0.192; 0.192; 0.192; 0.192; 0.192; 0.192; 0.192; 0.192; 0.192; 0.192; 0.192; 0.192; 0.192; 0.192; 0.192; 0.192; 0.192; 0.192; 0.192; 0.192; 0.192; 0.192; 0.192; 0.192; 0.192; 0.192; 0.192; 0.192; 0.192; 0.192; 0.192; 0.192; 0.192; 0.192; 0.192; 0.192; 0.192; 0.192; 0.192; 0.192; 0.192; 0.192; 0.192; 0.192; 0.192; 0.192; 0.192; 0.192; 0.192; 0.192; 0.192; 0.192; 0.192; 0.192; 0.192; 0.192; 0.192; 0.192; 0.192; 0.192; 0.192; 0.192; 0.192; 0.192; 0.192; 0.192; 0.192; 0.192; 0.192; 0.192; 0.192; 0.192; 0.192; 0.192; 0.192; 0.192; 0.192; 0.192; 0.192; 0.192; 0.192; 0.192; 0.192; 0.192; 0.192; 0.192; 0.192; 0.192; 0.192; 0.192; 0.192; 0.192; 0.192; 0.192; 0.192; 0.192; 0.192; 0.192; 0.192; 0.192; 0.192; 0.192; 0.192; 0.192; 0.192; 0.192; 0.192; 0.192; 0.192; 0.192; 0.192; 0.192; 0.192; 0.192; 0.192; 0.192; 0.192; 0.192; 0.192; 0.192; 0.192; 0.192; 0.192; 0.192; 0.192; 0.192; 0.192; 0.192; 0.192; 0.192; 0.192; 0.192; 0.192; 0.192; 0.192; 0.192; 0.192; 0.192; 0.192; 0.192; 0.192; 0.192; 0.192; 0.192; 0.192; 0.192; 0.192; 0.192; 0.192; 0.192; 0.192; 0.192; 0.192; 0.192; 0.192; 0.192; 0.192; 0.192; 0.192; 0.192; 0.192; 0.192; 0.192; 0.192; 0.192; 0.192; 0.192; 0.192; 0.192; 0.192; 0.192; 0.192; 0.192; 0.192; 0.192; 0.192; 0.192; 0.192; 0.192; 0.192; 0.192; 0.192; 0.192; 0.192; 0.192; 0.192; 0.192; 0.192; 0.192; 0.192; 0.192; 0.192; 0.192; 0.192; 0.192; 0.192; 0.192; 0.192; 0.192; 0.192; 0.192; 0.192; 0.192; 0.192; 0.192; 0.192; 0.192; 0.192; 0.192; 0.192; 0.192; 0.192; 0.192; 0.192; 0.192; 0.192; 0.192; 0.192; 0.192; 0.192; 0.192; 0.192; 0.192; 0.192; 0.192; 0.192; 0.192; 0.192; 0.192; 0.192; 0.192; 0.192; 0.192; 0.192; 0.192; 0.192; 0.192; 0.192; 0.192; 0.192; 0.192; 0.192; 0.192; 0.192; 0.192; 0.192; 0.192; 0.192; 0.192; 0.192; 0.192; 0.192; 0.192; 0.192; 0.192; 0.192; 0.192; 0.192; 0.192; 0.192; 0.192; 0.192; 0.192; 0.192; 0.192; 0.192; 0.192; 0.192; 0.192; 0.192; 0.192; 0.192; 0.192; 0.192; 0.192; 0.192; 0.192; 0.192; 0.192; 0.192; 0.192; 0.192; 0.192; 0.192; 0.192; 0.192; 0.192; 0.192; 0.192; 0.192; 0.192; 0.192; 0.192; 0.192; 0.192; 0.192; 0.192; 0.192; 0.192; 0.192; 0.192; 0.192; 0.192; 0.192; 0.192; 0.192; 0.192; 0.192; 0.192; 0.192; 0.192; 0.192; 0.192; 0.192; 0.192; 0.192; 0.192; 0.192; 0.192; 0.192; 0.192; 0.192; 0.192; 0.192; 0.192; 0.192; 0.192; 0.192; 0.192; 0.192; 0.192; 0.192; 0.192; 0.192; 0.192; 0.192; 0.192; 0.192; 0.192; 0.192; 0.192; 0.192; 0.192; 0.192; 0.192; 0.192; 0.192; 0.192; 0.192; 0.192; 0.192; 0.192; 0.192; 0.192; 0.192; 0.192; 0.192; 0.192; 0.192; 0.192; 0.192; 0.192; 0.192; 0.192; 0.192; 0.192; 0.192; 0.192; 0.192; 0.192; 0.192; 0.192; 0.192; 0.192; 0.192; 0.192; 0.192; 0.192; 0.192; 0.192; 0.192; 0.192; 0.192; 0.192; 0.192; 0.192; 0.192; 0.192; 0.192; 0.192; 0.192; 0.192; 0.192; 0.192; 0.192; 0.192; 0.192; 0.192; 0.192; 0.192; 0.192; 0.192; 0.192; 0.192; 0.192; 0.192; 0.192; 0.192; 0.192; 0.192; 0.192; 0.192; 0.192; 0.192; 0.192; 0.192; 0.192; 0.192; 0.192; 0.192; 0.192; 0.192; 0.192; 0.192; 0.192; 0.192; 0.192; 0.192; 0.192; 0.192; 0.192; 0.192; 0.192; 0.192; 0.192; 0.192; 0.192; 0.192; 0.192; 0.192; 0.192; 0.192; 0.192; 0.192; 0.192; 0.192; 0.192; 0.192; 0.192; 0.192; 0.192; 0.192; 0.192; 0.192; 0.192; 0.192; 0.192; 0.192; 0.192; 0.192; 0.192; 0.192; 0.192; 0.192; 0.192; 0.192; 0.192; 0.192; 0.192; 0.192; 0.192; 0.192; 0.192; 0.192; 0.192; 0.192; 0.192; 0.192; 0.192; 0.192; 0.192; 0.192; 0.192; 0.192; 0.192; 0.192; 0.192; 0.192; 0.192; 0.192; 0.192; 0.192; 0.192; 0.192; 0.192; 0.192; 0.192; 0.192; 0.192; 0.192; 0.192; 0.192; 0.192; 0.192; 0.192; 0.192; 0.192; 0.192; 0.192; 0.192; 0.192; 0.192; 0.192; 0.192; 0.192; 0.192; 0.192; 0.192; 0.192; 0.192; 0.192; 0.192; 0.192; 0.192; 0.192; 0.192; 0.192; 0.192; 0.192; 0.192; 0.192; 0.192; 0.192; 0.192; 0.192; 0.192; 0.192; 0.192; 0.192; 0.192; 0.192; 0.192; 0.192; 0.192; 0.192; 0.192; 0.192; 0.192; 0.192; 0.192; 0.192; 0.192; 0.192; 0.192; 0.192; 0.192; 0.192; 0.192; 0.192; 0.192; 0.192; 0.192; 0.192; 0.192; 0.192; 0.192; 0.192; 0.192; 0.192; 0.192; 0.192; 0.192; 0.192; 0.192; 0.192; 0.192; 0.192; 0.192; 0.192; 0.192; 0.192; 0.192; 0.192; 0.192; 0.192; 0.192; 0.192; 0.192; 0.192; 0.192; 0.192; 0.192; 0.192; 0.192; 0.192; 0.192; 0.192; 0.192; 0.192; 0.192; 0.192; 0.192; 0.192; 0.192; 0.192; 0.192; 0.192; 0.192; 0.192; 0.192; 0.192; 0.192; 0.192; 0.192; 0.192; 0.192; 0.192; 0.192; 0.192; 0.192; 0.192; 0.192; 0.192; 0.192; 0.192; 0.192; 0.192; 0.192; 0.192; 0.192; 0.192; 0.192; 0.192; 0.192; 0.192; 0.192; 0.192; 0.192; 0.192; 0.192; 0.192; 0.192; 0.192; 0.192; 0.192; 0.192; 0.192; 0.192; 0.192; 0.192; 0.192; 0.192; 0.192; 0.192; 0.192; 0.192; 0.192; 0.192; 0.192; 0.192; 0.192; 0.192; 0.192; 0.192; 0.192; 0.192; 0.192; 0.192; 0.192; 0.192; 0.192; 0.192; 0.192; 0.192; 0.192; 0.192; 0.192; 0.192; 0.192; 0.192; 0.192; 0.192; 0.192; 0.192; 0.192; 0.192; 0.192; 0.192; 0.192; 0.192; 0.192; 0.192; 0.192; 0.192; 0.192; 0.192; 0.192; 0.192; 0.192; 0.192; 0.192; 0.192; 0.192; 0.192; 0.192; 0.192; 0.192; 0.192; 0.192; 0.192; 0.192; 0.192; 0.192; 0.192; 0.192; 0.192; 0.192; 0.192; 0.192; 0.192; 0.192; 0.192; 0.192; 0.192; 0.192; 0.192; 0.192; 0.192; 0.192; 0.192; 0.192; 0.192; 0.192; 0.192; 0.192; 0.192; 0.192; 0.192; 0.192; 0.192; 0.192; 0.192; 0.192; 0.192; 0.192; 0.192; 0.192; 0.192; 0.192; "
          ]
        }
      ]
    },
    {
      "cell_type": "markdown",
      "source": [
        "...and check its accuracy:"
      ],
      "metadata": {
        "id": "ZYJxY-oK20R6"
      }
    },
    {
      "cell_type": "code",
      "source": [
        "acc(coeffs)"
      ],
      "metadata": {
        "execution": {
          "iopub.status.busy": "2022-05-30T22:41:25.490656Z",
          "iopub.execute_input": "2022-05-30T22:41:25.491182Z",
          "iopub.status.idle": "2022-05-30T22:41:25.497888Z",
          "shell.execute_reply.started": "2022-05-30T22:41:25.491146Z",
          "shell.execute_reply": "2022-05-30T22:41:25.49695Z"
        },
        "trusted": true,
        "colab": {
          "base_uri": "https://localhost:8080/"
        },
        "id": "pprV2D5W20R6",
        "outputId": "559a1101-01e9-406d-be11-0a67e9edc4e2"
      },
      "execution_count": null,
      "outputs": [
        {
          "output_type": "execute_result",
          "data": {
            "text/plain": [
              "tensor(0.8258)"
            ]
          },
          "metadata": {},
          "execution_count": 124
        }
      ]
    },
    {
      "cell_type": "markdown",
      "source": [
        "## Final thoughts"
      ],
      "metadata": {
        "id": "G2D4QozY20R6"
      }
    },
    {
      "cell_type": "markdown",
      "source": [
        "It's actually pretty cool that we've managed to create a real deep learning model from scratch and trained it to get over 80% accuracy on this task, all in the course of a single notebook!\n",
        "\n",
        "The \"real\" deep learning models that are used in research and industry look very similar to this, and in fact if you look inside the source code of any deep learning model you'll recognise the basic steps are the same.\n",
        "\n",
        "The biggest differences in practical models to what we have above are:\n",
        "\n",
        "- How initialisation and normalisation is done to ensure the model trains correctly every time\n",
        "- Regularization (to avoid over-fitting)\n",
        "- Modifying the neural net itself to take advantage of knowledge of the problem domain\n",
        "- Doing gradient descent steps on smaller batches, rather than the whole dataset."
      ],
      "metadata": {
        "id": "FrPsGG6c20R6"
      }
    },
    {
      "cell_type": "markdown",
      "source": [
        "Citations: Jeremy Howard, Kaggle, Titanic Competition"
      ],
      "metadata": {
        "id": "DVNyisnG5ftF"
      }
    },
    {
      "cell_type": "code",
      "source": [],
      "metadata": {
        "id": "LLANJPU45gi0"
      },
      "execution_count": null,
      "outputs": []
    }
  ]
}